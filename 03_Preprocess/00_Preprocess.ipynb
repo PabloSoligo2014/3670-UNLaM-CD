{
 "cells": [
  {
   "cell_type": "markdown",
   "metadata": {},
   "source": [
    "# Preprocesamiento"
   ]
  },
  {
   "cell_type": "markdown",
   "metadata": {},
   "source": []
  },
  {
   "cell_type": "code",
   "execution_count": 17,
   "metadata": {},
   "outputs": [],
   "source": [
    "import pandas as pd\n",
    "import numpy as np\n",
    "import matplotlib.pyplot as plt\n",
    "from sklearn.preprocessing import OrdinalEncoder, OneHotEncoder, LabelEncoder\n",
    "import seaborn as sns\n",
    "import sys\n",
    "#sys.path.append('../Code')\n",
    "#from Plots import boxplotAndHist\n"
   ]
  },
  {
   "cell_type": "markdown",
   "metadata": {},
   "source": [
    "### Eliminado"
   ]
  },
  {
   "cell_type": "markdown",
   "metadata": {},
   "source": [
    "#### Duplicados"
   ]
  },
  {
   "cell_type": "markdown",
   "metadata": {},
   "source": [
    "Tenemos 5 duplicados"
   ]
  },
  {
   "cell_type": "code",
   "execution_count": 18,
   "metadata": {},
   "outputs": [
    {
     "name": "stdout",
     "output_type": "stream",
     "text": [
      "Cantidad: 5\n"
     ]
    }
   ],
   "source": [
    "df = pd.read_csv(\"../datasets/synthetic.csv\")\n",
    "print(\"Cantidad:\",  df.duplicated().sum())\n"
   ]
  },
  {
   "cell_type": "markdown",
   "metadata": {},
   "source": [
    "Los eliminamos \"inplace\", es decir no se retorna una vista del dataset"
   ]
  },
  {
   "cell_type": "code",
   "execution_count": 19,
   "metadata": {},
   "outputs": [],
   "source": [
    "df.drop_duplicates(inplace=True)\n"
   ]
  },
  {
   "cell_type": "markdown",
   "metadata": {},
   "source": [
    "#### Indice"
   ]
  },
  {
   "cell_type": "markdown",
   "metadata": {},
   "source": [
    "Si la naturaleza de los datos me lo permite puedo transformar id en indice del dataframe"
   ]
  },
  {
   "cell_type": "code",
   "execution_count": 20,
   "metadata": {},
   "outputs": [
    {
     "data": {
      "text/html": [
       "<div>\n",
       "<style scoped>\n",
       "    .dataframe tbody tr th:only-of-type {\n",
       "        vertical-align: middle;\n",
       "    }\n",
       "\n",
       "    .dataframe tbody tr th {\n",
       "        vertical-align: top;\n",
       "    }\n",
       "\n",
       "    .dataframe thead th {\n",
       "        text-align: right;\n",
       "    }\n",
       "</style>\n",
       "<table border=\"1\" class=\"dataframe\">\n",
       "  <thead>\n",
       "    <tr style=\"text-align: right;\">\n",
       "      <th></th>\n",
       "      <th>id</th>\n",
       "      <th>Weight</th>\n",
       "      <th>Heigth</th>\n",
       "      <th>CorrPar01</th>\n",
       "      <th>CorrPar02</th>\n",
       "      <th>CorrTot01</th>\n",
       "      <th>CorrTot02</th>\n",
       "      <th>column90PercentNulls</th>\n",
       "      <th>columnBarValues</th>\n",
       "      <th>columnTwoNulls</th>\n",
       "      <th>SomeNulls</th>\n",
       "      <th>columnOutliers</th>\n",
       "      <th>Salary</th>\n",
       "      <th>ActStatus</th>\n",
       "      <th>date</th>\n",
       "    </tr>\n",
       "  </thead>\n",
       "  <tbody>\n",
       "    <tr>\n",
       "      <th>0</th>\n",
       "      <td>1</td>\n",
       "      <td>64.184087</td>\n",
       "      <td>168.070999</td>\n",
       "      <td>0.999034</td>\n",
       "      <td>30.903812</td>\n",
       "      <td>-2.260001</td>\n",
       "      <td>-178.898457</td>\n",
       "      <td>NaN</td>\n",
       "      <td>50.998150</td>\n",
       "      <td>100.148133</td>\n",
       "      <td>97.131918</td>\n",
       "      <td>1606.049621</td>\n",
       "      <td>NaN</td>\n",
       "      <td>CUENTAPROPISTA</td>\n",
       "      <td>2023-01-18</td>\n",
       "    </tr>\n",
       "    <tr>\n",
       "      <th>1</th>\n",
       "      <td>2</td>\n",
       "      <td>46.126412</td>\n",
       "      <td>181.077266</td>\n",
       "      <td>-0.677798</td>\n",
       "      <td>-95.246768</td>\n",
       "      <td>0.339275</td>\n",
       "      <td>26.856515</td>\n",
       "      <td>NaN</td>\n",
       "      <td>49.420113</td>\n",
       "      <td>94.742504</td>\n",
       "      <td>NaN</td>\n",
       "      <td>1287.601872</td>\n",
       "      <td>1258.474418</td>\n",
       "      <td>CUENTAPROPISTA</td>\n",
       "      <td>2023-12-12</td>\n",
       "    </tr>\n",
       "    <tr>\n",
       "      <th>2</th>\n",
       "      <td>3</td>\n",
       "      <td>69.063778</td>\n",
       "      <td>152.707241</td>\n",
       "      <td>-0.231849</td>\n",
       "      <td>5.635023</td>\n",
       "      <td>-0.658232</td>\n",
       "      <td>-52.104707</td>\n",
       "      <td>NaN</td>\n",
       "      <td>50.370909</td>\n",
       "      <td>102.491667</td>\n",
       "      <td>116.824604</td>\n",
       "      <td>1027.802696</td>\n",
       "      <td>515.504684</td>\n",
       "      <td>CUENTAPROPISTA</td>\n",
       "      <td>2023-08-18</td>\n",
       "    </tr>\n",
       "    <tr>\n",
       "      <th>3</th>\n",
       "      <td>4</td>\n",
       "      <td>66.387157</td>\n",
       "      <td>167.112693</td>\n",
       "      <td>1.510159</td>\n",
       "      <td>137.983091</td>\n",
       "      <td>0.480864</td>\n",
       "      <td>38.064474</td>\n",
       "      <td>NaN</td>\n",
       "      <td>50.773667</td>\n",
       "      <td>95.569450</td>\n",
       "      <td>118.940471</td>\n",
       "      <td>310.666079</td>\n",
       "      <td>NaN</td>\n",
       "      <td>EMPLEADO</td>\n",
       "      <td>2023-11-28</td>\n",
       "    </tr>\n",
       "    <tr>\n",
       "      <th>4</th>\n",
       "      <td>5</td>\n",
       "      <td>51.474388</td>\n",
       "      <td>164.994484</td>\n",
       "      <td>0.104447</td>\n",
       "      <td>31.914088</td>\n",
       "      <td>0.002291</td>\n",
       "      <td>0.181320</td>\n",
       "      <td>NaN</td>\n",
       "      <td>47.119344</td>\n",
       "      <td>101.490901</td>\n",
       "      <td>94.929601</td>\n",
       "      <td>560.070216</td>\n",
       "      <td>531.010266</td>\n",
       "      <td>EMPLEADO</td>\n",
       "      <td>2023-06-30</td>\n",
       "    </tr>\n",
       "  </tbody>\n",
       "</table>\n",
       "</div>"
      ],
      "text/plain": [
       "   id     Weight      Heigth  CorrPar01   CorrPar02  CorrTot01   CorrTot02  \\\n",
       "0   1  64.184087  168.070999   0.999034   30.903812  -2.260001 -178.898457   \n",
       "1   2  46.126412  181.077266  -0.677798  -95.246768   0.339275   26.856515   \n",
       "2   3  69.063778  152.707241  -0.231849    5.635023  -0.658232  -52.104707   \n",
       "3   4  66.387157  167.112693   1.510159  137.983091   0.480864   38.064474   \n",
       "4   5  51.474388  164.994484   0.104447   31.914088   0.002291    0.181320   \n",
       "\n",
       "   column90PercentNulls  columnBarValues  columnTwoNulls   SomeNulls  \\\n",
       "0                   NaN        50.998150      100.148133   97.131918   \n",
       "1                   NaN        49.420113       94.742504         NaN   \n",
       "2                   NaN        50.370909      102.491667  116.824604   \n",
       "3                   NaN        50.773667       95.569450  118.940471   \n",
       "4                   NaN        47.119344      101.490901   94.929601   \n",
       "\n",
       "   columnOutliers       Salary       ActStatus        date  \n",
       "0     1606.049621          NaN  CUENTAPROPISTA  2023-01-18  \n",
       "1     1287.601872  1258.474418  CUENTAPROPISTA  2023-12-12  \n",
       "2     1027.802696   515.504684  CUENTAPROPISTA  2023-08-18  \n",
       "3      310.666079          NaN        EMPLEADO  2023-11-28  \n",
       "4      560.070216   531.010266        EMPLEADO  2023-06-30  "
      ]
     },
     "execution_count": 20,
     "metadata": {},
     "output_type": "execute_result"
    }
   ],
   "source": [
    "df.head()"
   ]
  },
  {
   "cell_type": "code",
   "execution_count": 21,
   "metadata": {},
   "outputs": [],
   "source": [
    "df.set_index(\"id\", inplace=True)"
   ]
  },
  {
   "cell_type": "code",
   "execution_count": 22,
   "metadata": {},
   "outputs": [
    {
     "data": {
      "text/html": [
       "<div>\n",
       "<style scoped>\n",
       "    .dataframe tbody tr th:only-of-type {\n",
       "        vertical-align: middle;\n",
       "    }\n",
       "\n",
       "    .dataframe tbody tr th {\n",
       "        vertical-align: top;\n",
       "    }\n",
       "\n",
       "    .dataframe thead th {\n",
       "        text-align: right;\n",
       "    }\n",
       "</style>\n",
       "<table border=\"1\" class=\"dataframe\">\n",
       "  <thead>\n",
       "    <tr style=\"text-align: right;\">\n",
       "      <th></th>\n",
       "      <th>Weight</th>\n",
       "      <th>Heigth</th>\n",
       "      <th>CorrPar01</th>\n",
       "      <th>CorrPar02</th>\n",
       "      <th>CorrTot01</th>\n",
       "      <th>CorrTot02</th>\n",
       "      <th>column90PercentNulls</th>\n",
       "      <th>columnBarValues</th>\n",
       "      <th>columnTwoNulls</th>\n",
       "      <th>SomeNulls</th>\n",
       "      <th>columnOutliers</th>\n",
       "      <th>Salary</th>\n",
       "      <th>ActStatus</th>\n",
       "      <th>date</th>\n",
       "    </tr>\n",
       "    <tr>\n",
       "      <th>id</th>\n",
       "      <th></th>\n",
       "      <th></th>\n",
       "      <th></th>\n",
       "      <th></th>\n",
       "      <th></th>\n",
       "      <th></th>\n",
       "      <th></th>\n",
       "      <th></th>\n",
       "      <th></th>\n",
       "      <th></th>\n",
       "      <th></th>\n",
       "      <th></th>\n",
       "      <th></th>\n",
       "      <th></th>\n",
       "    </tr>\n",
       "  </thead>\n",
       "  <tbody>\n",
       "    <tr>\n",
       "      <th>1</th>\n",
       "      <td>64.184087</td>\n",
       "      <td>168.070999</td>\n",
       "      <td>0.999034</td>\n",
       "      <td>30.903812</td>\n",
       "      <td>-2.260001</td>\n",
       "      <td>-178.898457</td>\n",
       "      <td>NaN</td>\n",
       "      <td>50.998150</td>\n",
       "      <td>100.148133</td>\n",
       "      <td>97.131918</td>\n",
       "      <td>1606.049621</td>\n",
       "      <td>NaN</td>\n",
       "      <td>CUENTAPROPISTA</td>\n",
       "      <td>2023-01-18</td>\n",
       "    </tr>\n",
       "    <tr>\n",
       "      <th>2</th>\n",
       "      <td>46.126412</td>\n",
       "      <td>181.077266</td>\n",
       "      <td>-0.677798</td>\n",
       "      <td>-95.246768</td>\n",
       "      <td>0.339275</td>\n",
       "      <td>26.856515</td>\n",
       "      <td>NaN</td>\n",
       "      <td>49.420113</td>\n",
       "      <td>94.742504</td>\n",
       "      <td>NaN</td>\n",
       "      <td>1287.601872</td>\n",
       "      <td>1258.474418</td>\n",
       "      <td>CUENTAPROPISTA</td>\n",
       "      <td>2023-12-12</td>\n",
       "    </tr>\n",
       "    <tr>\n",
       "      <th>3</th>\n",
       "      <td>69.063778</td>\n",
       "      <td>152.707241</td>\n",
       "      <td>-0.231849</td>\n",
       "      <td>5.635023</td>\n",
       "      <td>-0.658232</td>\n",
       "      <td>-52.104707</td>\n",
       "      <td>NaN</td>\n",
       "      <td>50.370909</td>\n",
       "      <td>102.491667</td>\n",
       "      <td>116.824604</td>\n",
       "      <td>1027.802696</td>\n",
       "      <td>515.504684</td>\n",
       "      <td>CUENTAPROPISTA</td>\n",
       "      <td>2023-08-18</td>\n",
       "    </tr>\n",
       "    <tr>\n",
       "      <th>4</th>\n",
       "      <td>66.387157</td>\n",
       "      <td>167.112693</td>\n",
       "      <td>1.510159</td>\n",
       "      <td>137.983091</td>\n",
       "      <td>0.480864</td>\n",
       "      <td>38.064474</td>\n",
       "      <td>NaN</td>\n",
       "      <td>50.773667</td>\n",
       "      <td>95.569450</td>\n",
       "      <td>118.940471</td>\n",
       "      <td>310.666079</td>\n",
       "      <td>NaN</td>\n",
       "      <td>EMPLEADO</td>\n",
       "      <td>2023-11-28</td>\n",
       "    </tr>\n",
       "    <tr>\n",
       "      <th>5</th>\n",
       "      <td>51.474388</td>\n",
       "      <td>164.994484</td>\n",
       "      <td>0.104447</td>\n",
       "      <td>31.914088</td>\n",
       "      <td>0.002291</td>\n",
       "      <td>0.181320</td>\n",
       "      <td>NaN</td>\n",
       "      <td>47.119344</td>\n",
       "      <td>101.490901</td>\n",
       "      <td>94.929601</td>\n",
       "      <td>560.070216</td>\n",
       "      <td>531.010266</td>\n",
       "      <td>EMPLEADO</td>\n",
       "      <td>2023-06-30</td>\n",
       "    </tr>\n",
       "    <tr>\n",
       "      <th>...</th>\n",
       "      <td>...</td>\n",
       "      <td>...</td>\n",
       "      <td>...</td>\n",
       "      <td>...</td>\n",
       "      <td>...</td>\n",
       "      <td>...</td>\n",
       "      <td>...</td>\n",
       "      <td>...</td>\n",
       "      <td>...</td>\n",
       "      <td>...</td>\n",
       "      <td>...</td>\n",
       "      <td>...</td>\n",
       "      <td>...</td>\n",
       "      <td>...</td>\n",
       "    </tr>\n",
       "    <tr>\n",
       "      <th>99996</th>\n",
       "      <td>80.812405</td>\n",
       "      <td>162.298880</td>\n",
       "      <td>-0.487590</td>\n",
       "      <td>8.636176</td>\n",
       "      <td>-0.380172</td>\n",
       "      <td>-30.093845</td>\n",
       "      <td>81.541661</td>\n",
       "      <td>50.839795</td>\n",
       "      <td>107.914738</td>\n",
       "      <td>106.391526</td>\n",
       "      <td>569.937437</td>\n",
       "      <td>907.569605</td>\n",
       "      <td>EMPLEADO</td>\n",
       "      <td>2023-10-07</td>\n",
       "    </tr>\n",
       "    <tr>\n",
       "      <th>99997</th>\n",
       "      <td>82.283450</td>\n",
       "      <td>143.656330</td>\n",
       "      <td>-0.443179</td>\n",
       "      <td>-29.377357</td>\n",
       "      <td>-1.340866</td>\n",
       "      <td>-106.141037</td>\n",
       "      <td>80.101249</td>\n",
       "      <td>48.483392</td>\n",
       "      <td>99.690116</td>\n",
       "      <td>84.237174</td>\n",
       "      <td>298.609019</td>\n",
       "      <td>NaN</td>\n",
       "      <td>EMPLEADO</td>\n",
       "      <td>2023-08-22</td>\n",
       "    </tr>\n",
       "    <tr>\n",
       "      <th>99998</th>\n",
       "      <td>52.868150</td>\n",
       "      <td>154.427998</td>\n",
       "      <td>-0.173886</td>\n",
       "      <td>-17.018994</td>\n",
       "      <td>0.576220</td>\n",
       "      <td>45.612768</td>\n",
       "      <td>77.606600</td>\n",
       "      <td>50.729594</td>\n",
       "      <td>103.494936</td>\n",
       "      <td>112.868293</td>\n",
       "      <td>411.169340</td>\n",
       "      <td>1513.565985</td>\n",
       "      <td>EMPLEADO</td>\n",
       "      <td>2023-06-17</td>\n",
       "    </tr>\n",
       "    <tr>\n",
       "      <th>99999</th>\n",
       "      <td>71.395361</td>\n",
       "      <td>163.417689</td>\n",
       "      <td>1.421630</td>\n",
       "      <td>79.198291</td>\n",
       "      <td>0.411294</td>\n",
       "      <td>32.557444</td>\n",
       "      <td>83.213129</td>\n",
       "      <td>49.356004</td>\n",
       "      <td>90.393533</td>\n",
       "      <td>NaN</td>\n",
       "      <td>544.963700</td>\n",
       "      <td>595.750246</td>\n",
       "      <td>EMPLEADO</td>\n",
       "      <td>2023-01-12</td>\n",
       "    </tr>\n",
       "    <tr>\n",
       "      <th>100000</th>\n",
       "      <td>79.641946</td>\n",
       "      <td>179.223903</td>\n",
       "      <td>0.482233</td>\n",
       "      <td>30.319151</td>\n",
       "      <td>-0.441826</td>\n",
       "      <td>-34.974291</td>\n",
       "      <td>75.221888</td>\n",
       "      <td>49.784287</td>\n",
       "      <td>84.684196</td>\n",
       "      <td>88.801206</td>\n",
       "      <td>640.697881</td>\n",
       "      <td>1465.231801</td>\n",
       "      <td>CUENTAPROPISTA</td>\n",
       "      <td>2023-06-28</td>\n",
       "    </tr>\n",
       "  </tbody>\n",
       "</table>\n",
       "<p>100000 rows × 14 columns</p>\n",
       "</div>"
      ],
      "text/plain": [
       "           Weight      Heigth  CorrPar01   CorrPar02  CorrTot01   CorrTot02  \\\n",
       "id                                                                            \n",
       "1       64.184087  168.070999   0.999034   30.903812  -2.260001 -178.898457   \n",
       "2       46.126412  181.077266  -0.677798  -95.246768   0.339275   26.856515   \n",
       "3       69.063778  152.707241  -0.231849    5.635023  -0.658232  -52.104707   \n",
       "4       66.387157  167.112693   1.510159  137.983091   0.480864   38.064474   \n",
       "5       51.474388  164.994484   0.104447   31.914088   0.002291    0.181320   \n",
       "...           ...         ...        ...         ...        ...         ...   \n",
       "99996   80.812405  162.298880  -0.487590    8.636176  -0.380172  -30.093845   \n",
       "99997   82.283450  143.656330  -0.443179  -29.377357  -1.340866 -106.141037   \n",
       "99998   52.868150  154.427998  -0.173886  -17.018994   0.576220   45.612768   \n",
       "99999   71.395361  163.417689   1.421630   79.198291   0.411294   32.557444   \n",
       "100000  79.641946  179.223903   0.482233   30.319151  -0.441826  -34.974291   \n",
       "\n",
       "        column90PercentNulls  columnBarValues  columnTwoNulls   SomeNulls  \\\n",
       "id                                                                          \n",
       "1                        NaN        50.998150      100.148133   97.131918   \n",
       "2                        NaN        49.420113       94.742504         NaN   \n",
       "3                        NaN        50.370909      102.491667  116.824604   \n",
       "4                        NaN        50.773667       95.569450  118.940471   \n",
       "5                        NaN        47.119344      101.490901   94.929601   \n",
       "...                      ...              ...             ...         ...   \n",
       "99996              81.541661        50.839795      107.914738  106.391526   \n",
       "99997              80.101249        48.483392       99.690116   84.237174   \n",
       "99998              77.606600        50.729594      103.494936  112.868293   \n",
       "99999              83.213129        49.356004       90.393533         NaN   \n",
       "100000             75.221888        49.784287       84.684196   88.801206   \n",
       "\n",
       "        columnOutliers       Salary       ActStatus        date  \n",
       "id                                                               \n",
       "1          1606.049621          NaN  CUENTAPROPISTA  2023-01-18  \n",
       "2          1287.601872  1258.474418  CUENTAPROPISTA  2023-12-12  \n",
       "3          1027.802696   515.504684  CUENTAPROPISTA  2023-08-18  \n",
       "4           310.666079          NaN        EMPLEADO  2023-11-28  \n",
       "5           560.070216   531.010266        EMPLEADO  2023-06-30  \n",
       "...                ...          ...             ...         ...  \n",
       "99996       569.937437   907.569605        EMPLEADO  2023-10-07  \n",
       "99997       298.609019          NaN        EMPLEADO  2023-08-22  \n",
       "99998       411.169340  1513.565985        EMPLEADO  2023-06-17  \n",
       "99999       544.963700   595.750246        EMPLEADO  2023-01-12  \n",
       "100000      640.697881  1465.231801  CUENTAPROPISTA  2023-06-28  \n",
       "\n",
       "[100000 rows x 14 columns]"
      ]
     },
     "execution_count": 22,
     "metadata": {},
     "output_type": "execute_result"
    }
   ],
   "source": [
    "df"
   ]
  },
  {
   "cell_type": "markdown",
   "metadata": {},
   "source": [
    "#### Nulos"
   ]
  },
  {
   "cell_type": "markdown",
   "metadata": {},
   "source": [
    "Cuantos Nulos tenemos"
   ]
  },
  {
   "cell_type": "code",
   "execution_count": 23,
   "metadata": {},
   "outputs": [
    {
     "data": {
      "text/plain": [
       "Weight                   0.000\n",
       "Heigth                   0.000\n",
       "CorrPar01                0.000\n",
       "CorrPar02                0.000\n",
       "CorrTot01                0.000\n",
       "CorrTot02                0.000\n",
       "column90PercentNulls    90.000\n",
       "columnBarValues          0.000\n",
       "columnTwoNulls           0.002\n",
       "SomeNulls               10.000\n",
       "columnOutliers           0.000\n",
       "Salary                  40.000\n",
       "ActStatus                5.000\n",
       "date                     0.000\n",
       "dtype: float64"
      ]
     },
     "execution_count": 23,
     "metadata": {},
     "output_type": "execute_result"
    }
   ],
   "source": [
    "df.isna().sum()/df.shape[0]*100"
   ]
  },
  {
   "cell_type": "markdown",
   "metadata": {},
   "source": [
    "La columna \"column90PercentNulls\" tienen una cantidad muy alta de nulos. Tiendo a pensar en eliminarla o, si presupongo que hay informacion en los faltantes (Son nulos porque no quisieron contestar entonces puede crear nueva columna). Si es simplemente mala calidad de datos y con numero tan grande me inclino por eliminarla. "
   ]
  },
  {
   "cell_type": "code",
   "execution_count": 24,
   "metadata": {},
   "outputs": [
    {
     "data": {
      "text/plain": [
       "Weight                   0.000\n",
       "Heigth                   0.000\n",
       "CorrPar01                0.000\n",
       "CorrPar02                0.000\n",
       "CorrTot01                0.000\n",
       "CorrTot02                0.000\n",
       "column90PercentNulls    90.000\n",
       "columnBarValues          0.000\n",
       "columnTwoNulls           0.002\n",
       "SomeNulls               10.000\n",
       "columnOutliers           0.000\n",
       "Salary                  40.000\n",
       "ActStatus                5.000\n",
       "date                     0.000\n",
       "dtype: float64"
      ]
     },
     "execution_count": 24,
     "metadata": {},
     "output_type": "execute_result"
    }
   ],
   "source": [
    "df.isna().sum()/df.shape[0]*100"
   ]
  },
  {
   "cell_type": "code",
   "execution_count": 25,
   "metadata": {},
   "outputs": [],
   "source": [
    "#Elimino la columna con 90% de nulos y las dos filas con nulos.\n",
    "df.drop(columns=[\"column90PercentNulls\"], inplace=True)\n"
   ]
  },
  {
   "cell_type": "markdown",
   "metadata": {},
   "source": [
    "La columna que tiene unicamente 2 valores en nulo, le elimino los valores. Si, estoy perdiendo información, ¿Seria mejor imputarlos? Posiblemente."
   ]
  },
  {
   "cell_type": "code",
   "execution_count": 26,
   "metadata": {},
   "outputs": [],
   "source": [
    "df = df[~df[\"columnTwoNulls\"].isna()]\n",
    "#Solucion problema =>\n",
    "#df = df[~df[\"columnTwoNulls\"].isna()].copy()\n"
   ]
  },
  {
   "cell_type": "markdown",
   "metadata": {},
   "source": [
    "Imputamos \"Somenulls\" utilizando media. Otras alternativas disponibles \"median\" y \"most_frequent\""
   ]
  },
  {
   "cell_type": "code",
   "execution_count": 27,
   "metadata": {},
   "outputs": [
    {
     "data": {
      "text/html": [
       "<style>#sk-container-id-2 {\n",
       "  /* Definition of color scheme common for light and dark mode */\n",
       "  --sklearn-color-text: black;\n",
       "  --sklearn-color-line: gray;\n",
       "  /* Definition of color scheme for unfitted estimators */\n",
       "  --sklearn-color-unfitted-level-0: #fff5e6;\n",
       "  --sklearn-color-unfitted-level-1: #f6e4d2;\n",
       "  --sklearn-color-unfitted-level-2: #ffe0b3;\n",
       "  --sklearn-color-unfitted-level-3: chocolate;\n",
       "  /* Definition of color scheme for fitted estimators */\n",
       "  --sklearn-color-fitted-level-0: #f0f8ff;\n",
       "  --sklearn-color-fitted-level-1: #d4ebff;\n",
       "  --sklearn-color-fitted-level-2: #b3dbfd;\n",
       "  --sklearn-color-fitted-level-3: cornflowerblue;\n",
       "\n",
       "  /* Specific color for light theme */\n",
       "  --sklearn-color-text-on-default-background: var(--sg-text-color, var(--theme-code-foreground, var(--jp-content-font-color1, black)));\n",
       "  --sklearn-color-background: var(--sg-background-color, var(--theme-background, var(--jp-layout-color0, white)));\n",
       "  --sklearn-color-border-box: var(--sg-text-color, var(--theme-code-foreground, var(--jp-content-font-color1, black)));\n",
       "  --sklearn-color-icon: #696969;\n",
       "\n",
       "  @media (prefers-color-scheme: dark) {\n",
       "    /* Redefinition of color scheme for dark theme */\n",
       "    --sklearn-color-text-on-default-background: var(--sg-text-color, var(--theme-code-foreground, var(--jp-content-font-color1, white)));\n",
       "    --sklearn-color-background: var(--sg-background-color, var(--theme-background, var(--jp-layout-color0, #111)));\n",
       "    --sklearn-color-border-box: var(--sg-text-color, var(--theme-code-foreground, var(--jp-content-font-color1, white)));\n",
       "    --sklearn-color-icon: #878787;\n",
       "  }\n",
       "}\n",
       "\n",
       "#sk-container-id-2 {\n",
       "  color: var(--sklearn-color-text);\n",
       "}\n",
       "\n",
       "#sk-container-id-2 pre {\n",
       "  padding: 0;\n",
       "}\n",
       "\n",
       "#sk-container-id-2 input.sk-hidden--visually {\n",
       "  border: 0;\n",
       "  clip: rect(1px 1px 1px 1px);\n",
       "  clip: rect(1px, 1px, 1px, 1px);\n",
       "  height: 1px;\n",
       "  margin: -1px;\n",
       "  overflow: hidden;\n",
       "  padding: 0;\n",
       "  position: absolute;\n",
       "  width: 1px;\n",
       "}\n",
       "\n",
       "#sk-container-id-2 div.sk-dashed-wrapped {\n",
       "  border: 1px dashed var(--sklearn-color-line);\n",
       "  margin: 0 0.4em 0.5em 0.4em;\n",
       "  box-sizing: border-box;\n",
       "  padding-bottom: 0.4em;\n",
       "  background-color: var(--sklearn-color-background);\n",
       "}\n",
       "\n",
       "#sk-container-id-2 div.sk-container {\n",
       "  /* jupyter's `normalize.less` sets `[hidden] { display: none; }`\n",
       "     but bootstrap.min.css set `[hidden] { display: none !important; }`\n",
       "     so we also need the `!important` here to be able to override the\n",
       "     default hidden behavior on the sphinx rendered scikit-learn.org.\n",
       "     See: https://github.com/scikit-learn/scikit-learn/issues/21755 */\n",
       "  display: inline-block !important;\n",
       "  position: relative;\n",
       "}\n",
       "\n",
       "#sk-container-id-2 div.sk-text-repr-fallback {\n",
       "  display: none;\n",
       "}\n",
       "\n",
       "div.sk-parallel-item,\n",
       "div.sk-serial,\n",
       "div.sk-item {\n",
       "  /* draw centered vertical line to link estimators */\n",
       "  background-image: linear-gradient(var(--sklearn-color-text-on-default-background), var(--sklearn-color-text-on-default-background));\n",
       "  background-size: 2px 100%;\n",
       "  background-repeat: no-repeat;\n",
       "  background-position: center center;\n",
       "}\n",
       "\n",
       "/* Parallel-specific style estimator block */\n",
       "\n",
       "#sk-container-id-2 div.sk-parallel-item::after {\n",
       "  content: \"\";\n",
       "  width: 100%;\n",
       "  border-bottom: 2px solid var(--sklearn-color-text-on-default-background);\n",
       "  flex-grow: 1;\n",
       "}\n",
       "\n",
       "#sk-container-id-2 div.sk-parallel {\n",
       "  display: flex;\n",
       "  align-items: stretch;\n",
       "  justify-content: center;\n",
       "  background-color: var(--sklearn-color-background);\n",
       "  position: relative;\n",
       "}\n",
       "\n",
       "#sk-container-id-2 div.sk-parallel-item {\n",
       "  display: flex;\n",
       "  flex-direction: column;\n",
       "}\n",
       "\n",
       "#sk-container-id-2 div.sk-parallel-item:first-child::after {\n",
       "  align-self: flex-end;\n",
       "  width: 50%;\n",
       "}\n",
       "\n",
       "#sk-container-id-2 div.sk-parallel-item:last-child::after {\n",
       "  align-self: flex-start;\n",
       "  width: 50%;\n",
       "}\n",
       "\n",
       "#sk-container-id-2 div.sk-parallel-item:only-child::after {\n",
       "  width: 0;\n",
       "}\n",
       "\n",
       "/* Serial-specific style estimator block */\n",
       "\n",
       "#sk-container-id-2 div.sk-serial {\n",
       "  display: flex;\n",
       "  flex-direction: column;\n",
       "  align-items: center;\n",
       "  background-color: var(--sklearn-color-background);\n",
       "  padding-right: 1em;\n",
       "  padding-left: 1em;\n",
       "}\n",
       "\n",
       "\n",
       "/* Toggleable style: style used for estimator/Pipeline/ColumnTransformer box that is\n",
       "clickable and can be expanded/collapsed.\n",
       "- Pipeline and ColumnTransformer use this feature and define the default style\n",
       "- Estimators will overwrite some part of the style using the `sk-estimator` class\n",
       "*/\n",
       "\n",
       "/* Pipeline and ColumnTransformer style (default) */\n",
       "\n",
       "#sk-container-id-2 div.sk-toggleable {\n",
       "  /* Default theme specific background. It is overwritten whether we have a\n",
       "  specific estimator or a Pipeline/ColumnTransformer */\n",
       "  background-color: var(--sklearn-color-background);\n",
       "}\n",
       "\n",
       "/* Toggleable label */\n",
       "#sk-container-id-2 label.sk-toggleable__label {\n",
       "  cursor: pointer;\n",
       "  display: block;\n",
       "  width: 100%;\n",
       "  margin-bottom: 0;\n",
       "  padding: 0.5em;\n",
       "  box-sizing: border-box;\n",
       "  text-align: center;\n",
       "}\n",
       "\n",
       "#sk-container-id-2 label.sk-toggleable__label-arrow:before {\n",
       "  /* Arrow on the left of the label */\n",
       "  content: \"▸\";\n",
       "  float: left;\n",
       "  margin-right: 0.25em;\n",
       "  color: var(--sklearn-color-icon);\n",
       "}\n",
       "\n",
       "#sk-container-id-2 label.sk-toggleable__label-arrow:hover:before {\n",
       "  color: var(--sklearn-color-text);\n",
       "}\n",
       "\n",
       "/* Toggleable content - dropdown */\n",
       "\n",
       "#sk-container-id-2 div.sk-toggleable__content {\n",
       "  max-height: 0;\n",
       "  max-width: 0;\n",
       "  overflow: hidden;\n",
       "  text-align: left;\n",
       "  /* unfitted */\n",
       "  background-color: var(--sklearn-color-unfitted-level-0);\n",
       "}\n",
       "\n",
       "#sk-container-id-2 div.sk-toggleable__content.fitted {\n",
       "  /* fitted */\n",
       "  background-color: var(--sklearn-color-fitted-level-0);\n",
       "}\n",
       "\n",
       "#sk-container-id-2 div.sk-toggleable__content pre {\n",
       "  margin: 0.2em;\n",
       "  border-radius: 0.25em;\n",
       "  color: var(--sklearn-color-text);\n",
       "  /* unfitted */\n",
       "  background-color: var(--sklearn-color-unfitted-level-0);\n",
       "}\n",
       "\n",
       "#sk-container-id-2 div.sk-toggleable__content.fitted pre {\n",
       "  /* unfitted */\n",
       "  background-color: var(--sklearn-color-fitted-level-0);\n",
       "}\n",
       "\n",
       "#sk-container-id-2 input.sk-toggleable__control:checked~div.sk-toggleable__content {\n",
       "  /* Expand drop-down */\n",
       "  max-height: 200px;\n",
       "  max-width: 100%;\n",
       "  overflow: auto;\n",
       "}\n",
       "\n",
       "#sk-container-id-2 input.sk-toggleable__control:checked~label.sk-toggleable__label-arrow:before {\n",
       "  content: \"▾\";\n",
       "}\n",
       "\n",
       "/* Pipeline/ColumnTransformer-specific style */\n",
       "\n",
       "#sk-container-id-2 div.sk-label input.sk-toggleable__control:checked~label.sk-toggleable__label {\n",
       "  color: var(--sklearn-color-text);\n",
       "  background-color: var(--sklearn-color-unfitted-level-2);\n",
       "}\n",
       "\n",
       "#sk-container-id-2 div.sk-label.fitted input.sk-toggleable__control:checked~label.sk-toggleable__label {\n",
       "  background-color: var(--sklearn-color-fitted-level-2);\n",
       "}\n",
       "\n",
       "/* Estimator-specific style */\n",
       "\n",
       "/* Colorize estimator box */\n",
       "#sk-container-id-2 div.sk-estimator input.sk-toggleable__control:checked~label.sk-toggleable__label {\n",
       "  /* unfitted */\n",
       "  background-color: var(--sklearn-color-unfitted-level-2);\n",
       "}\n",
       "\n",
       "#sk-container-id-2 div.sk-estimator.fitted input.sk-toggleable__control:checked~label.sk-toggleable__label {\n",
       "  /* fitted */\n",
       "  background-color: var(--sklearn-color-fitted-level-2);\n",
       "}\n",
       "\n",
       "#sk-container-id-2 div.sk-label label.sk-toggleable__label,\n",
       "#sk-container-id-2 div.sk-label label {\n",
       "  /* The background is the default theme color */\n",
       "  color: var(--sklearn-color-text-on-default-background);\n",
       "}\n",
       "\n",
       "/* On hover, darken the color of the background */\n",
       "#sk-container-id-2 div.sk-label:hover label.sk-toggleable__label {\n",
       "  color: var(--sklearn-color-text);\n",
       "  background-color: var(--sklearn-color-unfitted-level-2);\n",
       "}\n",
       "\n",
       "/* Label box, darken color on hover, fitted */\n",
       "#sk-container-id-2 div.sk-label.fitted:hover label.sk-toggleable__label.fitted {\n",
       "  color: var(--sklearn-color-text);\n",
       "  background-color: var(--sklearn-color-fitted-level-2);\n",
       "}\n",
       "\n",
       "/* Estimator label */\n",
       "\n",
       "#sk-container-id-2 div.sk-label label {\n",
       "  font-family: monospace;\n",
       "  font-weight: bold;\n",
       "  display: inline-block;\n",
       "  line-height: 1.2em;\n",
       "}\n",
       "\n",
       "#sk-container-id-2 div.sk-label-container {\n",
       "  text-align: center;\n",
       "}\n",
       "\n",
       "/* Estimator-specific */\n",
       "#sk-container-id-2 div.sk-estimator {\n",
       "  font-family: monospace;\n",
       "  border: 1px dotted var(--sklearn-color-border-box);\n",
       "  border-radius: 0.25em;\n",
       "  box-sizing: border-box;\n",
       "  margin-bottom: 0.5em;\n",
       "  /* unfitted */\n",
       "  background-color: var(--sklearn-color-unfitted-level-0);\n",
       "}\n",
       "\n",
       "#sk-container-id-2 div.sk-estimator.fitted {\n",
       "  /* fitted */\n",
       "  background-color: var(--sklearn-color-fitted-level-0);\n",
       "}\n",
       "\n",
       "/* on hover */\n",
       "#sk-container-id-2 div.sk-estimator:hover {\n",
       "  /* unfitted */\n",
       "  background-color: var(--sklearn-color-unfitted-level-2);\n",
       "}\n",
       "\n",
       "#sk-container-id-2 div.sk-estimator.fitted:hover {\n",
       "  /* fitted */\n",
       "  background-color: var(--sklearn-color-fitted-level-2);\n",
       "}\n",
       "\n",
       "/* Specification for estimator info (e.g. \"i\" and \"?\") */\n",
       "\n",
       "/* Common style for \"i\" and \"?\" */\n",
       "\n",
       ".sk-estimator-doc-link,\n",
       "a:link.sk-estimator-doc-link,\n",
       "a:visited.sk-estimator-doc-link {\n",
       "  float: right;\n",
       "  font-size: smaller;\n",
       "  line-height: 1em;\n",
       "  font-family: monospace;\n",
       "  background-color: var(--sklearn-color-background);\n",
       "  border-radius: 1em;\n",
       "  height: 1em;\n",
       "  width: 1em;\n",
       "  text-decoration: none !important;\n",
       "  margin-left: 1ex;\n",
       "  /* unfitted */\n",
       "  border: var(--sklearn-color-unfitted-level-1) 1pt solid;\n",
       "  color: var(--sklearn-color-unfitted-level-1);\n",
       "}\n",
       "\n",
       ".sk-estimator-doc-link.fitted,\n",
       "a:link.sk-estimator-doc-link.fitted,\n",
       "a:visited.sk-estimator-doc-link.fitted {\n",
       "  /* fitted */\n",
       "  border: var(--sklearn-color-fitted-level-1) 1pt solid;\n",
       "  color: var(--sklearn-color-fitted-level-1);\n",
       "}\n",
       "\n",
       "/* On hover */\n",
       "div.sk-estimator:hover .sk-estimator-doc-link:hover,\n",
       ".sk-estimator-doc-link:hover,\n",
       "div.sk-label-container:hover .sk-estimator-doc-link:hover,\n",
       ".sk-estimator-doc-link:hover {\n",
       "  /* unfitted */\n",
       "  background-color: var(--sklearn-color-unfitted-level-3);\n",
       "  color: var(--sklearn-color-background);\n",
       "  text-decoration: none;\n",
       "}\n",
       "\n",
       "div.sk-estimator.fitted:hover .sk-estimator-doc-link.fitted:hover,\n",
       ".sk-estimator-doc-link.fitted:hover,\n",
       "div.sk-label-container:hover .sk-estimator-doc-link.fitted:hover,\n",
       ".sk-estimator-doc-link.fitted:hover {\n",
       "  /* fitted */\n",
       "  background-color: var(--sklearn-color-fitted-level-3);\n",
       "  color: var(--sklearn-color-background);\n",
       "  text-decoration: none;\n",
       "}\n",
       "\n",
       "/* Span, style for the box shown on hovering the info icon */\n",
       ".sk-estimator-doc-link span {\n",
       "  display: none;\n",
       "  z-index: 9999;\n",
       "  position: relative;\n",
       "  font-weight: normal;\n",
       "  right: .2ex;\n",
       "  padding: .5ex;\n",
       "  margin: .5ex;\n",
       "  width: min-content;\n",
       "  min-width: 20ex;\n",
       "  max-width: 50ex;\n",
       "  color: var(--sklearn-color-text);\n",
       "  box-shadow: 2pt 2pt 4pt #999;\n",
       "  /* unfitted */\n",
       "  background: var(--sklearn-color-unfitted-level-0);\n",
       "  border: .5pt solid var(--sklearn-color-unfitted-level-3);\n",
       "}\n",
       "\n",
       ".sk-estimator-doc-link.fitted span {\n",
       "  /* fitted */\n",
       "  background: var(--sklearn-color-fitted-level-0);\n",
       "  border: var(--sklearn-color-fitted-level-3);\n",
       "}\n",
       "\n",
       ".sk-estimator-doc-link:hover span {\n",
       "  display: block;\n",
       "}\n",
       "\n",
       "/* \"?\"-specific style due to the `<a>` HTML tag */\n",
       "\n",
       "#sk-container-id-2 a.estimator_doc_link {\n",
       "  float: right;\n",
       "  font-size: 1rem;\n",
       "  line-height: 1em;\n",
       "  font-family: monospace;\n",
       "  background-color: var(--sklearn-color-background);\n",
       "  border-radius: 1rem;\n",
       "  height: 1rem;\n",
       "  width: 1rem;\n",
       "  text-decoration: none;\n",
       "  /* unfitted */\n",
       "  color: var(--sklearn-color-unfitted-level-1);\n",
       "  border: var(--sklearn-color-unfitted-level-1) 1pt solid;\n",
       "}\n",
       "\n",
       "#sk-container-id-2 a.estimator_doc_link.fitted {\n",
       "  /* fitted */\n",
       "  border: var(--sklearn-color-fitted-level-1) 1pt solid;\n",
       "  color: var(--sklearn-color-fitted-level-1);\n",
       "}\n",
       "\n",
       "/* On hover */\n",
       "#sk-container-id-2 a.estimator_doc_link:hover {\n",
       "  /* unfitted */\n",
       "  background-color: var(--sklearn-color-unfitted-level-3);\n",
       "  color: var(--sklearn-color-background);\n",
       "  text-decoration: none;\n",
       "}\n",
       "\n",
       "#sk-container-id-2 a.estimator_doc_link.fitted:hover {\n",
       "  /* fitted */\n",
       "  background-color: var(--sklearn-color-fitted-level-3);\n",
       "}\n",
       "</style><div id=\"sk-container-id-2\" class=\"sk-top-container\"><div class=\"sk-text-repr-fallback\"><pre>SimpleImputer()</pre><b>In a Jupyter environment, please rerun this cell to show the HTML representation or trust the notebook. <br />On GitHub, the HTML representation is unable to render, please try loading this page with nbviewer.org.</b></div><div class=\"sk-container\" hidden><div class=\"sk-item\"><div class=\"sk-estimator fitted sk-toggleable\"><input class=\"sk-toggleable__control sk-hidden--visually\" id=\"sk-estimator-id-2\" type=\"checkbox\" checked><label for=\"sk-estimator-id-2\" class=\"sk-toggleable__label fitted sk-toggleable__label-arrow fitted\">&nbsp;&nbsp;SimpleImputer<a class=\"sk-estimator-doc-link fitted\" rel=\"noreferrer\" target=\"_blank\" href=\"https://scikit-learn.org/1.4/modules/generated/sklearn.impute.SimpleImputer.html\">?<span>Documentation for SimpleImputer</span></a><span class=\"sk-estimator-doc-link fitted\">i<span>Fitted</span></span></label><div class=\"sk-toggleable__content fitted\"><pre>SimpleImputer()</pre></div> </div></div></div></div>"
      ],
      "text/plain": [
       "SimpleImputer()"
      ]
     },
     "execution_count": 27,
     "metadata": {},
     "output_type": "execute_result"
    }
   ],
   "source": [
    "from sklearn.impute import SimpleImputer\n",
    "si = SimpleImputer(strategy=\"mean\")\n",
    "si.fit(df[[\"SomeNulls\"]])\n"
   ]
  },
  {
   "cell_type": "markdown",
   "metadata": {},
   "source": [
    "Cuidado: esta imputacion sobre todo el conjunto de datos debe ser tomada como una primera aproximación. Veremos mas adelante una enfoque mas profesional."
   ]
  },
  {
   "cell_type": "code",
   "execution_count": 28,
   "metadata": {},
   "outputs": [
    {
     "data": {
      "text/plain": [
       "array([[ 97.13191759],\n",
       "       [100.07932149],\n",
       "       [116.82460444],\n",
       "       ...,\n",
       "       [112.86829321],\n",
       "       [100.07932149],\n",
       "       [ 88.80120584]])"
      ]
     },
     "execution_count": 28,
     "metadata": {},
     "output_type": "execute_result"
    }
   ],
   "source": [
    "si.transform(df[[\"SomeNulls\"]])"
   ]
  },
  {
   "cell_type": "code",
   "execution_count": 29,
   "metadata": {},
   "outputs": [],
   "source": [
    "df.loc[:,\"SomeNulls\"] = si.transform(df[[\"SomeNulls\"]])"
   ]
  },
  {
   "cell_type": "markdown",
   "metadata": {},
   "source": [
    "El \"ActStatus\" es categorico, imputamos con most_frequent"
   ]
  },
  {
   "cell_type": "code",
   "execution_count": 30,
   "metadata": {},
   "outputs": [
    {
     "name": "stdout",
     "output_type": "stream",
     "text": [
      "['CUENTAPROPISTA' 'EMPLEADO' nan]\n"
     ]
    }
   ],
   "source": [
    "print(df[\"ActStatus\"].unique())\n"
   ]
  },
  {
   "cell_type": "markdown",
   "metadata": {},
   "source": [
    "Hago el fit y el transform en una unica operación"
   ]
  },
  {
   "cell_type": "code",
   "execution_count": 31,
   "metadata": {},
   "outputs": [],
   "source": [
    "df.loc[:,\"ActStatus\"] = SimpleImputer(strategy=\"most_frequent\").fit_transform(df[[\"ActStatus\"]])"
   ]
  },
  {
   "cell_type": "markdown",
   "metadata": {},
   "source": [
    "Conservo la no respuesta en cuanto a salario."
   ]
  },
  {
   "cell_type": "code",
   "execution_count": 32,
   "metadata": {},
   "outputs": [],
   "source": [
    "#df = df.copy()\n",
    "df[\"RespondeSalario\"] = df[\"Salary\"].isna()"
   ]
  },
  {
   "cell_type": "markdown",
   "metadata": {},
   "source": [
    "¿Porque este warning? Porque actualmente df no es mas que una vista del original. Estoy agregando una columna a una vista. ¿Es realmente lo que quiero? - Volver al punto que genera el problema y resolverlo -"
   ]
  },
  {
   "cell_type": "markdown",
   "metadata": {},
   "source": [
    "#### Procesamiento de datos categoricos.\n"
   ]
  },
  {
   "cell_type": "markdown",
   "metadata": {},
   "source": [
    "¿Cuantas categorias manejo?"
   ]
  },
  {
   "cell_type": "code",
   "execution_count": 33,
   "metadata": {},
   "outputs": [
    {
     "data": {
      "text/plain": [
       "array(['Grande', 'Mediano', 'Peque'], dtype=object)"
      ]
     },
     "execution_count": 33,
     "metadata": {},
     "output_type": "execute_result"
    }
   ],
   "source": [
    "df = pd.DataFrame({\"columnaCategoricaOrdinal\": [\"Grande\", \"Grande\", \"Mediano\", \"Peque\", \"Grande\", \"Peque\", \"Grande\"]})\n",
    "df[\"columnaCategoricaOrdinal\"].unique()"
   ]
  },
  {
   "cell_type": "markdown",
   "metadata": {},
   "source": [
    "Es una cantidad manejable y tienen caracter ordinal, digamos 0,1,2 => Peque, Mediano, Grande\n",
    "Al ser categórica de caracter ordinal la podemos convertir a numeros. Existen varias formas\n"
   ]
  },
  {
   "cell_type": "markdown",
   "metadata": {},
   "source": [
    "Via apply o map. Visualmente sencillo pero poco automatizable dentro de la infraestructura sklearn"
   ]
  },
  {
   "cell_type": "code",
   "execution_count": 34,
   "metadata": {},
   "outputs": [
    {
     "data": {
      "text/html": [
       "<div>\n",
       "<style scoped>\n",
       "    .dataframe tbody tr th:only-of-type {\n",
       "        vertical-align: middle;\n",
       "    }\n",
       "\n",
       "    .dataframe tbody tr th {\n",
       "        vertical-align: top;\n",
       "    }\n",
       "\n",
       "    .dataframe thead th {\n",
       "        text-align: right;\n",
       "    }\n",
       "</style>\n",
       "<table border=\"1\" class=\"dataframe\">\n",
       "  <thead>\n",
       "    <tr style=\"text-align: right;\">\n",
       "      <th></th>\n",
       "      <th>columnaCategoricaOrdinal</th>\n",
       "      <th>col_catOrdViaApply</th>\n",
       "      <th>col_catOrdViaMap</th>\n",
       "    </tr>\n",
       "  </thead>\n",
       "  <tbody>\n",
       "    <tr>\n",
       "      <th>0</th>\n",
       "      <td>Grande</td>\n",
       "      <td>3</td>\n",
       "      <td>3</td>\n",
       "    </tr>\n",
       "    <tr>\n",
       "      <th>1</th>\n",
       "      <td>Grande</td>\n",
       "      <td>3</td>\n",
       "      <td>3</td>\n",
       "    </tr>\n",
       "    <tr>\n",
       "      <th>2</th>\n",
       "      <td>Mediano</td>\n",
       "      <td>2</td>\n",
       "      <td>2</td>\n",
       "    </tr>\n",
       "    <tr>\n",
       "      <th>3</th>\n",
       "      <td>Peque</td>\n",
       "      <td>1</td>\n",
       "      <td>1</td>\n",
       "    </tr>\n",
       "    <tr>\n",
       "      <th>4</th>\n",
       "      <td>Grande</td>\n",
       "      <td>3</td>\n",
       "      <td>3</td>\n",
       "    </tr>\n",
       "    <tr>\n",
       "      <th>5</th>\n",
       "      <td>Peque</td>\n",
       "      <td>1</td>\n",
       "      <td>1</td>\n",
       "    </tr>\n",
       "    <tr>\n",
       "      <th>6</th>\n",
       "      <td>Grande</td>\n",
       "      <td>3</td>\n",
       "      <td>3</td>\n",
       "    </tr>\n",
       "  </tbody>\n",
       "</table>\n",
       "</div>"
      ],
      "text/plain": [
       "  columnaCategoricaOrdinal  col_catOrdViaApply  col_catOrdViaMap\n",
       "0                   Grande                   3                 3\n",
       "1                   Grande                   3                 3\n",
       "2                  Mediano                   2                 2\n",
       "3                    Peque                   1                 1\n",
       "4                   Grande                   3                 3\n",
       "5                    Peque                   1                 1\n",
       "6                   Grande                   3                 3"
      ]
     },
     "execution_count": 34,
     "metadata": {},
     "output_type": "execute_result"
    }
   ],
   "source": [
    "dic_map = {\"Grande\": 3, \"Mediano\": 2, \"Peque\": 1}\n",
    "df.loc[:, \"col_catOrdViaApply\"] = df[\"columnaCategoricaOrdinal\"].apply(lambda x: dic_map[x])\n",
    "df.loc[:, \"col_catOrdViaMap\"] = df[\"columnaCategoricaOrdinal\"].map(dic_map)\n",
    "df"
   ]
  },
  {
   "cell_type": "markdown",
   "metadata": {},
   "source": [
    "Podemos utilizar OrdinalEncoder"
   ]
  },
  {
   "cell_type": "code",
   "execution_count": 35,
   "metadata": {},
   "outputs": [
    {
     "data": {
      "text/html": [
       "<div>\n",
       "<style scoped>\n",
       "    .dataframe tbody tr th:only-of-type {\n",
       "        vertical-align: middle;\n",
       "    }\n",
       "\n",
       "    .dataframe tbody tr th {\n",
       "        vertical-align: top;\n",
       "    }\n",
       "\n",
       "    .dataframe thead th {\n",
       "        text-align: right;\n",
       "    }\n",
       "</style>\n",
       "<table border=\"1\" class=\"dataframe\">\n",
       "  <thead>\n",
       "    <tr style=\"text-align: right;\">\n",
       "      <th></th>\n",
       "      <th>columnaCategoricaOrdinal</th>\n",
       "      <th>col_catOrdViaApply</th>\n",
       "      <th>col_catOrdViaMap</th>\n",
       "      <th>col_catOrdViaOrdinalEncoder</th>\n",
       "    </tr>\n",
       "  </thead>\n",
       "  <tbody>\n",
       "    <tr>\n",
       "      <th>0</th>\n",
       "      <td>Grande</td>\n",
       "      <td>3</td>\n",
       "      <td>3</td>\n",
       "      <td>2</td>\n",
       "    </tr>\n",
       "    <tr>\n",
       "      <th>1</th>\n",
       "      <td>Grande</td>\n",
       "      <td>3</td>\n",
       "      <td>3</td>\n",
       "      <td>2</td>\n",
       "    </tr>\n",
       "    <tr>\n",
       "      <th>2</th>\n",
       "      <td>Mediano</td>\n",
       "      <td>2</td>\n",
       "      <td>2</td>\n",
       "      <td>1</td>\n",
       "    </tr>\n",
       "    <tr>\n",
       "      <th>3</th>\n",
       "      <td>Peque</td>\n",
       "      <td>1</td>\n",
       "      <td>1</td>\n",
       "      <td>0</td>\n",
       "    </tr>\n",
       "    <tr>\n",
       "      <th>4</th>\n",
       "      <td>Grande</td>\n",
       "      <td>3</td>\n",
       "      <td>3</td>\n",
       "      <td>2</td>\n",
       "    </tr>\n",
       "  </tbody>\n",
       "</table>\n",
       "</div>"
      ],
      "text/plain": [
       "  columnaCategoricaOrdinal  col_catOrdViaApply  col_catOrdViaMap  \\\n",
       "0                   Grande                   3                 3   \n",
       "1                   Grande                   3                 3   \n",
       "2                  Mediano                   2                 2   \n",
       "3                    Peque                   1                 1   \n",
       "4                   Grande                   3                 3   \n",
       "\n",
       "   col_catOrdViaOrdinalEncoder  \n",
       "0                            2  \n",
       "1                            2  \n",
       "2                            1  \n",
       "3                            0  \n",
       "4                            2  "
      ]
     },
     "execution_count": 35,
     "metadata": {},
     "output_type": "execute_result"
    }
   ],
   "source": [
    "# La lista \"categories\" marca el orden de las categorías \n",
    "ord_enc = OrdinalEncoder(categories=[[\"Peque\", \"Mediano\", \"Grande\"]], dtype=int)\n",
    "df[\"col_catOrdViaOrdinalEncoder\"] = ord_enc.fit(df[[\"columnaCategoricaOrdinal\"]]).transform(df[[\"columnaCategoricaOrdinal\"]])\n",
    "df.head()"
   ]
  },
  {
   "cell_type": "markdown",
   "metadata": {},
   "source": [
    "Cuidado, nos quedamos con todas las columnas con el único propósito de demostración. Ambas tienen datos redundantes."
   ]
  },
  {
   "cell_type": "markdown",
   "metadata": {},
   "source": [
    "Convertir un categórico no ordinal, via get_dummies"
   ]
  },
  {
   "cell_type": "code",
   "execution_count": 36,
   "metadata": {},
   "outputs": [
    {
     "data": {
      "text/html": [
       "<div>\n",
       "<style scoped>\n",
       "    .dataframe tbody tr th:only-of-type {\n",
       "        vertical-align: middle;\n",
       "    }\n",
       "\n",
       "    .dataframe tbody tr th {\n",
       "        vertical-align: top;\n",
       "    }\n",
       "\n",
       "    .dataframe thead th {\n",
       "        text-align: right;\n",
       "    }\n",
       "</style>\n",
       "<table border=\"1\" class=\"dataframe\">\n",
       "  <thead>\n",
       "    <tr style=\"text-align: right;\">\n",
       "      <th></th>\n",
       "      <th>columnaGeneral</th>\n",
       "      <th>columnaCategorica_Azul</th>\n",
       "      <th>columnaCategorica_Rojo</th>\n",
       "      <th>columnaCategorica_Verde</th>\n",
       "    </tr>\n",
       "  </thead>\n",
       "  <tbody>\n",
       "    <tr>\n",
       "      <th>0</th>\n",
       "      <td>1</td>\n",
       "      <td>False</td>\n",
       "      <td>False</td>\n",
       "      <td>True</td>\n",
       "    </tr>\n",
       "    <tr>\n",
       "      <th>1</th>\n",
       "      <td>2</td>\n",
       "      <td>True</td>\n",
       "      <td>False</td>\n",
       "      <td>False</td>\n",
       "    </tr>\n",
       "    <tr>\n",
       "      <th>2</th>\n",
       "      <td>3</td>\n",
       "      <td>False</td>\n",
       "      <td>True</td>\n",
       "      <td>False</td>\n",
       "    </tr>\n",
       "    <tr>\n",
       "      <th>3</th>\n",
       "      <td>4</td>\n",
       "      <td>False</td>\n",
       "      <td>False</td>\n",
       "      <td>False</td>\n",
       "    </tr>\n",
       "    <tr>\n",
       "      <th>4</th>\n",
       "      <td>5</td>\n",
       "      <td>False</td>\n",
       "      <td>False</td>\n",
       "      <td>True</td>\n",
       "    </tr>\n",
       "    <tr>\n",
       "      <th>5</th>\n",
       "      <td>6</td>\n",
       "      <td>False</td>\n",
       "      <td>False</td>\n",
       "      <td>True</td>\n",
       "    </tr>\n",
       "  </tbody>\n",
       "</table>\n",
       "</div>"
      ],
      "text/plain": [
       "   columnaGeneral  columnaCategorica_Azul  columnaCategorica_Rojo  \\\n",
       "0               1                   False                   False   \n",
       "1               2                    True                   False   \n",
       "2               3                   False                    True   \n",
       "3               4                   False                   False   \n",
       "4               5                   False                   False   \n",
       "5               6                   False                   False   \n",
       "\n",
       "   columnaCategorica_Verde  \n",
       "0                     True  \n",
       "1                    False  \n",
       "2                    False  \n",
       "3                    False  \n",
       "4                     True  \n",
       "5                     True  "
      ]
     },
     "execution_count": 36,
     "metadata": {},
     "output_type": "execute_result"
    }
   ],
   "source": [
    "df = pd.DataFrame({\"columnaCategorica\": [\"Verde\", \"Azul\", \"Rojo\", \"Amarillo\", \"Verde\", \"Verde\"],\n",
    "                   \"columnaGeneral\":[1,2,3,4,5,6]})\n",
    "pd.get_dummies(df, columns=[\"columnaCategorica\"], drop_first=True)\n",
    "\n"
   ]
  },
  {
   "cell_type": "markdown",
   "metadata": {},
   "source": [
    "Convertir un categórico no ordinal via OneHotEncoder, similar a get_dummies pero \"automatizable\" en pipelines de sklearn"
   ]
  },
  {
   "cell_type": "code",
   "execution_count": 37,
   "metadata": {},
   "outputs": [
    {
     "data": {
      "text/plain": [
       "array([[0., 0., 1.],\n",
       "       [1., 0., 0.],\n",
       "       [0., 1., 0.],\n",
       "       [0., 0., 0.],\n",
       "       [0., 0., 1.],\n",
       "       [0., 0., 1.]])"
      ]
     },
     "execution_count": 37,
     "metadata": {},
     "output_type": "execute_result"
    }
   ],
   "source": [
    "df = pd.DataFrame({\"columnaCategorica\": [\"Verde\", \"Azul\", \"Rojo\", \"Amarillo\", \"Verde\", \"Verde\"],\n",
    "                   \"columnaGeneral\":[1,2,3,4,5,6]})\n",
    "oh = OneHotEncoder(drop=\"first\", sparse_output=False) #o sparse=False, cambio en alguna version de sklearn\n",
    "oh.fit(df[[\"columnaCategorica\"]])\n",
    "oh.transform(df[[\"columnaCategorica\"]])\n"
   ]
  },
  {
   "cell_type": "markdown",
   "metadata": {},
   "source": [
    "Resultado esperado pero...perdi los nombre de las columnas originales, aunque siguen en el objeto"
   ]
  },
  {
   "cell_type": "code",
   "execution_count": 38,
   "metadata": {},
   "outputs": [
    {
     "data": {
      "text/plain": [
       "array(['columnaCategorica_Azul', 'columnaCategorica_Rojo',\n",
       "       'columnaCategorica_Verde'], dtype=object)"
      ]
     },
     "execution_count": 38,
     "metadata": {},
     "output_type": "execute_result"
    }
   ],
   "source": [
    "oh.get_feature_names_out()"
   ]
  },
  {
   "cell_type": "code",
   "execution_count": 39,
   "metadata": {},
   "outputs": [
    {
     "data": {
      "text/html": [
       "<div>\n",
       "<style scoped>\n",
       "    .dataframe tbody tr th:only-of-type {\n",
       "        vertical-align: middle;\n",
       "    }\n",
       "\n",
       "    .dataframe tbody tr th {\n",
       "        vertical-align: top;\n",
       "    }\n",
       "\n",
       "    .dataframe thead th {\n",
       "        text-align: right;\n",
       "    }\n",
       "</style>\n",
       "<table border=\"1\" class=\"dataframe\">\n",
       "  <thead>\n",
       "    <tr style=\"text-align: right;\">\n",
       "      <th></th>\n",
       "      <th>columnaCategorica</th>\n",
       "      <th>columnaGeneral</th>\n",
       "      <th>columnaCategorica_Azul</th>\n",
       "      <th>columnaCategorica_Rojo</th>\n",
       "      <th>columnaCategorica_Verde</th>\n",
       "    </tr>\n",
       "  </thead>\n",
       "  <tbody>\n",
       "    <tr>\n",
       "      <th>0</th>\n",
       "      <td>Verde</td>\n",
       "      <td>1</td>\n",
       "      <td>0</td>\n",
       "      <td>0</td>\n",
       "      <td>1</td>\n",
       "    </tr>\n",
       "    <tr>\n",
       "      <th>1</th>\n",
       "      <td>Azul</td>\n",
       "      <td>2</td>\n",
       "      <td>1</td>\n",
       "      <td>0</td>\n",
       "      <td>0</td>\n",
       "    </tr>\n",
       "    <tr>\n",
       "      <th>2</th>\n",
       "      <td>Rojo</td>\n",
       "      <td>3</td>\n",
       "      <td>0</td>\n",
       "      <td>1</td>\n",
       "      <td>0</td>\n",
       "    </tr>\n",
       "    <tr>\n",
       "      <th>3</th>\n",
       "      <td>Amarillo</td>\n",
       "      <td>4</td>\n",
       "      <td>0</td>\n",
       "      <td>0</td>\n",
       "      <td>0</td>\n",
       "    </tr>\n",
       "    <tr>\n",
       "      <th>4</th>\n",
       "      <td>Verde</td>\n",
       "      <td>5</td>\n",
       "      <td>0</td>\n",
       "      <td>0</td>\n",
       "      <td>1</td>\n",
       "    </tr>\n",
       "    <tr>\n",
       "      <th>5</th>\n",
       "      <td>Verde</td>\n",
       "      <td>6</td>\n",
       "      <td>0</td>\n",
       "      <td>0</td>\n",
       "      <td>1</td>\n",
       "    </tr>\n",
       "  </tbody>\n",
       "</table>\n",
       "</div>"
      ],
      "text/plain": [
       "  columnaCategorica  columnaGeneral  columnaCategorica_Azul  \\\n",
       "0             Verde               1                       0   \n",
       "1              Azul               2                       1   \n",
       "2              Rojo               3                       0   \n",
       "3          Amarillo               4                       0   \n",
       "4             Verde               5                       0   \n",
       "5             Verde               6                       0   \n",
       "\n",
       "   columnaCategorica_Rojo  columnaCategorica_Verde  \n",
       "0                       0                        1  \n",
       "1                       0                        0  \n",
       "2                       1                        0  \n",
       "3                       0                        0  \n",
       "4                       0                        1  \n",
       "5                       0                        1  "
      ]
     },
     "execution_count": 39,
     "metadata": {},
     "output_type": "execute_result"
    }
   ],
   "source": [
    "df.loc[:, oh.get_feature_names_out()] = oh.transform(df[[\"columnaCategorica\"]]).astype(int)\n",
    "df\n"
   ]
  },
  {
   "cell_type": "markdown",
   "metadata": {},
   "source": [
    "Siempre es posible volver los datos originales"
   ]
  },
  {
   "cell_type": "code",
   "execution_count": 40,
   "metadata": {},
   "outputs": [
    {
     "data": {
      "text/plain": [
       "array([['Verde'],\n",
       "       ['Azul'],\n",
       "       ['Rojo'],\n",
       "       ['Amarillo'],\n",
       "       ['Verde'],\n",
       "       ['Verde']], dtype=object)"
      ]
     },
     "execution_count": 40,
     "metadata": {},
     "output_type": "execute_result"
    }
   ],
   "source": [
    "oh.inverse_transform(df[oh.get_feature_names_out()])"
   ]
  },
  {
   "cell_type": "markdown",
   "metadata": {},
   "source": [
    "Falta LabelEncoder => esta pensado para \"encodiar\" targets y no predictoras."
   ]
  },
  {
   "cell_type": "markdown",
   "metadata": {},
   "source": [
    "#### También es posible tranformar datos numéricos en categoricos via binning o discretización"
   ]
  },
  {
   "cell_type": "code",
   "execution_count": 41,
   "metadata": {},
   "outputs": [
    {
     "data": {
      "text/plain": [
       "<Axes: >"
      ]
     },
     "execution_count": 41,
     "metadata": {},
     "output_type": "execute_result"
    },
    {
     "data": {
      "image/png": "[encoded data removed]",
      "text/plain": [
       "<Figure size 432x288 with 1 Axes>"
      ]
     },
     "metadata": {
      "needs_background": "light"
     },
     "output_type": "display_data"
    }
   ],
   "source": [
    "from sklearn.preprocessing import KBinsDiscretizer\n",
    "mean = 100\n",
    "std_dev = 30\n",
    "df = pd.DataFrame({\"Altura\": np.clip(np.random.normal(loc=mean, scale=std_dev, size=1000), 0, 210)})\n",
    "# Datos de ejemplo\n",
    "df[\"Altura\"].hist(bins=100)\n"
   ]
  },
  {
   "cell_type": "code",
   "execution_count": 42,
   "metadata": {},
   "outputs": [
    {
     "data": {
      "image/png": "[encoded data removed]",
      "text/plain": [
       "<Figure size 432x288 with 1 Axes>"
      ]
     },
     "metadata": {
      "needs_background": "light"
     },
     "output_type": "display_data"
    }
   ],
   "source": [
    "#Divide los datos continuos en intervalos\n",
    "#'uniform' => igual ancho\n",
    "#'quantile' => igual cantidad de elementos\n",
    "#'kmeans' => Basado en cercania'\n",
    "#encode = {‘onehot’, ‘onehot-dense’, ‘ordinal’},\n",
    "#subsample=>Maximum number of samples, used to fit the model,\n",
    "disc = KBinsDiscretizer(n_bins=3, encode='ordinal', strategy='uniform', subsample=None)\n",
    "# Aplicar el binning a los datos\n",
    "df.loc[:, \"Altura\"] = disc.fit_transform(df).astype(int)\n",
    "#df.hist(column=\"Altura\", bins=100)\n",
    "frq = df['Altura'].value_counts()\n",
    "frq.sort_index().plot(kind=\"bar\", color='skyblue', alpha=0.7)\n",
    "plt.title('Contador de Frecuencias por Categoría')\n",
    "plt.xlabel('Categoría')\n",
    "plt.ylabel('Frecuencia')\n",
    "plt.show()\n"
   ]
  },
  {
   "cell_type": "markdown",
   "metadata": {},
   "source": [
    "Esto puede ser util para suavizar el ruido,  mejorar la interpretabilidad de los datos o en modelos que requieran datos discretos."
   ]
  },
  {
   "cell_type": "markdown",
   "metadata": {},
   "source": [
    "Con inverse_transform podemos volver al dato \"real\", pero cuidado no al valor anterior sino al valor real agrupado."
   ]
  },
  {
   "cell_type": "code",
   "execution_count": 43,
   "metadata": {},
   "outputs": [
    {
     "data": {
      "text/plain": [
       "array([ 43.25122755, 102.63948724, 162.02774693])"
      ]
     },
     "execution_count": 43,
     "metadata": {},
     "output_type": "execute_result"
    }
   ],
   "source": [
    "df[\"Altura_recuperada\"] = disc.inverse_transform(df[[\"Altura\"]])\n",
    "np.sort(df[\"Altura_recuperada\"].unique())\n"
   ]
  },
  {
   "cell_type": "markdown",
   "metadata": {},
   "source": [
    "¿Podemos usando SimpleImputer imputar la media de todos a los valores superiores a determinado limite?"
   ]
  },
  {
   "cell_type": "code",
   "execution_count": 44,
   "metadata": {},
   "outputs": [],
   "source": [
    "df = pd.DataFrame({\"Age\": [15,15,16,20,25,25,28,170,180,190,49,50,55,58,58,58,60]})\n"
   ]
  },
  {
   "cell_type": "code",
   "execution_count": 46,
   "metadata": {},
   "outputs": [
    {
     "data": {
      "text/plain": [
       "array([[15.],\n",
       "       [15.],\n",
       "       [16.],\n",
       "       [20.],\n",
       "       [25.],\n",
       "       [25.],\n",
       "       [28.],\n",
       "       [38.],\n",
       "       [38.],\n",
       "       [38.],\n",
       "       [49.],\n",
       "       [50.],\n",
       "       [55.],\n",
       "       [58.],\n",
       "       [58.],\n",
       "       [58.],\n",
       "       [60.]])"
      ]
     },
     "execution_count": 46,
     "metadata": {},
     "output_type": "execute_result"
    }
   ],
   "source": [
    "df.loc[df[\"Age\"]>160, [\"Age\"]] = np.nan\n",
    "si = SimpleImputer(strategy=\"mean\")\n",
    "si.fit_transform(df)"
   ]
  },
  {
   "cell_type": "markdown",
   "metadata": {},
   "source": [
    "La forma de automatizar esto queda para próximas clases."
   ]
  },
  {
   "cell_type": "markdown",
   "metadata": {},
   "source": [
    "### Feature engineering \n",
    "#### Columna IMC.\n",
    "Agregamos una nueva columna manualmente. En este caso se información que el \"experto\" considera razonable para la mejora del modelo. Veremos en el futuro el agregado como la eliminacion de las columnas por métodos automáticos."
   ]
  },
  {
   "cell_type": "code",
   "execution_count": 48,
   "metadata": {},
   "outputs": [
    {
     "data": {
      "text/html": [
       "<div>\n",
       "<style scoped>\n",
       "    .dataframe tbody tr th:only-of-type {\n",
       "        vertical-align: middle;\n",
       "    }\n",
       "\n",
       "    .dataframe tbody tr th {\n",
       "        vertical-align: top;\n",
       "    }\n",
       "\n",
       "    .dataframe thead th {\n",
       "        text-align: right;\n",
       "    }\n",
       "</style>\n",
       "<table border=\"1\" class=\"dataframe\">\n",
       "  <thead>\n",
       "    <tr style=\"text-align: right;\">\n",
       "      <th></th>\n",
       "      <th>Sexo</th>\n",
       "      <th>Peso</th>\n",
       "      <th>Altura</th>\n",
       "      <th>IMC</th>\n",
       "    </tr>\n",
       "  </thead>\n",
       "  <tbody>\n",
       "    <tr>\n",
       "      <th>0</th>\n",
       "      <td>Hombre</td>\n",
       "      <td>109</td>\n",
       "      <td>187</td>\n",
       "      <td>31.170465</td>\n",
       "    </tr>\n",
       "    <tr>\n",
       "      <th>1</th>\n",
       "      <td>Hombre</td>\n",
       "      <td>73</td>\n",
       "      <td>174</td>\n",
       "      <td>24.111507</td>\n",
       "    </tr>\n",
       "    <tr>\n",
       "      <th>2</th>\n",
       "      <td>Hombre</td>\n",
       "      <td>96</td>\n",
       "      <td>188</td>\n",
       "      <td>27.161612</td>\n",
       "    </tr>\n",
       "    <tr>\n",
       "      <th>3</th>\n",
       "      <td>Hombre</td>\n",
       "      <td>99</td>\n",
       "      <td>182</td>\n",
       "      <td>29.887695</td>\n",
       "    </tr>\n",
       "    <tr>\n",
       "      <th>4</th>\n",
       "      <td>Hombre</td>\n",
       "      <td>93</td>\n",
       "      <td>177</td>\n",
       "      <td>29.684956</td>\n",
       "    </tr>\n",
       "    <tr>\n",
       "      <th>...</th>\n",
       "      <td>...</td>\n",
       "      <td>...</td>\n",
       "      <td>...</td>\n",
       "      <td>...</td>\n",
       "    </tr>\n",
       "    <tr>\n",
       "      <th>9995</th>\n",
       "      <td>Mujer</td>\n",
       "      <td>62</td>\n",
       "      <td>168</td>\n",
       "      <td>21.967120</td>\n",
       "    </tr>\n",
       "    <tr>\n",
       "      <th>9996</th>\n",
       "      <td>Mujer</td>\n",
       "      <td>77</td>\n",
       "      <td>170</td>\n",
       "      <td>26.643599</td>\n",
       "    </tr>\n",
       "    <tr>\n",
       "      <th>9997</th>\n",
       "      <td>Mujer</td>\n",
       "      <td>58</td>\n",
       "      <td>162</td>\n",
       "      <td>22.100290</td>\n",
       "    </tr>\n",
       "    <tr>\n",
       "      <th>9998</th>\n",
       "      <td>Mujer</td>\n",
       "      <td>74</td>\n",
       "      <td>175</td>\n",
       "      <td>24.163265</td>\n",
       "    </tr>\n",
       "    <tr>\n",
       "      <th>9999</th>\n",
       "      <td>Mujer</td>\n",
       "      <td>51</td>\n",
       "      <td>157</td>\n",
       "      <td>20.690495</td>\n",
       "    </tr>\n",
       "  </tbody>\n",
       "</table>\n",
       "<p>10000 rows × 4 columns</p>\n",
       "</div>"
      ],
      "text/plain": [
       "        Sexo  Peso  Altura        IMC\n",
       "0     Hombre   109     187  31.170465\n",
       "1     Hombre    73     174  24.111507\n",
       "2     Hombre    96     188  27.161612\n",
       "3     Hombre    99     182  29.887695\n",
       "4     Hombre    93     177  29.684956\n",
       "...      ...   ...     ...        ...\n",
       "9995   Mujer    62     168  21.967120\n",
       "9996   Mujer    77     170  26.643599\n",
       "9997   Mujer    58     162  22.100290\n",
       "9998   Mujer    74     175  24.163265\n",
       "9999   Mujer    51     157  20.690495\n",
       "\n",
       "[10000 rows x 4 columns]"
      ]
     },
     "execution_count": 48,
     "metadata": {},
     "output_type": "execute_result"
    }
   ],
   "source": [
    "df = pd.read_csv(\"../datasets/alturas-pesos.csv\")\n",
    "df.loc[:, \"IMC\"] = df[\"Peso\"]/(df[\"Altura\"]/100)**2\n",
    "df"
   ]
  },
  {
   "cell_type": "code",
   "execution_count": 49,
   "metadata": {},
   "outputs": [
    {
     "data": {
      "image/png": "[encoded data removed]",
      "text/plain": [
       "<Figure size 720x504 with 2 Axes>"
      ]
     },
     "metadata": {
      "needs_background": "light"
     },
     "output_type": "display_data"
    }
   ],
   "source": [
    "import seaborn as sns\n",
    "\n",
    "fig, ax = plt.subplots(figsize=(10,7))\n",
    "mat = df.select_dtypes(include=['int', 'float']).corr()\n",
    "sns.heatmap(mat, annot=True, cmap='coolwarm', fmt=\".2f\",  ax=ax)\n",
    "plt.title('Matriz de Correlación')\n",
    "plt.show()"
   ]
  },
  {
   "cell_type": "code",
   "execution_count": 50,
   "metadata": {},
   "outputs": [
    {
     "data": {
      "text/plain": [
       "<matplotlib.collections.PathCollection at 0x1afa5bb6950>"
      ]
     },
     "execution_count": 50,
     "metadata": {},
     "output_type": "execute_result"
    },
    {
     "data": {
      "image/png": "[encoded data removed]",
      "text/plain": [
       "<Figure size 432x288 with 1 Axes>"
      ]
     },
     "metadata": {
      "needs_background": "light"
     },
     "output_type": "display_data"
    }
   ],
   "source": [
    "plt.scatter(df[\"Peso\"], df[\"IMC\"])\n",
    "plt.scatter(df[\"Altura\"], df[\"IMC\"])"
   ]
  }
 ],
 "metadata": {
  "kernelspec": {
   "display_name": "Python 3",
   "language": "python",
   "name": "python3"
  },
  "language_info": {
   "codemirror_mode": {
    "name": "ipython",
    "version": 3
   },
   "file_extension": ".py",
   "mimetype": "text/x-python",
   "name": "python",
   "nbconvert_exporter": "python",
   "pygments_lexer": "ipython3",
   "version": "3.10.1"
  }
 },
 "nbformat": 4,
 "nbformat_minor": 2
}
