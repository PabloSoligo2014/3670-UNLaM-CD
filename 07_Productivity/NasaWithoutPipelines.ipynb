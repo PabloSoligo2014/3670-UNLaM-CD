{
  "cells": [
    {
      "cell_type": "markdown",
      "metadata": {},
      "source": [
        "# Procesamiento de dataset \"asteroides\" usando KNN"
      ]
    },
    {
      "cell_type": "code",
      "execution_count": 8,
      "metadata": {
        "id": "P0xLtRswK9AV"
      },
      "outputs": [],
      "source": [
        "import pandas as pd\n",
        "import seaborn as sns\n",
        "from sklearn.base import BaseEstimator, TransformerMixin\n",
        "import matplotlib.pyplot as plt\n",
        "# Importamos la librería que necesitamos\n",
        "from sklearn.tree import export_graphviz\n",
        "from IPython.display import Image\n",
        "import pydotplus\n",
        "from sklearn.preprocessing import StandardScaler\n",
        "from sklearn.model_selection import train_test_split\n",
        "from sklearn.tree import DecisionTreeClassifier\n",
        "from sklearn.metrics import accuracy_score # métrica de evaluación\n",
        "from sklearn.metrics import classification_report\n",
        "from sklearn import metrics\n",
        "import sys\n",
        "sys.path.append('../Code')\n",
        "from CustomTransformers import CollinearityDropper, ColumnDropper\n",
        "from sklearn.model_selection import GridSearchCV\n",
        "from sklearn.neighbors import KNeighborsClassifier\n",
        "from sklearn.pipeline import Pipeline\n",
        "from sklearn.model_selection import RandomizedSearchCV\n",
        "from sklearn.feature_selection import SelectKBest\n",
        "import numpy as np\n"
      ]
    },
    {
      "cell_type": "code",
      "execution_count": 9,
      "metadata": {
        "id": "-pfMpiQFekUB"
      },
      "outputs": [],
      "source": [
        "clfs = []\n",
        "df = pd.read_csv('https://raw.githubusercontent.com/pokengineer/DataScience/main/datasets/asteroids_nasa.csv')\n"
      ]
    },
    {
      "cell_type": "markdown",
      "metadata": {},
      "source": [
        "## Uso KNN directamente"
      ]
    },
    {
      "cell_type": "markdown",
      "metadata": {},
      "source": [
        "Quito solo las columnas no numericas o que me generar algun problema"
      ]
    },
    {
      "cell_type": "code",
      "execution_count": 10,
      "metadata": {},
      "outputs": [
        {
          "name": "stdout",
          "output_type": "stream",
          "text": [
            "              precision    recall  f1-score   support\n",
            "\n",
            "       False       0.84      1.00      0.91      1180\n",
            "        True       0.00      0.00      0.00       227\n",
            "\n",
            "    accuracy                           0.84      1407\n",
            "   macro avg       0.42      0.50      0.46      1407\n",
            "weighted avg       0.70      0.84      0.77      1407\n",
            "\n"
          ]
        },
        {
          "name": "stderr",
          "output_type": "stream",
          "text": [
            "c:\\Users\\pabli\\AppData\\Local\\Programs\\Python\\Python310\\lib\\site-packages\\sklearn\\metrics\\_classification.py:1531: UndefinedMetricWarning: Precision is ill-defined and being set to 0.0 in labels with no predicted samples. Use `zero_division` parameter to control this behavior.\n",
            "  _warn_prf(average, modifier, f\"{metric.capitalize()} is\", len(result))\n",
            "c:\\Users\\pabli\\AppData\\Local\\Programs\\Python\\Python310\\lib\\site-packages\\sklearn\\metrics\\_classification.py:1531: UndefinedMetricWarning: Precision is ill-defined and being set to 0.0 in labels with no predicted samples. Use `zero_division` parameter to control this behavior.\n",
            "  _warn_prf(average, modifier, f\"{metric.capitalize()} is\", len(result))\n",
            "c:\\Users\\pabli\\AppData\\Local\\Programs\\Python\\Python310\\lib\\site-packages\\sklearn\\metrics\\_classification.py:1531: UndefinedMetricWarning: Precision is ill-defined and being set to 0.0 in labels with no predicted samples. Use `zero_division` parameter to control this behavior.\n",
            "  _warn_prf(average, modifier, f\"{metric.capitalize()} is\", len(result))\n"
          ]
        }
      ],
      "source": [
        "X = df.drop(\"Hazardous\",axis=1)\n",
        "y = df[\"Hazardous\"]\n",
        "#Elimino columnas de fechas, no es necesario separar fit de transform porque no tiene que aprender nada\n",
        "cd = ColumnDropper(columns=['Close Approach Date','Orbit Determination Date', 'Equinox', 'Orbiting Body'])\n",
        "X = cd.fit_transform(X)\n",
        "X_train, X_test, y_train, y_test = train_test_split(X, y, test_size=0.3, stratify = y, random_state=0)\n",
        "\n",
        "param_grid = {'n_neighbors': [3, 5, 7, 9, 11, 13, 15, 17, 19, 21]}\n",
        "gs = GridSearchCV(estimator=KNeighborsClassifier(), param_grid=param_grid, scoring='accuracy', cv=5)\n",
        "gs.fit(X_train, y_train)\n",
        "y_pred = gs.predict(X_test)\n",
        "creport = classification_report(y_test,y_pred)\n",
        "print(creport)\n",
        "clfs.append((str(gs.best_estimator_), y_test, gs.predict_proba(X_test)[:, 1]))   "
      ]
    },
    {
      "cell_type": "markdown",
      "metadata": {},
      "source": [
        "El resultado es naturalmente malo, ni siquiera escalé. Recordemos que con arboles tuvimos un gran rendimiento."
      ]
    },
    {
      "cell_type": "markdown",
      "metadata": {},
      "source": [
        "## Escalemos las variables"
      ]
    },
    {
      "cell_type": "markdown",
      "metadata": {},
      "source": [
        "Observar que para evitar la fuga de datos debo hacer el fit unicamente con la muestra de entrenamiento y el transform tanto en entrenamiento como en test. Es burocratico e incomodo y propenso a errores. Este mismo problema aplica a escaladores, imputadores, analisis de componentes principales, eliminado de outliers entre otra posibles transformaciones. "
      ]
    },
    {
      "cell_type": "code",
      "execution_count": 11,
      "metadata": {},
      "outputs": [
        {
          "name": "stdout",
          "output_type": "stream",
          "text": [
            "              precision    recall  f1-score   support\n",
            "\n",
            "       False       0.91      0.96      0.94      1180\n",
            "        True       0.73      0.51      0.60       227\n",
            "\n",
            "    accuracy                           0.89      1407\n",
            "   macro avg       0.82      0.74      0.77      1407\n",
            "weighted avg       0.88      0.89      0.88      1407\n",
            "\n"
          ]
        }
      ],
      "source": [
        "X = df.drop(\"Hazardous\",axis=1)\n",
        "y = df[\"Hazardous\"]\n",
        "#Elimino columnas de fechas\n",
        "cd = ColumnDropper(columns=['Close Approach Date','Orbit Determination Date', 'Equinox', 'Orbiting Body'])\n",
        "X = cd.fit_transform(X)\n",
        "\n",
        "X_train, X_test, y_train, y_test = train_test_split(X, y, test_size=0.3, stratify = y, random_state=0)\n",
        "\n",
        "\n",
        "ss = StandardScaler()\n",
        "ss.fit(X_train)\n",
        "X_train = ss.transform(X_train)\n",
        "X_test = ss.transform(X_test)\n",
        "\n",
        "param_grid = {'n_neighbors': [3, 5, 7, 9, 11, 13, 15, 17, 19, 21]}\n",
        "\n",
        "gs = GridSearchCV(estimator=KNeighborsClassifier(), param_grid=param_grid, scoring='accuracy', cv=5)\n",
        "gs.fit(X_train, y_train)\n",
        "y_pred = gs.predict(X_test)\n",
        "creport = classification_report(y_test,y_pred)\n",
        "print(creport)\n",
        "\n",
        "clfs.append((str(gs.best_estimator_), y_test, gs.predict_proba(X_test)[:, 1]))   \n"
      ]
    },
    {
      "cell_type": "markdown",
      "metadata": {},
      "source": [
        "## Quito variables redundantes"
      ]
    },
    {
      "cell_type": "markdown",
      "metadata": {},
      "source": [
        "Vamos mejorando. ¿Que mas puedo hacer? KNN se reciente mucho por la cantidad de variables, no tiene la inteligencia de los árboles, debería, por ejemplo quitar variables redundantes."
      ]
    },
    {
      "cell_type": "markdown",
      "metadata": {},
      "source": [
        "Automatizo en un clase propia el eliminado de columnas tengan alta colinealidad (Dejo solo una)"
      ]
    },
    {
      "cell_type": "code",
      "execution_count": 12,
      "metadata": {},
      "outputs": [
        {
          "name": "stdout",
          "output_type": "stream",
          "text": [
            "              precision    recall  f1-score   support\n",
            "\n",
            "       False       0.93      0.95      0.94      1180\n",
            "        True       0.72      0.63      0.67       227\n",
            "\n",
            "    accuracy                           0.90      1407\n",
            "   macro avg       0.82      0.79      0.80      1407\n",
            "weighted avg       0.90      0.90      0.90      1407\n",
            "\n"
          ]
        }
      ],
      "source": [
        "X = df.drop(\"Hazardous\",axis=1)\n",
        "y = df[\"Hazardous\"]\n",
        "#Elimino columnas de fechas\n",
        "cd = ColumnDropper(columns=['Close Approach Date','Orbit Determination Date', 'Equinox', 'Orbiting Body'])\n",
        "X = cd.fit_transform(X)\n",
        "\n",
        "X_train, X_test, y_train, y_test = train_test_split(X, y, test_size=0.3, stratify = y, random_state=0)\n",
        "\n",
        "\n",
        "cd = CollinearityDropper(columns=X.columns, min_coef=0.9)\n",
        "cd.fit(X_train)\n",
        "X_train = cd.transform(X_train)\n",
        "X_test = cd.transform(X_test)\n",
        "\n",
        "ss = StandardScaler()\n",
        "ss.fit(X_train)\n",
        "X_train = ss.transform(X_train)\n",
        "X_test = ss.transform(X_test)\n",
        "\n",
        "param_grid = {'n_neighbors': [3, 5, 7, 9, 11, 13, 15, 17, 19, 21]}\n",
        "\n",
        "gs = GridSearchCV(estimator=KNeighborsClassifier(), param_grid=param_grid, scoring='accuracy', cv=5)\n",
        "gs.fit(X_train, y_train)\n",
        "y_pred = gs.predict(X_test)\n",
        "creport = classification_report(y_test,y_pred)\n",
        "print(creport)\n",
        "clfs.append((str(gs.best_estimator_), y_test, gs.predict_proba(X_test)[:, 1]))   "
      ]
    },
    {
      "cell_type": "code",
      "execution_count": 13,
      "metadata": {},
      "outputs": [
        {
          "name": "stdout",
          "output_type": "stream",
          "text": [
            "              precision    recall  f1-score   support\n",
            "\n",
            "       False       0.93      0.95      0.94      1180\n",
            "        True       0.72      0.63      0.67       227\n",
            "\n",
            "    accuracy                           0.90      1407\n",
            "   macro avg       0.82      0.79      0.80      1407\n",
            "weighted avg       0.90      0.90      0.90      1407\n",
            "\n"
          ]
        }
      ],
      "source": [
        "ss = StandardScaler()\n",
        "ss.fit(X_train)\n",
        "X_train = ss.transform(X_train)\n",
        "X_test = ss.transform(X_test)\n",
        "\n",
        "param_grid = {'n_neighbors': [3, 5, 7, 9, 11, 13, 15, 17, 19, 21]}\n",
        "\n",
        "gs = GridSearchCV(estimator=KNeighborsClassifier(), param_grid=param_grid, scoring='accuracy', cv=5)\n",
        "gs.fit(X_train, y_train)\n",
        "y_pred = gs.predict(X_test)\n",
        "creport = classification_report(y_test,y_pred)\n",
        "print(creport)\n",
        "clfs.append((str(gs.best_estimator_), y_test, gs.predict_proba(X_test)[:, 1]))  "
      ]
    },
    {
      "cell_type": "markdown",
      "metadata": {},
      "source": [
        "Seguimos mejorando, ¿Que mas puedo hacer? "
      ]
    },
    {
      "cell_type": "markdown",
      "metadata": {},
      "source": [
        "## Quito variables sin capacidad predictiva"
      ]
    },
    {
      "cell_type": "markdown",
      "metadata": {},
      "source": [
        "Me quedo solo con las columnas que tengan impacto y valor predictor, se obtuvieron mediante busqueda exhaustiva. "
      ]
    },
    {
      "cell_type": "code",
      "execution_count": 32,
      "metadata": {},
      "outputs": [],
      "source": [
        "X = df.drop(\"Hazardous\",axis=1)\n",
        "y = df[\"Hazardous\"]\n",
        "#Elimino columnas de fechas\n",
        "cd = ColumnDropper(columns=['Close Approach Date','Orbit Determination Date', 'Equinox', 'Orbiting Body'])\n",
        "X = cd.fit_transform(X)\n",
        "X_train, X_test, y_train, y_test = train_test_split(X, y, test_size=0.3, stratify = y, random_state=0)\n",
        "cd = CollinearityDropper(columns=X_train.columns, min_coef=0.9)\n",
        "cd.fit(X_train)\n",
        "X_train = cd.transform(X_train)\n",
        "X_test = cd.transform(X_test)\n",
        "\n",
        "ss = StandardScaler()\n",
        "ss.fit(X_train)\n",
        "X_train.loc[:,X_train.columns] = ss.transform(X_train)\n",
        "X_test.loc[:,X_train.columns]= ss.transform(X_test)"
      ]
    },
    {
      "cell_type": "code",
      "execution_count": 35,
      "metadata": {},
      "outputs": [],
      "source": [
        "kbest = SelectKBest(k=3)\n",
        "kbest.fit(X_train, y_train)\n",
        "X_train_kbest = pd.DataFrame(kbest.fit_transform(X_train, y_train), columns=kbest.get_feature_names_out())"
      ]
    },
    {
      "cell_type": "code",
      "execution_count": 36,
      "metadata": {},
      "outputs": [
        {
          "data": {
            "text/html": [
              "<div>\n",
              "<style scoped>\n",
              "    .dataframe tbody tr th:only-of-type {\n",
              "        vertical-align: middle;\n",
              "    }\n",
              "\n",
              "    .dataframe tbody tr th {\n",
              "        vertical-align: top;\n",
              "    }\n",
              "\n",
              "    .dataframe thead th {\n",
              "        text-align: right;\n",
              "    }\n",
              "</style>\n",
              "<table border=\"1\" class=\"dataframe\">\n",
              "  <thead>\n",
              "    <tr style=\"text-align: right;\">\n",
              "      <th></th>\n",
              "      <th>Absolute Magnitude</th>\n",
              "      <th>Orbit Uncertainity</th>\n",
              "      <th>Minimum Orbit Intersection</th>\n",
              "    </tr>\n",
              "  </thead>\n",
              "  <tbody>\n",
              "    <tr>\n",
              "      <th>0</th>\n",
              "      <td>-1.230836</td>\n",
              "      <td>-1.137259</td>\n",
              "      <td>0.046024</td>\n",
              "    </tr>\n",
              "    <tr>\n",
              "      <th>1</th>\n",
              "      <td>0.492097</td>\n",
              "      <td>0.480772</td>\n",
              "      <td>-0.893316</td>\n",
              "    </tr>\n",
              "    <tr>\n",
              "      <th>2</th>\n",
              "      <td>-0.920708</td>\n",
              "      <td>-1.137259</td>\n",
              "      <td>-0.534868</td>\n",
              "    </tr>\n",
              "    <tr>\n",
              "      <th>3</th>\n",
              "      <td>1.525857</td>\n",
              "      <td>1.451591</td>\n",
              "      <td>-0.796663</td>\n",
              "    </tr>\n",
              "    <tr>\n",
              "      <th>4</th>\n",
              "      <td>-0.886249</td>\n",
              "      <td>-1.137259</td>\n",
              "      <td>2.594947</td>\n",
              "    </tr>\n",
              "    <tr>\n",
              "      <th>...</th>\n",
              "      <td>...</td>\n",
              "      <td>...</td>\n",
              "      <td>...</td>\n",
              "    </tr>\n",
              "    <tr>\n",
              "      <th>3275</th>\n",
              "      <td>-1.127460</td>\n",
              "      <td>-1.137259</td>\n",
              "      <td>1.936034</td>\n",
              "    </tr>\n",
              "    <tr>\n",
              "      <th>3276</th>\n",
              "      <td>-0.989625</td>\n",
              "      <td>-1.137259</td>\n",
              "      <td>-0.853630</td>\n",
              "    </tr>\n",
              "    <tr>\n",
              "      <th>3277</th>\n",
              "      <td>0.733308</td>\n",
              "      <td>0.480772</td>\n",
              "      <td>-0.735853</td>\n",
              "    </tr>\n",
              "    <tr>\n",
              "      <th>3278</th>\n",
              "      <td>1.560316</td>\n",
              "      <td>1.775197</td>\n",
              "      <td>-0.902855</td>\n",
              "    </tr>\n",
              "    <tr>\n",
              "      <th>3279</th>\n",
              "      <td>1.698150</td>\n",
              "      <td>0.804378</td>\n",
              "      <td>-0.776020</td>\n",
              "    </tr>\n",
              "  </tbody>\n",
              "</table>\n",
              "<p>3280 rows × 3 columns</p>\n",
              "</div>"
            ],
            "text/plain": [
              "      Absolute Magnitude  Orbit Uncertainity  Minimum Orbit Intersection\n",
              "0              -1.230836           -1.137259                    0.046024\n",
              "1               0.492097            0.480772                   -0.893316\n",
              "2              -0.920708           -1.137259                   -0.534868\n",
              "3               1.525857            1.451591                   -0.796663\n",
              "4              -0.886249           -1.137259                    2.594947\n",
              "...                  ...                 ...                         ...\n",
              "3275           -1.127460           -1.137259                    1.936034\n",
              "3276           -0.989625           -1.137259                   -0.853630\n",
              "3277            0.733308            0.480772                   -0.735853\n",
              "3278            1.560316            1.775197                   -0.902855\n",
              "3279            1.698150            0.804378                   -0.776020\n",
              "\n",
              "[3280 rows x 3 columns]"
            ]
          },
          "execution_count": 36,
          "metadata": {},
          "output_type": "execute_result"
        }
      ],
      "source": [
        "X_train_kbest"
      ]
    },
    {
      "cell_type": "code",
      "execution_count": 37,
      "metadata": {},
      "outputs": [
        {
          "name": "stdout",
          "output_type": "stream",
          "text": [
            "              precision    recall  f1-score   support\n",
            "\n",
            "       False       1.00      1.00      1.00      1180\n",
            "        True       0.98      0.98      0.98       227\n",
            "\n",
            "    accuracy                           0.99      1407\n",
            "   macro avg       0.99      0.99      0.99      1407\n",
            "weighted avg       0.99      0.99      0.99      1407\n",
            "\n"
          ]
        }
      ],
      "source": [
        "X = df.drop(\"Hazardous\",axis=1)\n",
        "y = df[\"Hazardous\"]\n",
        "#Elimino columnas de fechas\n",
        "cd = ColumnDropper(columns=['Close Approach Date','Orbit Determination Date', 'Equinox', 'Orbiting Body'])\n",
        "X = cd.fit_transform(X)\n",
        "\n",
        "X_train, X_test, y_train, y_test = train_test_split(X, y, test_size=0.3, stratify = y, random_state=0)\n",
        "\n",
        "X_train  = X_train.loc[:,['Absolute Magnitude', 'Minimum Orbit Intersection']]\n",
        "X_test   = X_test.loc[:,['Absolute Magnitude', 'Minimum Orbit Intersection']]\n",
        "cd = CollinearityDropper(columns=X_train.columns, min_coef=0.9)\n",
        "cd.fit(X_train)\n",
        "X_train = cd.transform(X_train)\n",
        "X_test = cd.transform(X_test)\n",
        "ss = StandardScaler()\n",
        "ss.fit(X_train)\n",
        "X_train.loc[:,X_train.columns] = ss.transform(X_train)\n",
        "X_test.loc[:,X_test.columns] = ss.transform(X_test)\n",
        "\n",
        "gs = KNeighborsClassifier(weights='distance', n_neighbors=33, metric='manhattan')\n",
        "gs.fit(X_train, y_train)\n",
        "y_pred = gs.predict(X_test)\n",
        "creport = classification_report(y_test,y_pred)\n",
        "print(creport)\n",
        "clfs.append((str(gs), y_test, gs.predict_proba(X_test)[:, 1]))   \n",
        "\n"
      ]
    },
    {
      "cell_type": "markdown",
      "metadata": {},
      "source": [
        "Al final le terminamos sacando lo mismo que árbol."
      ]
    },
    {
      "cell_type": "code",
      "execution_count": 38,
      "metadata": {},
      "outputs": [
        {
          "data": {
            "image/png": "[encoded data removed]",
            "text/plain": [
              "<Figure size 720x720 with 1 Axes>"
            ]
          },
          "metadata": {
            "needs_background": "light"
          },
          "output_type": "display_data"
        }
      ],
      "source": [
        "from sklearn.metrics import confusion_matrix, ConfusionMatrixDisplay, roc_curve, auc\n",
        "def roc_curves(clfs, prob=0.5):\n",
        "    plt.figure(figsize=(10, 10))\n",
        "    for clf_name, y_test, y_proba in clfs:\n",
        "        fpr, tpr, _ = roc_curve(y_test, y_proba)\n",
        "        auc_val = auc(fpr, tpr)\n",
        "        plt.plot(fpr, tpr, label=clf_name+\", AUC:{:.2f}\".format(auc_val))\n",
        "\n",
        "\n",
        "    plt.plot([0, 1], [0, 1], linestyle='--', color='black')\n",
        "    plt.title('Receiver Operating Characteristic (ROC) Curve')\n",
        "    plt.legend()\n",
        "\n",
        "    plt.xlim([0, 1])\n",
        "    plt.ylim([0, 1])\n",
        "\n",
        "    plt.xlabel('FPR')\n",
        "    plt.ylabel('TPR')\n",
        "    plt.show()\n",
        "roc_curves(clfs)"
      ]
    },
    {
      "cell_type": "code",
      "execution_count": 44,
      "metadata": {},
      "outputs": [],
      "source": [
        "pl = Pipeline(steps=[('scaler', StandardScaler()), \n",
        "                     ('knn', GridSearchCV(estimator=KNeighborsClassifier(), param_grid=param_grid, scoring='accuracy', cv=5))])\n",
        "pl.fit(X_train, y_train)\n",
        "y_pred_knn = pl.predict(X_test)"
      ]
    },
    {
      "cell_type": "markdown",
      "metadata": {},
      "source": [
        "---------------"
      ]
    },
    {
      "cell_type": "markdown",
      "metadata": {},
      "source": [
        "# Backup"
      ]
    },
    {
      "cell_type": "markdown",
      "metadata": {},
      "source": [
        "Busqueda exhaustiva de columnas"
      ]
    },
    {
      "cell_type": "code",
      "execution_count": null,
      "metadata": {},
      "outputs": [],
      "source": [
        "#Buscamos columnas...\n",
        "X = df.drop(\"Hazardous\",axis=1)\n",
        "y = df[\"Hazardous\"]\n",
        "#Elimino columnas de fechas\n",
        "cd = ColumnDropper(columns=['Close Approach Date','Orbit Determination Date', 'Equinox', 'Orbiting Body'])\n",
        "X = cd.fit_transform(X)\n",
        "\n",
        "X_train, X_test, y_train, y_test = train_test_split(X, y, test_size=0.3, stratify = y, random_state=0)\n",
        "\n",
        "\n",
        "cd = CollinearityDropper(columns=X.columns, min_coef=0.9)\n",
        "cd.fit(X_train)\n",
        "X_train = cd.transform(X_train)\n",
        "X_test = cd.transform(X_test)\n",
        "\n",
        "ss = StandardScaler()\n",
        "ss.fit(X_train)\n",
        "X_train.loc[:,X_train.columns] = ss.transform(X_train)\n",
        "X_test.loc[:,X_test.columns] = ss.transform(X_test)\n",
        "\n",
        "param_grid = {'n_neighbors': np.arange(1, 51, 2), \n",
        "              'weights': ['distance', 'uniform'], \n",
        "              'metric': ['euclidean', 'manhattan']}\n",
        "\n",
        "gs = RandomizedSearchCV(KNeighborsClassifier(), param_grid, cv=5, scoring='accuracy', verbose=False)\n",
        "#sss = SimpleExhaustiveSearch(estimator=knn, scoring=\"accuracy\", cv=5, sample_size=0.5, groups=[2,3,4], stratify=y_train, verbose=True)\n",
        "gses = GridExhaustiveSearch(estimator=gs, sample_size=0.9, stratify=None, groups=[2,3,4], verbose=True)\n",
        "gses.fit(X_train, y_train)\n",
        "print(\"==>>best score {:.2f}, columns {}, params {}\".format(gses.best_score_, gses.best_subset_, gses.best_params_)) "
      ]
    }
  ],
  "metadata": {
    "colab": {
      "provenance": []
    },
    "kernelspec": {
      "display_name": "Python 3",
      "name": "python3"
    },
    "language_info": {
      "codemirror_mode": {
        "name": "ipython",
        "version": 3
      },
      "file_extension": ".py",
      "mimetype": "text/x-python",
      "name": "python",
      "nbconvert_exporter": "python",
      "pygments_lexer": "ipython3",
      "version": "3.10.1"
    }
  },
  "nbformat": 4,
  "nbformat_minor": 0
}
