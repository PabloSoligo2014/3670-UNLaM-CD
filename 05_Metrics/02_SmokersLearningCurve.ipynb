{
 "cells": [
  {
   "cell_type": "code",
   "execution_count": 111,
   "metadata": {},
   "outputs": [],
   "source": [
    "import pandas as pd\n",
    "import seaborn as sns\n",
    "import matplotlib.pyplot as plt\n",
    "from sklearn.preprocessing import StandardScaler\n",
    "from sklearn.neighbors import KNeighborsClassifier # vecinos más cercanos para clasificación\n",
    "from sklearn.tree  import DecisionTreeClassifier # árboles de decisión para clasificación\n",
    "from sklearn.metrics import accuracy_score # métrica de evaluación\n",
    "from sklearn.metrics import classification_report\n",
    "from sklearn.metrics import confusion_matrix, ConfusionMatrixDisplay, roc_auc_score, roc_curve, auc\n",
    "from sklearn.model_selection import learning_curve, validation_curve, train_test_split, StratifiedKFold, KFold\n",
    "from sklearn.pipeline import Pipeline\n",
    "import numpy as np\n",
    "import sys\n",
    "sys.path.insert(0, '../Code/')\n",
    "from Plots import plt_learning_curve\n"
   ]
  },
  {
   "cell_type": "code",
   "execution_count": 112,
   "metadata": {},
   "outputs": [],
   "source": [
    "\n",
    "df = pd.read_csv('../datasets/smokers.csv')\n"
   ]
  },
  {
   "cell_type": "code",
   "execution_count": 113,
   "metadata": {},
   "outputs": [
    {
     "data": {
      "text/plain": [
       "Index(['age', 'height(cm)', 'weight(kg)', 'waist(cm)', 'eyesight(left)',\n",
       "       'eyesight(right)', 'hearing(left)', 'hearing(right)', 'systolic',\n",
       "       'relaxation', 'fasting blood sugar', 'Cholesterol', 'triglyceride',\n",
       "       'HDL', 'LDL', 'hemoglobin', 'Urine protein', 'serum creatinine', 'AST',\n",
       "       'ALT', 'Gtp', 'dental caries', 'smoking'],\n",
       "      dtype='object')"
      ]
     },
     "execution_count": 113,
     "metadata": {},
     "output_type": "execute_result"
    }
   ],
   "source": [
    "df.columns"
   ]
  },
  {
   "cell_type": "code",
   "execution_count": 114,
   "metadata": {},
   "outputs": [],
   "source": [
    "df = df[['triglyceride', 'Gtp', 'hemoglobin', 'serum creatinine', 'smoking', 'Cholesterol', 'Urine protein', 'age']]\n",
    "X = df.drop(['smoking'], axis=1)\n",
    "y = df['smoking']"
   ]
  },
  {
   "cell_type": "markdown",
   "metadata": {},
   "source": [
    "Estarán de acuerdo que en terminos de Exactitud hemos conseguido el mejor resultado posible (Si logran mejores valores nos avisan!)"
   ]
  },
  {
   "cell_type": "code",
   "execution_count": 115,
   "metadata": {},
   "outputs": [
    {
     "name": "stdout",
     "output_type": "stream",
     "text": [
      "              precision    recall  f1-score   support\n",
      "\n",
      "           0       0.81      0.82      0.82      7400\n",
      "           1       0.69      0.67      0.68      4296\n",
      "\n",
      "    accuracy                           0.77     11696\n",
      "   macro avg       0.75      0.74      0.75     11696\n",
      "weighted avg       0.76      0.77      0.76     11696\n",
      "\n"
     ]
    }
   ],
   "source": [
    "X_train, X_test, y_train, y_test = train_test_split(X.loc[:,['triglyceride', 'Gtp', 'hemoglobin', 'serum creatinine']], y, test_size=0.3, stratify=y, random_state=42)\n",
    "slc = StandardScaler(with_mean=True, with_std=True)\n",
    "slc.fit(X_train) # entrenamos los valores quitandole la variable clase\n",
    "X_train.loc[:,X_train.columns] = slc.transform(X_train)\n",
    "X_test.loc[:,X_test.columns] = slc.transform(X_test)\n",
    "model = KNeighborsClassifier(metric='euclidean', n_neighbors=69, weights='distance')\n",
    "model.fit(X_train,y_train) # Entrenamos el clasificador\n",
    "y_pred = model.predict(X_test)\n",
    "print(classification_report(y_test,y_pred))\n"
   ]
  },
  {
   "cell_type": "markdown",
   "metadata": {},
   "source": [
    "Cambiamos KNN por otro clasificador y utilizamos mas columnas ¿Porque simplemente no demostramos la idea con KNN que es el clasificador que usamos con este dataset y con exactamente el dataset final con las columnas especificadas y los hiperparametros? A modo de \"Disclaimer\" KNN no es el mejor clasificador para mostrar la idea con esta cantidad de datos (Ver SmokersRareClassesUnderSample) ya que es un clasificador extremadamente simple, requiere pocos datos y puntualmente nuestro modelo quedó con solo 4 columnas (Evitando la maldición de la dimensionalidad). Esto no invalida el concepto solo que las curvas de aprendizaje no presentarán el patrón buscado con los datos actuales (Ver SmokersRareClassesUnderSample)."
   ]
  },
  {
   "cell_type": "markdown",
   "metadata": {},
   "source": [
    "Mediante otra clasificador (Lo vemos en proximas clases) obtengo resultados similares "
   ]
  },
  {
   "cell_type": "code",
   "execution_count": 119,
   "metadata": {},
   "outputs": [
    {
     "name": "stdout",
     "output_type": "stream",
     "text": [
      "              precision    recall  f1-score   support\n",
      "\n",
      "           0       0.78      0.77      0.78      7400\n",
      "           1       0.62      0.63      0.63      4296\n",
      "\n",
      "    accuracy                           0.72     11696\n",
      "   macro avg       0.70      0.70      0.70     11696\n",
      "weighted avg       0.72      0.72      0.72     11696\n",
      "\n"
     ]
    }
   ],
   "source": [
    "X_train, X_test, y_train, y_test = train_test_split(X, y, test_size=0.3, stratify=y, random_state=42)\n",
    "model = DecisionTreeClassifier(max_depth=5, random_state=42)\n",
    "model.fit(X_train,y_train) # Entrenamos el clasificador\n",
    "y_pred = model.predict(X_test)\n",
    "print(classification_report(y_test,y_pred))"
   ]
  },
  {
   "cell_type": "markdown",
   "metadata": {},
   "source": [
    "¿Con mas datos (Filas) sería mejor?"
   ]
  },
  {
   "cell_type": "markdown",
   "metadata": {},
   "source": [
    "Veamos que dicen las curvas de aprendizaje."
   ]
  },
  {
   "cell_type": "code",
   "execution_count": 120,
   "metadata": {},
   "outputs": [],
   "source": [
    "#La verdad es que para hacerlo correctamente necesitamos un pipeline, pero no lo hemos visto en clase\n",
    "#puntualmente aca no somos displicentes y hacemos lo correcto, mas adelante lo explicaremos\n",
    "pl = Pipeline(steps=[('scaler', StandardScaler(with_mean=True, with_std=True)), \n",
    "                     ('knn', KNeighborsClassifier(metric='euclidean', n_neighbors=k))])\n",
    "#, \n",
    "skf = KFold(n_splits=10, shuffle=True, random_state=42)\n",
    "train_sizes, train_scores, test_scores = learning_curve(estimator=DecisionTreeClassifier(max_depth=5, random_state=42),\n",
    "                                                        X=X,\n",
    "                                                        y=y,\n",
    "                                                        scoring=\"accuracy\", #\n",
    "                                                        train_sizes=np.linspace(0.01, 0.9, 10),\n",
    "                                                        cv=skf,n_jobs=1)\n"
   ]
  },
  {
   "cell_type": "markdown",
   "metadata": {},
   "source": [
    "Para este clasificador parece suficiente con aproximadamente 10000 registros"
   ]
  },
  {
   "cell_type": "code",
   "execution_count": 121,
   "metadata": {},
   "outputs": [
    {
     "data": {
      "image/png": "[encoded data removed]",
      "text/plain": [
       "<Figure size 576x432 with 1 Axes>"
      ]
     },
     "metadata": {
      "needs_background": "light"
     },
     "output_type": "display_data"
    }
   ],
   "source": [
    "plt_learning_curve(train_sizes, train_scores, test_scores, \"accuracy\", ylims=[0.65, 0.8])"
   ]
  }
 ],
 "metadata": {
  "kernelspec": {
   "display_name": "Python 3",
   "language": "python",
   "name": "python3"
  },
  "language_info": {
   "codemirror_mode": {
    "name": "ipython",
    "version": 3
   },
   "file_extension": ".py",
   "mimetype": "text/x-python",
   "name": "python",
   "nbconvert_exporter": "python",
   "pygments_lexer": "ipython3",
   "version": "3.10.1"
  }
 },
 "nbformat": 4,
 "nbformat_minor": 2
}
