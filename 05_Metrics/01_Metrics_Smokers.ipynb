{
 "cells": [
  {
   "cell_type": "code",
   "execution_count": 1,
   "metadata": {},
   "outputs": [],
   "source": [
    "import pandas as pd\n",
    "import seaborn as sns\n",
    "import matplotlib.pyplot as plt\n",
    "from sklearn.preprocessing import StandardScaler\n",
    "from sklearn.model_selection import train_test_split\n",
    "from sklearn.neighbors import KNeighborsClassifier # vecinos más cercanos para clasificación\n",
    "from sklearn.metrics import accuracy_score # métrica de evaluación\n",
    "from sklearn.metrics import classification_report\n",
    "from sklearn.metrics import confusion_matrix, ConfusionMatrixDisplay, roc_auc_score, roc_curve, auc\n",
    "import numpy as np\n",
    "\n",
    "df = pd.read_csv('../datasets/smokers.csv')\n",
    "df = df[['hemoglobin', 'height(cm)', 'weight(kg)', 'triglyceride', 'Gtp',\n",
    "       'waist(cm)', 'serum creatinine', 'dental caries', 'relaxation',\n",
    "       'fasting blood sugar','smoking', \"HDL\"]]\n",
    "X = df.drop(['smoking'], axis=1)\n",
    "y = df['smoking']\n"
   ]
  },
  {
   "cell_type": "code",
   "execution_count": 2,
   "metadata": {},
   "outputs": [
    {
     "name": "stdout",
     "output_type": "stream",
     "text": [
      "              precision    recall  f1-score   support\n",
      "\n",
      "           0       0.78      0.78      0.78      7400\n",
      "           1       0.62      0.62      0.62      4296\n",
      "\n",
      "    accuracy                           0.72     11696\n",
      "   macro avg       0.70      0.70      0.70     11696\n",
      "weighted avg       0.72      0.72      0.72     11696\n",
      "\n"
     ]
    }
   ],
   "source": [
    "X_train, X_test, y_train, y_test = train_test_split(X, y, test_size=0.3, stratify=y, random_state=42)\n",
    "scaler_X = StandardScaler(with_mean=True, with_std=True)\n",
    "scaler_X.fit(X_train) # entrenamos los valores quitandole la variable clase\n",
    "X_train.loc[:,X_train.columns] = scaler_X.transform(X_train)\n",
    "X_test.loc[:,X_test.columns] = scaler_X.transform(X_test)\n",
    "model = KNeighborsClassifier( 39 )\n",
    "model.fit(X_train,y_train) # Entrenamos el clasificador\n",
    "y_pred = model.predict(X_test)\n",
    "print(classification_report(y_test,y_pred))\n"
   ]
  },
  {
   "cell_type": "code",
   "execution_count": 3,
   "metadata": {},
   "outputs": [
    {
     "data": {
      "text/plain": [
       "<sklearn.metrics._plot.confusion_matrix.ConfusionMatrixDisplay at 0x752c85db9960>"
      ]
     },
     "execution_count": 3,
     "metadata": {},
     "output_type": "execute_result"
    },
    {
     "data": {
      "image/png": "[encoded data removed]",
      "text/plain": [
       "<Figure size 640x480 with 2 Axes>"
      ]
     },
     "metadata": {},
     "output_type": "display_data"
    }
   ],
   "source": [
    "cm = confusion_matrix(y_test, y_pred)\n",
    "cm = np.rot90(cm, 2)\n",
    "disp = ConfusionMatrixDisplay(confusion_matrix=cm,\n",
    "                               display_labels=np.flip(model.classes_))\n",
    "disp.plot()"
   ]
  },
  {
   "cell_type": "markdown",
   "metadata": {},
   "source": [
    "Máximo score obtenido para precisión (Y exactitud)"
   ]
  },
  {
   "cell_type": "code",
   "execution_count": 4,
   "metadata": {},
   "outputs": [
    {
     "name": "stdout",
     "output_type": "stream",
     "text": [
      "              precision    recall  f1-score   support\n",
      "\n",
      "           0       0.81      0.82      0.82      7400\n",
      "           1       0.69      0.67      0.68      4296\n",
      "\n",
      "    accuracy                           0.77     11696\n",
      "   macro avg       0.75      0.74      0.75     11696\n",
      "weighted avg       0.76      0.77      0.76     11696\n",
      "\n"
     ]
    }
   ],
   "source": [
    "pred_columns = ['triglyceride', 'Gtp', 'hemoglobin', 'serum creatinine']\n",
    "X_train, X_test, y_train, y_test = train_test_split(X[pred_columns], y, test_size=0.3, stratify=y, random_state=42)\n",
    "scaler_X = StandardScaler(with_mean=True, with_std=True)\n",
    "scaler_X.fit(X_train) # entrenamos los valores quitandole la variable clase\n",
    "X_train.loc[:,X_train.columns] = scaler_X.transform(X_train)\n",
    "X_test.loc[:,X_test.columns] = scaler_X.transform(X_test)\n",
    "model = KNeighborsClassifier(metric='euclidean', n_neighbors=69, weights='distance')\n",
    "model.fit(X_train,y_train) # Entrenamos el clasificador\n",
    "y_pred = model.predict(X_test)\n",
    "print(classification_report(y_test,y_pred))"
   ]
  },
  {
   "cell_type": "markdown",
   "metadata": {},
   "source": [
    "Ordenamos los registros por propensión y modificamos el punto de corte o threshold"
   ]
  },
  {
   "cell_type": "code",
   "execution_count": 5,
   "metadata": {},
   "outputs": [
    {
     "data": {
      "text/html": [
       "<div>\n",
       "<style scoped>\n",
       "    .dataframe tbody tr th:only-of-type {\n",
       "        vertical-align: middle;\n",
       "    }\n",
       "\n",
       "    .dataframe tbody tr th {\n",
       "        vertical-align: top;\n",
       "    }\n",
       "\n",
       "    .dataframe thead th {\n",
       "        text-align: right;\n",
       "    }\n",
       "</style>\n",
       "<table border=\"1\" class=\"dataframe\">\n",
       "  <thead>\n",
       "    <tr style=\"text-align: right;\">\n",
       "      <th></th>\n",
       "      <th>Propension</th>\n",
       "    </tr>\n",
       "  </thead>\n",
       "  <tbody>\n",
       "    <tr>\n",
       "      <th>699</th>\n",
       "      <td>1.000000</td>\n",
       "    </tr>\n",
       "    <tr>\n",
       "      <th>1296</th>\n",
       "      <td>0.742745</td>\n",
       "    </tr>\n",
       "    <tr>\n",
       "      <th>2806</th>\n",
       "      <td>0.601096</td>\n",
       "    </tr>\n",
       "    <tr>\n",
       "      <th>2868</th>\n",
       "      <td>0.595390</td>\n",
       "    </tr>\n",
       "    <tr>\n",
       "      <th>6695</th>\n",
       "      <td>0.280899</td>\n",
       "    </tr>\n",
       "    <tr>\n",
       "      <th>8428</th>\n",
       "      <td>0.073732</td>\n",
       "    </tr>\n",
       "    <tr>\n",
       "      <th>8612</th>\n",
       "      <td>0.062769</td>\n",
       "    </tr>\n",
       "    <tr>\n",
       "      <th>9442</th>\n",
       "      <td>0.025887</td>\n",
       "    </tr>\n",
       "    <tr>\n",
       "      <th>9837</th>\n",
       "      <td>0.011166</td>\n",
       "    </tr>\n",
       "    <tr>\n",
       "      <th>11305</th>\n",
       "      <td>0.000000</td>\n",
       "    </tr>\n",
       "  </tbody>\n",
       "</table>\n",
       "</div>"
      ],
      "text/plain": [
       "       Propension\n",
       "699      1.000000\n",
       "1296     0.742745\n",
       "2806     0.601096\n",
       "2868     0.595390\n",
       "6695     0.280899\n",
       "8428     0.073732\n",
       "8612     0.062769\n",
       "9442     0.025887\n",
       "9837     0.011166\n",
       "11305    0.000000"
      ]
     },
     "execution_count": 5,
     "metadata": {},
     "output_type": "execute_result"
    }
   ],
   "source": [
    "dfp = pd.DataFrame(np.sort(model.predict_proba(X_test)[:,1])[::-1], columns=['Propension'])\n",
    "dfp.sample(10).sort_values('Propension', ascending=False).head(10)"
   ]
  },
  {
   "cell_type": "code",
   "execution_count": 6,
   "metadata": {},
   "outputs": [
    {
     "name": "stdout",
     "output_type": "stream",
     "text": [
      "              precision    recall  f1-score   support\n",
      "\n",
      "           0       0.76      0.91      0.83      7400\n",
      "           1       0.76      0.50      0.60      4296\n",
      "\n",
      "    accuracy                           0.76     11696\n",
      "   macro avg       0.76      0.71      0.72     11696\n",
      "weighted avg       0.76      0.76      0.75     11696\n",
      "\n"
     ]
    }
   ],
   "source": [
    "y_pred = (model.predict_proba(X_test)[:,1]>0.6)\n",
    "print(classification_report(y_test,y_pred))"
   ]
  }
 ],
 "metadata": {
  "kernelspec": {
   "display_name": "Python 3",
   "language": "python",
   "name": "python3"
  },
  "language_info": {
   "codemirror_mode": {
    "name": "ipython",
    "version": 3
   },
   "file_extension": ".py",
   "mimetype": "text/x-python",
   "name": "python",
   "nbconvert_exporter": "python",
   "pygments_lexer": "ipython3",
   "version": "3.10.12"
  }
 },
 "nbformat": 4,
 "nbformat_minor": 2
}
