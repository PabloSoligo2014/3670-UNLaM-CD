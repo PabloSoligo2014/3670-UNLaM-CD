{
 "cells": [
  {
   "cell_type": "code",
   "execution_count": 15,
   "metadata": {},
   "outputs": [],
   "source": [
    "import pandas as pd\n",
    "import seaborn as sns\n",
    "import matplotlib.pyplot as plt\n",
    "from sklearn.preprocessing import StandardScaler\n",
    "from sklearn.model_selection import train_test_split\n",
    "from sklearn.neighbors import KNeighborsClassifier # vecinos más cercanos para clasificación\n",
    "from sklearn.metrics import accuracy_score # métrica de evaluación\n",
    "from sklearn.metrics import classification_report\n",
    "from sklearn.metrics import confusion_matrix, ConfusionMatrixDisplay, roc_auc_score, roc_curve, auc\n",
    "import numpy as np\n",
    "\n",
    "df = pd.read_csv('../datasets/smokers.csv')\n",
    "df = df[['hemoglobin', 'height(cm)', 'weight(kg)', 'triglyceride', 'Gtp',\n",
    "       'waist(cm)', 'serum creatinine', 'dental caries', 'relaxation',\n",
    "       'fasting blood sugar','smoking', \"HDL\"]]\n",
    "X = df.drop(['smoking'], axis=1)\n",
    "y = df['smoking']\n"
   ]
  },
  {
   "cell_type": "code",
   "execution_count": 16,
   "metadata": {},
   "outputs": [
    {
     "name": "stdout",
     "output_type": "stream",
     "text": [
      "              precision    recall  f1-score   support\n",
      "\n",
      "           0       0.78      0.78      0.78      7400\n",
      "           1       0.62      0.62      0.62      4296\n",
      "\n",
      "    accuracy                           0.72     11696\n",
      "   macro avg       0.70      0.70      0.70     11696\n",
      "weighted avg       0.72      0.72      0.72     11696\n",
      "\n"
     ]
    }
   ],
   "source": [
    "X_train, X_test, y_train, y_test = train_test_split(X, y, test_size=0.3, stratify=y, random_state=42)\n",
    "scaler_X = StandardScaler(with_mean=True, with_std=True)\n",
    "scaler_X.fit(X_train) # entrenamos los valores quitandole la variable clase\n",
    "X_train.loc[:,X_train.columns] = scaler_X.transform(X_train)\n",
    "X_test.loc[:,X_test.columns] = scaler_X.transform(X_test)\n",
    "model = KNeighborsClassifier( 39 )\n",
    "model.fit(X_train,y_train) # Entrenamos el clasificador\n",
    "y_pred = model.predict(X_test)\n",
    "print(classification_report(y_test,y_pred))\n"
   ]
  },
  {
   "cell_type": "code",
   "execution_count": 17,
   "metadata": {},
   "outputs": [
    {
     "data": {
      "text/plain": [
       "<sklearn.metrics._plot.confusion_matrix.ConfusionMatrixDisplay at 0x2715f4ee140>"
      ]
     },
     "execution_count": 17,
     "metadata": {},
     "output_type": "execute_result"
    },
    {
     "data": {
      "image/png": "[encoded data removed]",
      "text/plain": [
       "<Figure size 432x288 with 2 Axes>"
      ]
     },
     "metadata": {
      "needs_background": "light"
     },
     "output_type": "display_data"
    }
   ],
   "source": [
    "cm = confusion_matrix(y_test, y_pred)\n",
    "cm = np.rot90(cm, 2)\n",
    "disp = ConfusionMatrixDisplay(confusion_matrix=cm,\n",
    "                               display_labels=np.flip(model.classes_))\n",
    "disp.plot()"
   ]
  },
  {
   "cell_type": "markdown",
   "metadata": {},
   "source": [
    "Máximo score obtenido para precisión (Y exactitud)"
   ]
  },
  {
   "cell_type": "code",
   "execution_count": 18,
   "metadata": {},
   "outputs": [
    {
     "name": "stdout",
     "output_type": "stream",
     "text": [
      "              precision    recall  f1-score   support\n",
      "\n",
      "           0       0.81      0.82      0.82      7400\n",
      "           1       0.69      0.67      0.68      4296\n",
      "\n",
      "    accuracy                           0.77     11696\n",
      "   macro avg       0.75      0.74      0.75     11696\n",
      "weighted avg       0.76      0.77      0.76     11696\n",
      "\n"
     ]
    }
   ],
   "source": [
    "pred_columns = ['triglyceride', 'Gtp', 'hemoglobin', 'serum creatinine']\n",
    "X_train, X_test, y_train, y_test = train_test_split(X[pred_columns], y, test_size=0.3, stratify=y, random_state=42)\n",
    "scaler_X = StandardScaler(with_mean=True, with_std=True)\n",
    "scaler_X.fit(X_train) # entrenamos los valores quitandole la variable clase\n",
    "X_train.loc[:,X_train.columns] = scaler_X.transform(X_train)\n",
    "X_test.loc[:,X_test.columns] = scaler_X.transform(X_test)\n",
    "model = KNeighborsClassifier(metric='euclidean', n_neighbors=69, weights='distance')\n",
    "model.fit(X_train,y_train) # Entrenamos el clasificador\n",
    "y_pred = model.predict(X_test)\n",
    "print(classification_report(y_test,y_pred))"
   ]
  },
  {
   "cell_type": "markdown",
   "metadata": {},
   "source": [
    "Ordenamos los registros por propensión y modificamos el punto de corte o threshold"
   ]
  },
  {
   "cell_type": "code",
   "execution_count": 22,
   "metadata": {},
   "outputs": [
    {
     "data": {
      "text/html": [
       "<div>\n",
       "<style scoped>\n",
       "    .dataframe tbody tr th:only-of-type {\n",
       "        vertical-align: middle;\n",
       "    }\n",
       "\n",
       "    .dataframe tbody tr th {\n",
       "        vertical-align: top;\n",
       "    }\n",
       "\n",
       "    .dataframe thead th {\n",
       "        text-align: right;\n",
       "    }\n",
       "</style>\n",
       "<table border=\"1\" class=\"dataframe\">\n",
       "  <thead>\n",
       "    <tr style=\"text-align: right;\">\n",
       "      <th></th>\n",
       "      <th>Propension</th>\n",
       "    </tr>\n",
       "  </thead>\n",
       "  <tbody>\n",
       "    <tr>\n",
       "      <th>801</th>\n",
       "      <td>1.000000</td>\n",
       "    </tr>\n",
       "    <tr>\n",
       "      <th>2570</th>\n",
       "      <td>0.618393</td>\n",
       "    </tr>\n",
       "    <tr>\n",
       "      <th>3143</th>\n",
       "      <td>0.576104</td>\n",
       "    </tr>\n",
       "    <tr>\n",
       "      <th>3998</th>\n",
       "      <td>0.516019</td>\n",
       "    </tr>\n",
       "    <tr>\n",
       "      <th>4193</th>\n",
       "      <td>0.499422</td>\n",
       "    </tr>\n",
       "    <tr>\n",
       "      <th>4456</th>\n",
       "      <td>0.478928</td>\n",
       "    </tr>\n",
       "    <tr>\n",
       "      <th>5964</th>\n",
       "      <td>0.352670</td>\n",
       "    </tr>\n",
       "    <tr>\n",
       "      <th>6699</th>\n",
       "      <td>0.280639</td>\n",
       "    </tr>\n",
       "    <tr>\n",
       "      <th>9177</th>\n",
       "      <td>0.037404</td>\n",
       "    </tr>\n",
       "    <tr>\n",
       "      <th>11625</th>\n",
       "      <td>0.000000</td>\n",
       "    </tr>\n",
       "  </tbody>\n",
       "</table>\n",
       "</div>"
      ],
      "text/plain": [
       "       Propension\n",
       "801      1.000000\n",
       "2570     0.618393\n",
       "3143     0.576104\n",
       "3998     0.516019\n",
       "4193     0.499422\n",
       "4456     0.478928\n",
       "5964     0.352670\n",
       "6699     0.280639\n",
       "9177     0.037404\n",
       "11625    0.000000"
      ]
     },
     "execution_count": 22,
     "metadata": {},
     "output_type": "execute_result"
    }
   ],
   "source": [
    "dfp = pd.DataFrame(np.sort(model.predict_proba(X_test)[:,1])[::-1], columns=['Propension'])\n",
    "dfp.sample(10).sort_values('Propension', ascending=False).head(10)"
   ]
  },
  {
   "cell_type": "code",
   "execution_count": 15,
   "metadata": {},
   "outputs": [
    {
     "name": "stdout",
     "output_type": "stream",
     "text": [
      "              precision    recall  f1-score   support\n",
      "\n",
      "           0       0.76      0.91      0.83      7400\n",
      "           1       0.76      0.50      0.60      4296\n",
      "\n",
      "    accuracy                           0.76     11696\n",
      "   macro avg       0.76      0.71      0.72     11696\n",
      "weighted avg       0.76      0.76      0.75     11696\n",
      "\n"
     ]
    }
   ],
   "source": [
    "y_pred = (model.predict_proba(X_test)[:,1]>0.6)\n",
    "print(classification_report(y_test,y_pred))"
   ]
  }
 ],
 "metadata": {
  "kernelspec": {
   "display_name": "Python 3",
   "language": "python",
   "name": "python3"
  },
  "language_info": {
   "codemirror_mode": {
    "name": "ipython",
    "version": 3
   },
   "file_extension": ".py",
   "mimetype": "text/x-python",
   "name": "python",
   "nbconvert_exporter": "python",
   "pygments_lexer": "ipython3",
   "version": "3.10.1"
  }
 },
 "nbformat": 4,
 "nbformat_minor": 2
}
