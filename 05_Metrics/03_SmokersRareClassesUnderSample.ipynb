{
 "cells": [
  {
   "cell_type": "code",
   "execution_count": 8,
   "metadata": {},
   "outputs": [],
   "source": [
    "import pandas as pd\n",
    "import seaborn as sns\n",
    "import matplotlib.pyplot as plt\n",
    "from sklearn.preprocessing import StandardScaler\n",
    "from sklearn.model_selection import train_test_split\n",
    "from sklearn.neighbors import KNeighborsClassifier # vecinos más cercanos para clasificación\n",
    "from sklearn.metrics import accuracy_score # métrica de evaluación\n",
    "from sklearn.metrics import classification_report\n",
    "from sklearn.metrics import confusion_matrix, ConfusionMatrixDisplay, roc_auc_score, roc_curve, auc\n",
    "import numpy as np\n",
    "import sys\n",
    "sys.path.append('../Code')\n",
    "from Plots import plt_learning_curve\n",
    "df = pd.read_csv('../datasets/smokers.csv')\n",
    "df = df[['triglyceride', 'Gtp', 'hemoglobin', 'serum creatinine', 'smoking']]\n",
    "X = df.drop(['smoking'], axis=1)\n",
    "y = df['smoking']"
   ]
  },
  {
   "cell_type": "markdown",
   "metadata": {},
   "source": [
    "Estarán de acuerdo que en terminos de Exactitud hemos conseguido el mejor resultado posible (Si logran mejores valores nos avisan!)"
   ]
  },
  {
   "cell_type": "code",
   "execution_count": 9,
   "metadata": {},
   "outputs": [
    {
     "name": "stdout",
     "output_type": "stream",
     "text": [
      "              precision    recall  f1-score   support\n",
      "\n",
      "           0       0.81      0.82      0.82      7400\n",
      "           1       0.69      0.67      0.68      4296\n",
      "\n",
      "    accuracy                           0.77     11696\n",
      "   macro avg       0.75      0.74      0.75     11696\n",
      "weighted avg       0.76      0.77      0.76     11696\n",
      "\n"
     ]
    }
   ],
   "source": [
    "X_train, X_test, y_train, y_test = train_test_split(X, y, test_size=0.3, stratify=y, random_state=42)\n",
    "scaler_X = StandardScaler(with_mean=True, with_std=True)\n",
    "scaler_X.fit(X_train) # entrenamos los valores quitandole la variable clase\n",
    "X_train.loc[:,X_train.columns] = scaler_X.transform(X_train)\n",
    "X_test.loc[:,X_test.columns] = scaler_X.transform(X_test)\n",
    "model = KNeighborsClassifier(metric='euclidean', n_neighbors=69, weights='distance')\n",
    "model.fit(X_train,y_train) # Entrenamos el clasificador\n",
    "y_pred = model.predict(X_test)\n",
    "print(classification_report(y_test,y_pred))\n"
   ]
  },
  {
   "cell_type": "markdown",
   "metadata": {},
   "source": [
    "Con mucho esfuerzo :) logramos un accuracy de 0.77"
   ]
  },
  {
   "cell_type": "markdown",
   "metadata": {},
   "source": [
    "Modificamos el dataset, que es conocido por nosotros para hacer que una clase sea prevalente sobre la otra"
   ]
  },
  {
   "cell_type": "code",
   "execution_count": 10,
   "metadata": {},
   "outputs": [
    {
     "data": {
      "text/plain": [
       "<Axes: xlabel='smoking', ylabel='count'>"
      ]
     },
     "execution_count": 10,
     "metadata": {},
     "output_type": "execute_result"
    },
    {
     "data": {
      "image/png": "[encoded data removed]",
      "text/plain": [
       "<Figure size 432x288 with 1 Axes>"
      ]
     },
     "metadata": {
      "needs_background": "light"
     },
     "output_type": "display_data"
    }
   ],
   "source": [
    "from imblearn.under_sampling import RandomUnderSampler\n",
    "from collections import Counter\n",
    "\n",
    "rus = RandomUnderSampler(sampling_strategy={1: 500}, random_state=42)\n",
    "X_res, y_res = rus.fit_resample(X, y)\n",
    "df_res = pd.DataFrame(pd.concat([X_res, y_res], axis=1), columns=df.columns)\n",
    "sns.countplot(x='smoking', data=df_res, hue='smoking', palette='viridis')"
   ]
  },
  {
   "cell_type": "markdown",
   "metadata": {},
   "source": [
    "El accuracy es excelente, pero ¿me sirve?"
   ]
  },
  {
   "cell_type": "code",
   "execution_count": 11,
   "metadata": {},
   "outputs": [
    {
     "name": "stdout",
     "output_type": "stream",
     "text": [
      "              precision    recall  f1-score   support\n",
      "\n",
      "           0       0.98      1.00      0.99      7400\n",
      "           1       0.00      0.00      0.00       150\n",
      "\n",
      "    accuracy                           0.98      7550\n",
      "   macro avg       0.49      0.50      0.49      7550\n",
      "weighted avg       0.96      0.98      0.97      7550\n",
      "\n"
     ]
    }
   ],
   "source": [
    "X = df_res.drop(['smoking'], axis=1)\n",
    "y = df_res['smoking']\n",
    "X_train, X_test, y_train, y_test = train_test_split(X, y, test_size=0.3, stratify=y, random_state=42)\n",
    "scaler_X = StandardScaler(with_mean=True, with_std=True)\n",
    "scaler_X.fit(X_train) # entrenamos los valores quitandole la variable clase\n",
    "X_train.loc[:,X_train.columns] = scaler_X.transform(X_train)\n",
    "X_test.loc[:,X_test.columns] = scaler_X.transform(X_test)\n",
    "model = KNeighborsClassifier(metric='euclidean', n_neighbors=69, weights='distance')\n",
    "model.fit(X_train,y_train) # Entrenamos el clasificador\n",
    "y_pred = model.predict(X_test)\n",
    "print(classification_report(y_test,y_pred))"
   ]
  },
  {
   "cell_type": "markdown",
   "metadata": {},
   "source": [
    "¿Que puedo hacer? El modelo es muy simple (KNN) y ademas lo logramos con muy pocas columnas. Respuesta: Undersample"
   ]
  },
  {
   "cell_type": "code",
   "execution_count": 12,
   "metadata": {},
   "outputs": [
    {
     "data": {
      "text/plain": [
       "<Axes: xlabel='smoking', ylabel='count'>"
      ]
     },
     "execution_count": 12,
     "metadata": {},
     "output_type": "execute_result"
    },
    {
     "data": {
      "image/png": "[encoded data removed]",
      "text/plain": [
       "<Figure size 432x288 with 1 Axes>"
      ]
     },
     "metadata": {
      "needs_background": "light"
     },
     "output_type": "display_data"
    }
   ],
   "source": [
    "rus = RandomUnderSampler(sampling_strategy='majority', random_state=42)\n",
    "X_res, y_res = rus.fit_resample(X, y)\n",
    "df_res = pd.DataFrame(pd.concat([X_res, y_res], axis=1), columns=df.columns)\n",
    "sns.countplot(x='smoking', data=df_res, hue='smoking', palette='viridis')"
   ]
  },
  {
   "cell_type": "markdown",
   "metadata": {},
   "source": [
    "Obtengo resultados comparables. Esto es cierto para tan pocos datos por la simplicidad de KNN y por las pocas columnas con la que trabajamos"
   ]
  },
  {
   "cell_type": "code",
   "execution_count": 13,
   "metadata": {},
   "outputs": [
    {
     "name": "stdout",
     "output_type": "stream",
     "text": [
      "              precision    recall  f1-score   support\n",
      "\n",
      "           0       0.78      0.64      0.70       150\n",
      "           1       0.69      0.82      0.75       150\n",
      "\n",
      "    accuracy                           0.73       300\n",
      "   macro avg       0.74      0.73      0.73       300\n",
      "weighted avg       0.74      0.73      0.73       300\n",
      "\n"
     ]
    }
   ],
   "source": [
    "X = df_res.drop(['smoking'], axis=1)\n",
    "y = df_res['smoking']\n",
    "X_train, X_test, y_train, y_test = train_test_split(X, y, test_size=0.3, stratify=y, random_state=42)\n",
    "scaler_X = StandardScaler(with_mean=True, with_std=True)\n",
    "scaler_X.fit(X_train) # entrenamos los valores quitandole la variable clase\n",
    "X_train.loc[:,X_train.columns] = scaler_X.transform(X_train)\n",
    "X_test.loc[:,X_test.columns] = scaler_X.transform(X_test)\n",
    "model = KNeighborsClassifier(metric='euclidean', n_neighbors=69, weights='distance')\n",
    "model.fit(X_train,y_train) # Entrenamos el clasificador\n",
    "y_pred = model.predict(X_test)\n",
    "print(classification_report(y_test,y_pred))"
   ]
  },
  {
   "cell_type": "markdown",
   "metadata": {},
   "source": [
    "Las curvas de aprendizaje demuestran que no es necesario tener 40000 datos para realizar la clasificación"
   ]
  },
  {
   "cell_type": "code",
   "execution_count": 14,
   "metadata": {},
   "outputs": [],
   "source": [
    "from sklearn.model_selection import learning_curve, validation_curve, train_test_split, StratifiedKFold, KFold\n",
    "from sklearn.pipeline import Pipeline\n",
    "\n",
    "#La verdad es que para hacerlo correctamente necesitamos un pipeline, pero no lo hemos visto en clase\n",
    "#puntualmente aca no somos displicentes y hacemos lo correcto, mas adelante lo explicaremos\n",
    "#Pongo menos vecinos por la cantidad de datos disponibles\n",
    "pl = Pipeline(steps=[('scaler', StandardScaler(with_mean=True, with_std=True)), \n",
    "                     ('knn', KNeighborsClassifier(metric='euclidean', n_neighbors=10))])\n",
    "#, \n",
    "skf = KFold(n_splits=10, shuffle=True, random_state=42)\n",
    "train_sizes, train_scores, test_scores = learning_curve(estimator=pl,\n",
    "                                                        X=X,\n",
    "                                                        y=y,\n",
    "                                                        scoring=\"accuracy\", #\n",
    "                                                        train_sizes=np.linspace(0.1, 1, 10),\n",
    "                                                        cv=skf,n_jobs=1)\n"
   ]
  },
  {
   "cell_type": "code",
   "execution_count": 15,
   "metadata": {},
   "outputs": [
    {
     "data": {
      "image/png": "[encoded data removed]",
      "text/plain": [
       "<Figure size 576x432 with 1 Axes>"
      ]
     },
     "metadata": {
      "needs_background": "light"
     },
     "output_type": "display_data"
    }
   ],
   "source": [
    "plt_learning_curve(train_sizes, train_scores, test_scores, \"accuracy\", ylims=[0.3, 1])"
   ]
  }
 ],
 "metadata": {
  "kernelspec": {
   "display_name": "Python 3",
   "language": "python",
   "name": "python3"
  },
  "language_info": {
   "codemirror_mode": {
    "name": "ipython",
    "version": 3
   },
   "file_extension": ".py",
   "mimetype": "text/x-python",
   "name": "python",
   "nbconvert_exporter": "python",
   "pygments_lexer": "ipython3",
   "version": "3.10.1"
  }
 },
 "nbformat": 4,
 "nbformat_minor": 2
}
