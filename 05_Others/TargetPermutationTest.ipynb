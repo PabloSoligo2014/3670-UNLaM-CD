{
 "cells": [
  {
   "cell_type": "code",
   "execution_count": 2,
   "metadata": {},
   "outputs": [
    {
     "name": "stdout",
     "output_type": "stream",
     "text": [
      "Precisión del modelo: 0.8714285714285716\n",
      "P-value: 0.0033222591362126247\n"
     ]
    }
   ],
   "source": [
    "from sklearn.model_selection import permutation_test_score\n",
    "from sklearn.linear_model import LogisticRegression\n",
    "from sklearn.datasets import make_classification\n",
    "from matplotlib import pyplot as plt\n",
    "import numpy as np\n",
    "import numpy as np\n",
    "from sklearn.metrics import accuracy_score\n",
    "from sklearn.datasets import make_classification\n",
    "from sklearn.model_selection import train_test_split\n",
    "\n",
    "X, y = make_classification(n_samples=500, n_features=20, n_informative=15, random_state=42)\n",
    "X_train, X_test, y_train, y_test = train_test_split(X, y, test_size=0.3, random_state=42)\n",
    "\n",
    "# Instanciar un modelo\n",
    "clf = LogisticRegression()\n",
    "\n",
    "# Realizar el test de permutación\n",
    "score, permutation_scores, pvalue = permutation_test_score(\n",
    "    clf, X_train, y_train, scoring=\"accuracy\", n_permutations=300, random_state=42\n",
    ")\n",
    "\n",
    "print(f\"Precisión del modelo: {score}\")\n",
    "print(f\"P-value: {pvalue}\")\n"
   ]
  },
  {
   "cell_type": "code",
   "execution_count": 3,
   "metadata": {},
   "outputs": [
    {
     "data": {
      "image/png": "[encoded data removed]",
      "text/plain": [
       "<Figure size 432x288 with 1 Axes>"
      ]
     },
     "metadata": {
      "needs_background": "light"
     },
     "output_type": "display_data"
    }
   ],
   "source": [
    "plt.hist(permutation_scores, bins=20, edgecolor='black')\n",
    "plt.axvline(score, linestyle='--', color='red')\n",
    "plt.show()\n"
   ]
  },
  {
   "cell_type": "markdown",
   "metadata": {},
   "source": [
    "Desarrollamos la idea manualmente para verificar"
   ]
  },
  {
   "cell_type": "code",
   "execution_count": 5,
   "metadata": {},
   "outputs": [
    {
     "data": {
      "image/png": "[encoded data removed]",
      "text/plain": [
       "<Figure size 432x288 with 1 Axes>"
      ]
     },
     "metadata": {
      "needs_background": "light"
     },
     "output_type": "display_data"
    },
    {
     "name": "stdout",
     "output_type": "stream",
     "text": [
      "Precisión del modelo: 0.8714285714285716\n",
      "P-value: 0.0033222591362126247\n"
     ]
    }
   ],
   "source": [
    "clf.fit(X_train, y_train)\n",
    "original_score = clf.score(X_train, y_train)\n",
    "\n",
    "for i in range(300):\n",
    "    y_permuted = y_train.copy()\n",
    "    np.random.shuffle(y_permuted)\n",
    "    clf.fit(X_train, y_permuted)\n",
    "    permutation_scores.append(clf.score(X_train, y_permuted))\n",
    "plt.hist(permutation_scores, bins=20, edgecolor='black')\n",
    "plt.axvline(score, linestyle='--', color='red')\n",
    "plt.show()\n",
    "\n",
    "permutation_scores = np.array(permutation_scores)\n",
    "p_value = np.mean(permutation_scores >= original_score)\n",
    "print(f\"Precisión del modelo: {score}\")\n",
    "print(f\"P-value: {pvalue}\")"
   ]
  },
  {
   "cell_type": "markdown",
   "metadata": {},
   "source": [
    "Si usamos las medias puede ser incluso mejor pero computacionalmente mas caro"
   ]
  },
  {
   "cell_type": "code",
   "execution_count": 10,
   "metadata": {},
   "outputs": [],
   "source": [
    "# Paso 4: Realizar permutaciones en la variable objetivo y calcular la precisión promedio de varias ejecuciones\n",
    "n_permutations = 300  # Número de permutaciones\n",
    "n_runs_per_permutation = 20  # Número de ejecuciones por permutación\n",
    "permutation_scores = np.zeros(n_permutations)\n",
    "\n",
    "for i in range(n_permutations):\n",
    "    # Permutar aleatoriamente los valores de la variable objetivo de entrenamiento\n",
    "    y_train_permuted = np.random.permutation(y_train)\n",
    "    \n",
    "    scores = []\n",
    "    for _ in range(n_runs_per_permutation):\n",
    "        # Entrenar el modelo con la variable objetivo permutada\n",
    "        clf.fit(X_train, y_train_permuted)\n",
    "        scores.append(accuracy_score(y_test, clf.predict(X_test)))\n",
    "    \n",
    "    # Promediar los resultados de varias ejecuciones\n",
    "    permutation_scores[i] = np.mean(scores)\n"
   ]
  },
  {
   "cell_type": "code",
   "execution_count": 11,
   "metadata": {},
   "outputs": [
    {
     "data": {
      "image/png": "[encoded data removed]",
      "text/plain": [
       "<Figure size 432x288 with 1 Axes>"
      ]
     },
     "metadata": {
      "needs_background": "light"
     },
     "output_type": "display_data"
    },
    {
     "name": "stdout",
     "output_type": "stream",
     "text": [
      "Precisión del modelo: 0.8714285714285716\n",
      "Valor p: 0.0\n",
      "Promedio de las precisiones de permutación: 0.4934666666666667\n"
     ]
    }
   ],
   "source": [
    "plt.hist(permutation_scores, bins=20, edgecolor='black')\n",
    "plt.axvline(score, linestyle='--', color='red')\n",
    "plt.show()\n",
    "\n",
    "print(f\"Precisión del modelo: {score}\")\n",
    "# Paso 5: Calcular el valor p\n",
    "p_value = np.mean(permutation_scores >= score)\n",
    "print(f'Valor p: {p_value}')\n",
    "# Paso 6: Mostrar resultados\n",
    "print(f'Promedio de las precisiones de permutación: {np.mean(permutation_scores)}')"
   ]
  }
 ],
 "metadata": {
  "kernelspec": {
   "display_name": "Python 3",
   "language": "python",
   "name": "python3"
  },
  "language_info": {
   "codemirror_mode": {
    "name": "ipython",
    "version": 3
   },
   "file_extension": ".py",
   "mimetype": "text/x-python",
   "name": "python",
   "nbconvert_exporter": "python",
   "pygments_lexer": "ipython3",
   "version": "3.10.1"
  }
 },
 "nbformat": 4,
 "nbformat_minor": 2
}
