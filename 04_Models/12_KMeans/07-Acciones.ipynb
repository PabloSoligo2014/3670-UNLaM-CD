{
 "cells": [
  {
   "cell_type": "code",
   "execution_count": 10,
   "metadata": {},
   "outputs": [],
   "source": [
    "import math\n",
    "from pathlib import Path\n",
    "import pandas as pd\n",
    "import numpy as np\n",
    "\n",
    "from sklearn import preprocessing\n",
    "from sklearn.decomposition import PCA\n",
    "from sklearn.cluster import KMeans\n",
    "from sklearn.mixture import GaussianMixture\n",
    "\n",
    "import matplotlib.pyplot as plt\n",
    "from matplotlib import cm \n",
    "from matplotlib.colors import from_levels_and_colors\n",
    "import seaborn as sns\n",
    "from sklearn.preprocessing import StandardScaler"
   ]
  },
  {
   "cell_type": "code",
   "execution_count": 11,
   "metadata": {},
   "outputs": [],
   "source": [
    "df_acc = pd.read_csv(\"../../datasets/Merval.csv\", index_col=0)\n",
    "df_acc = df_acc.iloc[2:]\n",
    "for c in df_acc.columns:\n",
    "    df_acc[c] = df_acc[c].str.replace('.', '')\n",
    "    df_acc[c] = df_acc[c].str.replace(',', '.')\n",
    "    df_acc[c] = df_acc[c].astype(float)"
   ]
  },
  {
   "cell_type": "code",
   "execution_count": 12,
   "metadata": {},
   "outputs": [],
   "source": [
    "df_acc = df_acc.dropna(how='all')"
   ]
  },
  {
   "cell_type": "code",
   "execution_count": 13,
   "metadata": {},
   "outputs": [],
   "source": [
    "df_acc = df_acc[['HAVA','MOLI', 'LEDE', \"MORI\", 'MELI', 'AMZN',  'GOOGL', \"ALUA\", 'TXAR']]\n",
    "df = df_acc.transpose()"
   ]
  },
  {
   "cell_type": "code",
   "execution_count": 14,
   "metadata": {},
   "outputs": [],
   "source": [
    "df.replace(0, np.nan, inplace=True)\n",
    "df_ratio = df.pct_change(axis=1) \n",
    "df_ratio.fillna(0, inplace=True)\n",
    "#No es necesario escalar, estan escaladas -1 1\n",
    "#df.loc[:, df.columns] = StandardScaler().fit_transform(df)"
   ]
  },
  {
   "cell_type": "code",
   "execution_count": 15,
   "metadata": {},
   "outputs": [],
   "source": [
    "km = KMeans(n_clusters=3)\n",
    "km.fit(df_ratio)\n",
    "df_ratio.loc[:,[\"Cluster\"]] = km.labels_"
   ]
  },
  {
   "cell_type": "code",
   "execution_count": 16,
   "metadata": {},
   "outputs": [
    {
     "name": "stdout",
     "output_type": "stream",
     "text": [
      "Cluster 1\n",
      "Index(['HAVA'], dtype='object')\n",
      "Cluster 2\n",
      "Index(['MOLI', 'ALUA', 'TXAR'], dtype='object')\n",
      "Cluster 0\n",
      "Index(['LEDE', 'MORI', 'MELI', 'AMZN', 'GOOGL'], dtype='object')\n"
     ]
    }
   ],
   "source": [
    "for i in df_ratio[\"Cluster\"].unique():\n",
    "    print(\"Cluster\",i)\n",
    "    print(df_ratio[df_ratio[\"Cluster\"]==i].index)"
   ]
  },
  {
   "cell_type": "markdown",
   "metadata": {},
   "source": [
    "# backup\n",
    "Ejemplo de cambio a porcentaje"
   ]
  },
  {
   "cell_type": "code",
   "execution_count": null,
   "metadata": {},
   "outputs": [],
   "source": [
    "data = {\n",
    "    'Day1': [100, 0, 300],\n",
    "    'Day2': [110, 200, 0],\n",
    "    'Day3': [120, 220, 310],\n",
    "    'Day4': [130, 0, 330]\n",
    "}\n",
    "\n",
    "df = pd.DataFrame(data)\n",
    "print(\"DataFrame original:\")\n",
    "print(df)\n",
    "df.replace(0, np.nan, inplace=True)\n",
    "percentage_change = df.pct_change(axis=1) \n",
    "percentage_change.fillna(0, inplace=True)\n",
    "print(\"\\nDataFrame con el porcentaje de cambio:\")\n",
    "print(percentage_change)"
   ]
  }
 ],
 "metadata": {
  "kernelspec": {
   "display_name": "Python 3",
   "language": "python",
   "name": "python3"
  },
  "language_info": {
   "codemirror_mode": {
    "name": "ipython",
    "version": 3
   },
   "file_extension": ".py",
   "mimetype": "text/x-python",
   "name": "python",
   "nbconvert_exporter": "python",
   "pygments_lexer": "ipython3",
   "version": "3.10.1"
  }
 },
 "nbformat": 4,
 "nbformat_minor": 2
}
