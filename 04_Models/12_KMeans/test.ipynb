{
 "cells": [
  {
   "cell_type": "code",
   "execution_count": 5,
   "metadata": {},
   "outputs": [],
   "source": [
    "from sklearn.cluster import DBSCAN\n",
    "from sklearn.datasets import make_blobs\n",
    "import numpy as np\n",
    "\n",
    "# Genera datos de ejemplo\n",
    "X, _ = make_blobs(n_samples=100, centers=2, random_state=42)\n",
    "\n",
    "# Ejecuta DBSCAN\n",
    "dbscan = DBSCAN(eps=0.5, min_samples=5)\n",
    "labels = dbscan.fit_predict(X)\n",
    "\n",
    "# Identifica el grupo de interés (por ejemplo, el primer grupo etiquetado como 0)\n",
    "grupo_interes = 0\n",
    "\n",
    "# Selecciona un punto central (por ejemplo, el primer punto del grupo de interés)\n",
    "punto_central = X[labels == grupo_interes][0]\n"
   ]
  },
  {
   "cell_type": "code",
   "execution_count": 6,
   "metadata": {},
   "outputs": [
    {
     "data": {
      "text/plain": [
       "array([-2.98837186,  8.82862715])"
      ]
     },
     "execution_count": 6,
     "metadata": {},
     "output_type": "execute_result"
    }
   ],
   "source": [
    "punto_central"
   ]
  },
  {
   "cell_type": "code",
   "execution_count": 7,
   "metadata": {},
   "outputs": [
    {
     "name": "stdout",
     "output_type": "stream",
     "text": [
      "Densidad de puntos en el grupo 0: 10\n"
     ]
    }
   ],
   "source": [
    "\n",
    "# Calcula la densidad de puntos alrededor del punto central\n",
    "eps = 0.5  # El mismo valor de eps utilizado en DBSCAN\n",
    "densidad_puntos = sum(1 for x in X[labels == grupo_interes] if np.linalg.norm(x - punto_central) <= eps)\n",
    "\n",
    "print(f'Densidad de puntos en el grupo {grupo_interes}: {densidad_puntos}')\n"
   ]
  },
  {
   "cell_type": "code",
   "execution_count": 8,
   "metadata": {},
   "outputs": [
    {
     "name": "stdout",
     "output_type": "stream",
     "text": [
      "Densidad mínima de puntos en el clúster 0: 680.3078231660988\n"
     ]
    }
   ],
   "source": [
    "# Identifica el número de etiqueta del clúster de interés\n",
    "cluster_of_interest = 0\n",
    "\n",
    "# Extrae los puntos que pertenecen al clúster de interés\n",
    "cluster_points = X[labels == cluster_of_interest]\n",
    "\n",
    "# Calcula el número total de puntos en el clúster\n",
    "num_points_in_cluster = len(cluster_points)\n",
    "\n",
    "# Calcula el área (o volumen) del clúster (aquí se utiliza el área para datos 2D)\n",
    "convex_hull_area = np.abs(np.linalg.det(np.cov(cluster_points, rowvar=False)))\n",
    "\n",
    "# Calcula la densidad mínima de puntos en el clúster\n",
    "density_min = num_points_in_cluster / convex_hull_area\n",
    "\n",
    "print(f'Densidad mínima de puntos en el clúster {cluster_of_interest}: {density_min}')"
   ]
  }
 ],
 "metadata": {
  "kernelspec": {
   "display_name": "Python 3",
   "language": "python",
   "name": "python3"
  },
  "language_info": {
   "codemirror_mode": {
    "name": "ipython",
    "version": 3
   },
   "file_extension": ".py",
   "mimetype": "text/x-python",
   "name": "python",
   "nbconvert_exporter": "python",
   "pygments_lexer": "ipython3",
   "version": "3.10.12"
  },
  "orig_nbformat": 4
 },
 "nbformat": 4,
 "nbformat_minor": 2
}
