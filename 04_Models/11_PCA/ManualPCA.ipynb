{
 "cells": [
  {
   "cell_type": "code",
   "execution_count": 19,
   "id": "d43571eb",
   "metadata": {},
   "outputs": [],
   "source": [
    "import matplotlib.pyplot as plt\n",
    "import numpy as np\n",
    "import pandas as pd\n",
    "\n"
   ]
  },
  {
   "cell_type": "code",
   "execution_count": 20,
   "id": "bd96688d",
   "metadata": {},
   "outputs": [
    {
     "data": {
      "image/png": "[encoded data removed]",
      "text/plain": [
       "<Figure size 432x288 with 1 Axes>"
      ]
     },
     "metadata": {
      "needs_background": "light"
     },
     "output_type": "display_data"
    }
   ],
   "source": [
    "df = pd.DataFrame({\n",
    "    'sBP': [126,128,128,130,130,132], #Presion sistólica de sangre\n",
    "    'dBP': [78,80,82,82,84,86], #Presion diastólica de sangre\n",
    "})\n",
    "plt.scatter(df['sBP'], df['dBP'], color='blue', s=120, marker='o', label='sbp vs dbp')\n",
    "plt.xlabel('Presión Sistólica (mmHg)')\n",
    "plt.ylabel('Presión Diastólica (mmHg)')\n",
    "plt.title('Relación entre Presión Sistólica y Diastólica')\n",
    "plt.legend()\n",
    "plt.grid()\n",
    "plt.show()"
   ]
  },
  {
   "cell_type": "markdown",
   "id": "1b984254",
   "metadata": {},
   "source": [
    "Centramos los datos"
   ]
  },
  {
   "cell_type": "code",
   "execution_count": 21,
   "id": "fda89d76",
   "metadata": {},
   "outputs": [
    {
     "data": {
      "text/html": [
       "<div>\n",
       "<style scoped>\n",
       "    .dataframe tbody tr th:only-of-type {\n",
       "        vertical-align: middle;\n",
       "    }\n",
       "\n",
       "    .dataframe tbody tr th {\n",
       "        vertical-align: top;\n",
       "    }\n",
       "\n",
       "    .dataframe thead th {\n",
       "        text-align: right;\n",
       "    }\n",
       "</style>\n",
       "<table border=\"1\" class=\"dataframe\">\n",
       "  <thead>\n",
       "    <tr style=\"text-align: right;\">\n",
       "      <th></th>\n",
       "      <th>sBP</th>\n",
       "      <th>dBP</th>\n",
       "      <th>c_sBP</th>\n",
       "      <th>c_dBP</th>\n",
       "    </tr>\n",
       "  </thead>\n",
       "  <tbody>\n",
       "    <tr>\n",
       "      <th>0</th>\n",
       "      <td>126</td>\n",
       "      <td>78</td>\n",
       "      <td>-3.0</td>\n",
       "      <td>-4.0</td>\n",
       "    </tr>\n",
       "    <tr>\n",
       "      <th>1</th>\n",
       "      <td>128</td>\n",
       "      <td>80</td>\n",
       "      <td>-1.0</td>\n",
       "      <td>-2.0</td>\n",
       "    </tr>\n",
       "    <tr>\n",
       "      <th>2</th>\n",
       "      <td>128</td>\n",
       "      <td>82</td>\n",
       "      <td>-1.0</td>\n",
       "      <td>0.0</td>\n",
       "    </tr>\n",
       "    <tr>\n",
       "      <th>3</th>\n",
       "      <td>130</td>\n",
       "      <td>82</td>\n",
       "      <td>1.0</td>\n",
       "      <td>0.0</td>\n",
       "    </tr>\n",
       "    <tr>\n",
       "      <th>4</th>\n",
       "      <td>130</td>\n",
       "      <td>84</td>\n",
       "      <td>1.0</td>\n",
       "      <td>2.0</td>\n",
       "    </tr>\n",
       "    <tr>\n",
       "      <th>5</th>\n",
       "      <td>132</td>\n",
       "      <td>86</td>\n",
       "      <td>3.0</td>\n",
       "      <td>4.0</td>\n",
       "    </tr>\n",
       "  </tbody>\n",
       "</table>\n",
       "</div>"
      ],
      "text/plain": [
       "   sBP  dBP  c_sBP  c_dBP\n",
       "0  126   78   -3.0   -4.0\n",
       "1  128   80   -1.0   -2.0\n",
       "2  128   82   -1.0    0.0\n",
       "3  130   82    1.0    0.0\n",
       "4  130   84    1.0    2.0\n",
       "5  132   86    3.0    4.0"
      ]
     },
     "execution_count": 21,
     "metadata": {},
     "output_type": "execute_result"
    }
   ],
   "source": [
    "df[\"c_sBP\"] = df[\"sBP\"]-df[\"sBP\"].mean()\n",
    "df[\"c_dBP\"] = df[\"dBP\"]-df[\"dBP\"].mean()\n",
    "df"
   ]
  },
  {
   "cell_type": "code",
   "execution_count": 22,
   "id": "a0452a2e",
   "metadata": {},
   "outputs": [
    {
     "data": {
      "image/png": "[encoded data removed]",
      "text/plain": [
       "<Figure size 432x288 with 1 Axes>"
      ]
     },
     "metadata": {
      "needs_background": "light"
     },
     "output_type": "display_data"
    }
   ],
   "source": [
    "plt.scatter(df['c_sBP'], df['c_dBP'], color='blue', s=120, marker='o', label='sbp vs dbp')\n",
    "plt.xlabel('Presión Sistólica (mmHg)')\n",
    "plt.ylabel('Presión Diastólica (mmHg)')\n",
    "plt.title('Relación entre Presión Sistólica y Diastólica')\n",
    "plt.legend()\n",
    "plt.grid()\n",
    "plt.show()\n"
   ]
  },
  {
   "cell_type": "markdown",
   "id": "275d5beb",
   "metadata": {},
   "source": [
    "Ahora los datos estan centrados. Obtenemos la matriz de covarianza."
   ]
  },
  {
   "cell_type": "code",
   "execution_count": 23,
   "id": "14166b8d",
   "metadata": {},
   "outputs": [
    {
     "name": "stdout",
     "output_type": "stream",
     "text": [
      "Matriz de Covarianza:\n"
     ]
    },
    {
     "data": {
      "text/plain": [
       "array([[4.4, 5.6],\n",
       "       [5.6, 8. ]])"
      ]
     },
     "execution_count": 23,
     "metadata": {},
     "output_type": "execute_result"
    }
   ],
   "source": [
    "cov_mat = np.cov(df['c_sBP'], df['c_dBP'])\n",
    "print(\"Matriz de Covarianza:\")\n",
    "cov_mat"
   ]
  },
  {
   "cell_type": "code",
   "execution_count": 25,
   "id": "976a5a2a",
   "metadata": {
    "vscode": {
     "languageId": "ruby"
    }
   },
   "outputs": [
    {
     "data": {
      "image/png": "[encoded data removed]",
      "text/plain": [
       "<Figure size 432x288 with 1 Axes>"
      ]
     },
     "metadata": {
      "needs_background": "light"
     },
     "output_type": "display_data"
    }
   ],
   "source": [
    "def funcion_cuadratica(x, a, b):\n",
    "    return x**2 + a * x + b\n",
    "\n",
    "valores_espaciados = np.linspace(-5, 20, num=300)  \n",
    "valores_funcion = funcion_cuadratica(valores_espaciados, -12.4, 3.84)\n",
    "plt.plot(valores_espaciados, valores_funcion, label='Función cuadrática', color='red')\n",
    "plt.grid(True)\n"
   ]
  },
  {
   "cell_type": "code",
   "execution_count": null,
   "id": "e9d8c14b",
   "metadata": {},
   "outputs": [
    {
     "name": "stdout",
     "output_type": "stream",
     "text": [
      "[0.317823532058903, 12.0821764679411]\n"
     ]
    }
   ],
   "source": [
    "from sympy import symbols, Eq, solve\n",
    "x = symbols('x')\n",
    "# Define la ecuación: x^2 - 12.4x + 3.84 = 0\n",
    "ecuacion = Eq(x**2 - 12.4*x + 3.84, 0)\n",
    "soluciones = solve(ecuacion, x)\n",
    "print(soluciones)"
   ]
  }
 ],
 "metadata": {
  "kernelspec": {
   "display_name": "Python 3",
   "language": "python",
   "name": "python3"
  },
  "language_info": {
   "codemirror_mode": {
    "name": "ipython",
    "version": 3
   },
   "file_extension": ".py",
   "mimetype": "text/x-python",
   "name": "python",
   "nbconvert_exporter": "python",
   "pygments_lexer": "ipython3",
   "version": "3.10.1"
  }
 },
 "nbformat": 4,
 "nbformat_minor": 5
}
