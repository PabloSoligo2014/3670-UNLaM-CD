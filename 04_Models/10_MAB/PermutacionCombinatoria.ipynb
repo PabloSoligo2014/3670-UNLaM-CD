{
 "cells": [
  {
   "cell_type": "markdown",
   "id": "b74dfb46",
   "metadata": {},
   "source": [
    "# En lugar de usar bandido multibrazo realizamos un test no paramétrico (Prueba de permutación)."
   ]
  },
  {
   "cell_type": "code",
   "execution_count": 93,
   "id": "041e527f",
   "metadata": {},
   "outputs": [],
   "source": [
    "import random\n",
    "import matplotlib.pyplot as plt\n",
    "import numpy as np\n",
    "import math\n",
    "import pandas as pd\n",
    "from itertools import combinations"
   ]
  },
  {
   "cell_type": "code",
   "execution_count": 94,
   "id": "6e9e2ea4",
   "metadata": {},
   "outputs": [],
   "source": [
    "#Chequear que la tasa de conversion de cada estilo coincida con el ejemplo del MAB\n",
    "#Jugar con distintos valores para validar la teoría\n",
    "styles = {\n",
    "    \"A\": 0.2,\n",
    "    \"B\": 0.5,\n",
    "    \"C\": 0.2\n",
    "}\n",
    "\n",
    "visitas = 3000\n",
    "visitas_por_estilo = visitas // len(styles)\n",
    "df_t = pd.DataFrame({\n",
    "    \"variante\": styles.keys(),\n",
    "    \"visitas\": [visitas_por_estilo] * len(styles),\n",
    "    \"conversiones\": [int(v * visitas_por_estilo) for v in styles.values()]\n",
    "})\n"
   ]
  },
  {
   "cell_type": "code",
   "execution_count": 95,
   "id": "a032d8d0",
   "metadata": {},
   "outputs": [
    {
     "name": "stdout",
     "output_type": "stream",
     "text": [
      "  style  converted\n",
      "0     A          0\n",
      "1     A          0\n",
      "2     A          0\n",
      "3     A          0\n",
      "4     A          1\n",
      "5     A          0\n",
      "6     A          0\n",
      "7     A          0\n",
      "8     A          1\n",
      "9     A          0\n",
      "\n",
      "Resumen por estilo:\n",
      "style\n",
      "A    0.218\n",
      "B    0.505\n",
      "C    0.208\n",
      "Name: converted, dtype: float64\n"
     ]
    }
   ],
   "source": [
    "# Generar datos simulados\n",
    "rng = np.random.default_rng(42)\n",
    "\n",
    "filas = []\n",
    "for estilo, p in styles.items():\n",
    "    # Genera 1000 valores 0/1 con probabilidad p\n",
    "    conversiones = rng.choice([1, 0], size=visitas_por_estilo, p=[p, 1 - p])\n",
    "    df_estilo = pd.DataFrame({\n",
    "        \"style\": estilo,\n",
    "        \"converted\": conversiones\n",
    "    })\n",
    "    filas.append(df_estilo)\n",
    "\n",
    "df = pd.concat(filas, ignore_index=True)\n",
    "\n",
    "print(df.head(10))\n",
    "print(\"\\nResumen por estilo:\")\n",
    "print(df.groupby(\"style\")[\"converted\"].mean())"
   ]
  },
  {
   "cell_type": "markdown",
   "id": "923ce3b7",
   "metadata": {},
   "source": [
    "¿El estilo B es mas conveniente? ¿Es estadisticamente creible?"
   ]
  },
  {
   "cell_type": "markdown",
   "id": "e44264b9",
   "metadata": {},
   "source": [
    "La hipótesis nula las conversiones no dependen del estilo del sitio. Entonces, si mezclas aleatoriamente los valores de conversión entre los estilos, las diferencias de medias deberían parecerse a las que ves."
   ]
  },
  {
   "cell_type": "code",
   "execution_count": 96,
   "id": "31f272a7",
   "metadata": {},
   "outputs": [
    {
     "name": "stdout",
     "output_type": "stream",
     "text": [
      "style\n",
      "A    0.218\n",
      "B    0.505\n",
      "C    0.208\n",
      "Name: converted, dtype: float64 0.29700000000000004\n"
     ]
    }
   ],
   "source": [
    "# Diferencia real de tasas promedio\n",
    "real_means = df.groupby('style')['converted'].mean()\n",
    "real_stat = real_means.max() - real_means.min()\n",
    "print(real_means, real_stat)\n"
   ]
  },
  {
   "cell_type": "markdown",
   "id": "d6dea4ff",
   "metadata": {},
   "source": [
    "Hipotesis nula: no hay diferencias entre los sitios"
   ]
  },
  {
   "cell_type": "code",
   "execution_count": 97,
   "id": "98eaa43f",
   "metadata": {},
   "outputs": [
    {
     "name": "stdout",
     "output_type": "stream",
     "text": [
      "Diferencia real: 0.297, p-valor: 0.0000\n"
     ]
    },
    {
     "data": {
      "image/png": "[encoded data removed]",
      "text/plain": [
       "<Figure size 720x432 with 1 Axes>"
      ]
     },
     "metadata": {
      "needs_background": "light"
     },
     "output_type": "display_data"
    }
   ],
   "source": [
    "\n",
    "# Permutaciones\n",
    "n_permutations = 1000\n",
    "stats = np.zeros(n_permutations)\n",
    "df_s = df.copy()\n",
    "for i in range(n_permutations):\n",
    "    shuffled = df_s['converted'].sample(frac=1, replace=False).to_numpy()\n",
    "    df_s['shuffled'] = shuffled\n",
    "    means = df_s.groupby('style')['shuffled'].mean()\n",
    "    stats[i] = means.max() - means.min()\n",
    "\n",
    "# p-value: proporción de permutaciones con diferencia >= real\n",
    "p_value = np.mean(stats >= real_stat)\n",
    "print(f\"Diferencia real: {real_stat:.3f}, p-valor: {p_value:.4f}\")\n",
    "plt.figure(figsize=(10, 6))\n",
    "plt.hist(stats, bins=30, alpha=0.7)\n",
    "plt.axvline(real_stat, color='red', linestyle='dashed', linewidth=2)\n",
    "plt.title('Distribución de diferencias de medias bajo la hipótesis nula')\n",
    "plt.xlabel('Diferencia de medias (max - min)')\n",
    "plt.ylabel('Frecuencia')    \n",
    "plt.show()"
   ]
  },
  {
   "cell_type": "markdown",
   "id": "cedf7a02",
   "metadata": {},
   "source": [
    "Ahora deberíamos ver cual es el mejor..."
   ]
  },
  {
   "cell_type": "markdown",
   "id": "9af65267",
   "metadata": {},
   "source": [
    "Analizamos de a pares"
   ]
  },
  {
   "cell_type": "code",
   "execution_count": 98,
   "id": "60ab6439",
   "metadata": {},
   "outputs": [
    {
     "name": "stdout",
     "output_type": "stream",
     "text": [
      "A vs B: diff=0.287, p=0.0000\n",
      "A vs C: diff=-0.010, p=0.6290\n",
      "B vs C: diff=-0.297, p=0.0000\n"
     ]
    }
   ],
   "source": [
    "for a, b in combinations(df['style'].unique(), 2):\n",
    "    sub = df_s.loc[df_s['style'].isin([a, b]), :]\n",
    "    real_diff = sub.groupby('style')['converted'].mean().diff().iloc[-1]\n",
    "    \n",
    "    stats = np.zeros(n_permutations)\n",
    "    for i in range(n_permutations):\n",
    "        shuffled = sub.loc[:,['converted']].sample(frac=1, replace=False).to_numpy()\n",
    "        sub.loc[:,['shuffled']] = shuffled\n",
    "        diff = sub.groupby('style')['shuffled'].mean().diff().iloc[-1]\n",
    "        stats[i] = diff\n",
    "\n",
    "    p_val = np.mean(np.abs(stats) >= abs(real_diff))\n",
    "    print(f\"{a} vs {b}: diff={real_diff:.3f}, p={p_val:.4f}\")\n"
   ]
  }
 ],
 "metadata": {
  "kernelspec": {
   "display_name": "Python 3",
   "language": "python",
   "name": "python3"
  },
  "language_info": {
   "codemirror_mode": {
    "name": "ipython",
    "version": 3
   },
   "file_extension": ".py",
   "mimetype": "text/x-python",
   "name": "python",
   "nbconvert_exporter": "python",
   "pygments_lexer": "ipython3",
   "version": "3.10.1"
  }
 },
 "nbformat": 4,
 "nbformat_minor": 5
}
