{
 "cells": [
  {
   "cell_type": "code",
   "execution_count": 87,
   "metadata": {},
   "outputs": [],
   "source": [
    "import numpy as np\n",
    "from matplotlib import pyplot as plt\n",
    "\n",
    "styles = {\n",
    "    \"A\": {\"prob\": 0.2, \"total_rewards\":0, \"total_attempts\":0, \"iteration\": [], \"attempts\": []},\n",
    "    \"B\": {\"prob\": 0.3, \"total_rewards\":0, \"total_attempts\":0, \"iteration\": [], \"attempts\": []},\n",
    "    \"C\": {\"prob\": 0.2, \"total_rewards\":0, \"total_attempts\":0, \"iteration\": [], \"attempts\": []}\n",
    "}\n",
    "\n",
    "def get_average_rewards(styles):\n",
    "    rewards = {}\n",
    "    for k, v in styles.items():\n",
    "        rewards[k] = v[\"total_rewards\"] / v[\"total_attempts\"] if v[\"total_attempts\"] > 0 else 0\n",
    "    return rewards\n",
    "\n",
    "\n"
   ]
  },
  {
   "cell_type": "code",
   "execution_count": 88,
   "metadata": {},
   "outputs": [],
   "source": [
    "def select_style(epsilon, styles):\n",
    "  #Numero aleatorio, si es menor a epsilon se toma una accion aleatoria, si no se toma la accion con mayor recompensa promedio.\n",
    "  result = np.random.uniform()\n",
    "  #Aca el componente aleatorio de explotacion vs exploracion\n",
    "  if result < epsilon:\n",
    "\n",
    "    return list(styles.keys())[np.random.randint(0, len(styles))-1] \n",
    "  else:\n",
    "    #Si todo es 0 deberia seleccionar una accion aleatoria\n",
    "    average_rewards = get_average_rewards(styles)\n",
    "    if np.sum(average_rewards.values()) == 0:\n",
    "      return np.random.randint(0, len(styles))\n",
    "    #Tengo que seleccionar el mejor estilo (La accion con mejor recompensa promedio)\n",
    "    max_style = list(styles.keys())[0]\n",
    "    for k, v in average_rewards.items():\n",
    "      if v > average_rewards[max_style]:\n",
    "        max_style = k\n",
    "    return max_style\n"
   ]
  },
  {
   "cell_type": "code",
   "execution_count": 89,
   "metadata": {},
   "outputs": [
    {
     "name": "stdout",
     "output_type": "stream",
     "text": [
      "------Recompensa por estilos-------\n",
      "Estilo A: Recompensa total 0, Intentos 1, Recompensa promedio 0.00\n",
      "Estilo B: Recompensa total 0, Intentos 0, Recompensa promedio 0.00\n",
      "Estilo C: Recompensa total 0, Intentos 0, Recompensa promedio 0.00\n",
      "-----------------------------------\n"
     ]
    }
   ],
   "source": [
    "def mab_test(styles, num_iterations, epsilon):\n",
    "  for iteration in range(num_iterations+1):\n",
    "    #select_style = select_action, puede ser random o la mejor puntuada\n",
    "    style = select_style(epsilon, styles)\n",
    "    #Como le fue a la mejor puntuada? (actions)\n",
    "    reward = int(np.random.uniform() <= styles[style][\"prob\"])\n",
    "    \n",
    "    styles[style][\"total_rewards\"]  += reward\n",
    "    styles[style][\"total_attempts\"] += 1\n",
    "    styles[style][\"iteration\"].append(iteration)\n",
    "    styles[style][\"attempts\"].append(styles[style][\"total_attempts\"])\n",
    "\n",
    "    if iteration % 1000 == 0:\n",
    "      print(\"------Recompensa por estilos-------\")\n",
    "      for k, v in styles.items():\n",
    "        print('Estilo {}: Recompensa total {}, Intentos {}, Recompensa promedio {:.2f}'\n",
    "              .format(k, v[\"total_rewards\"], v[\"total_attempts\"],\n",
    "                      v[\"total_rewards\"] / v[\"total_attempts\"] if v[\"total_attempts\"] > 0 else 0))\n",
    "      print(\"-----------------------------------\")\n",
    "      \n",
    "  # Print results\n",
    "  #best_bandit = np.argmax(average_rewards)\n",
    "  #print('\\nEl mejor estilo es {} con una recompensa promedio de  {:.4f}'\n",
    "  #      .format(best_bandit, average_rewards[best_bandit]))\n",
    "  #print('En {} episodios las recompensas fueron {}'\n",
    "  #      .format(num_iterations, sum(total_rewards)))\n",
    "mab_test(styles=styles, num_iterations=500, epsilon=0.1)"
   ]
  },
  {
   "cell_type": "code",
   "execution_count": 90,
   "metadata": {},
   "outputs": [
    {
     "data": {
      "image/png": "[encoded data removed]",
      "text/plain": [
       "<Figure size 576x360 with 1 Axes>"
      ]
     },
     "metadata": {
      "needs_background": "light"
     },
     "output_type": "display_data"
    }
   ],
   "source": [
    "\n",
    "plt.figure(figsize=(8,5))\n",
    "for k, v in styles.items():\n",
    "  plt.plot(v[\"iteration\"], v[\"attempts\"], label=k)\n",
    "\n",
    "plt.legend()\n",
    "plt.xlabel(\"Iteraciones\")\n",
    "plt.ylabel(\"Numero de veces seleccionado\")\n",
    "plt.show()\n"
   ]
  },
  {
   "cell_type": "code",
   "execution_count": null,
   "metadata": {},
   "outputs": [],
   "source": []
  }
 ],
 "metadata": {
  "kernelspec": {
   "display_name": "Python 3",
   "language": "python",
   "name": "python3"
  },
  "language_info": {
   "codemirror_mode": {
    "name": "ipython",
    "version": 3
   },
   "file_extension": ".py",
   "mimetype": "text/x-python",
   "name": "python",
   "nbconvert_exporter": "python",
   "pygments_lexer": "ipython3",
   "version": "3.10.1"
  }
 },
 "nbformat": 4,
 "nbformat_minor": 2
}
