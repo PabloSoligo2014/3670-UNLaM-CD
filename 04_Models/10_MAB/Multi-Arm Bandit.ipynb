{
 "cells": [
  {
   "cell_type": "code",
   "execution_count": 17,
   "metadata": {},
   "outputs": [],
   "source": [
    "import numpy as np\n",
    "from matplotlib import pyplot as plt\n",
    "#Accion\n",
    "def do_action(styles, style_number):\n",
    "  result = np.random.uniform()\n",
    "  return int(result <= styles[style_number])"
   ]
  },
  {
   "cell_type": "code",
   "execution_count": 18,
   "metadata": {},
   "outputs": [],
   "source": [
    "\n",
    "def select_action(epsilon, average_rewards):\n",
    "  #Numero aleatorio, si es menor a epsilon se toma una accion aleatoria, si no se toma la accion con mayor recompensa promedio.\n",
    "  result = np.random.uniform()\n",
    "  if result < epsilon:\n",
    "    return np.random.randint(0, len(average_rewards)) \n",
    "  else:\n",
    "    #Si todo es 0 deberia seleccionar una accion aleatoria\n",
    "    if np.sum(average_rewards) == 0:\n",
    "      return np.random.randint(0, len(average_rewards))\n",
    "    return np.argmax(average_rewards) "
   ]
  },
  {
   "cell_type": "code",
   "execution_count": 19,
   "metadata": {},
   "outputs": [
    {
     "name": "stdout",
     "output_type": "stream",
     "text": [
      "Recompensa promedio por estilos 0 es ['0.00', '0.00', '0.00']\n",
      "Recompensa promedio por estilos 100 es ['0.64', '0.65', '0.00']\n",
      "Recompensa promedio por estilos 200 es ['0.61', '0.69', '0.11']\n",
      "\n",
      "El mejor estilo es 1 con una recompensa promedio de  0.6897\n",
      "En 200 episodios las recompensas fueron 132\n"
     ]
    }
   ],
   "source": [
    "styles = [0.5,0.6,0.2]\n",
    "num_iterations = 200\n",
    "epsilon = 0.1\n",
    "acum_samples_by_style = {\"Iter\":[0], \"st1\":[0], \"st2\":[0], \"st3\":[0]}\n",
    "\n",
    "total_rewards = [0 for _ in range(len(styles))]\n",
    "total_attempts = [0 for _ in range(len(styles))]\n",
    "average_rewards = [0.0 for _ in range(len(styles))]\n",
    "\n",
    "for iteration in range(num_iterations+1):\n",
    "  action = select_action(epsilon, average_rewards)\n",
    "  reward = do_action(styles, action)\n",
    "  \n",
    "  # Store result\n",
    "  total_rewards[action] += reward\n",
    "  total_attempts[action] += 1\n",
    "  average_rewards[action] = total_rewards[action] / float(total_attempts[action])\n",
    "  \n",
    "  for i in range(len(styles)):\n",
    "    if i != action:\n",
    "      acum_samples_by_style[\"st\"+str(i+1)].append(acum_samples_by_style[\"st\"+str(i+1)][-1])\n",
    "    \n",
    "  acum_samples_by_style[\"st\"+str(action+1)].append(acum_samples_by_style[\"st\"+str(action+1)][-1]+1)    \n",
    "\n",
    "  \n",
    "  if iteration % 100 == 0:\n",
    "    print('Recompensa promedio por estilos {} es {}'.format(iteration,\n",
    "                                  ['{:.2f}'.format(elem) for elem in average_rewards]))\n",
    "\n",
    "# Print results\n",
    "best_bandit = np.argmax(average_rewards)\n",
    "print('\\nEl mejor estilo es {} con una recompensa promedio de  {:.4f}'\n",
    "      .format(best_bandit, average_rewards[best_bandit]))\n",
    "print('En {} episodios las recompensas fueron {}'\n",
    "      .format(num_iterations, sum(total_rewards)))"
   ]
  },
  {
   "cell_type": "code",
   "execution_count": 20,
   "metadata": {},
   "outputs": [
    {
     "data": {
      "image/png": "[encoded data removed]",
      "text/plain": [
       "<Figure size 576x360 with 1 Axes>"
      ]
     },
     "metadata": {
      "needs_background": "light"
     },
     "output_type": "display_data"
    }
   ],
   "source": [
    "plt.figure(figsize=(8,5))\n",
    "plt.plot(acum_samples_by_style[\"st1\"], label=\"Estilo 1\")\n",
    "plt.plot(acum_samples_by_style[\"st2\"], label=\"Estilo 2\")\n",
    "plt.plot(acum_samples_by_style[\"st3\"], label=\"Estilo 3\")\n",
    "plt.legend()\n",
    "plt.xlabel(\"Iteraciones\")\n",
    "plt.ylabel(\"Numero de veces seleccionado\")\n",
    "plt.show()"
   ]
  }
 ],
 "metadata": {
  "kernelspec": {
   "display_name": "Python 3",
   "language": "python",
   "name": "python3"
  },
  "language_info": {
   "codemirror_mode": {
    "name": "ipython",
    "version": 3
   },
   "file_extension": ".py",
   "mimetype": "text/x-python",
   "name": "python",
   "nbconvert_exporter": "python",
   "pygments_lexer": "ipython3",
   "version": "3.10.1"
  }
 },
 "nbformat": 4,
 "nbformat_minor": 2
}
