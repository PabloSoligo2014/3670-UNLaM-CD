{
 "cells": [
  {
   "cell_type": "code",
   "execution_count": 62,
   "metadata": {},
   "outputs": [],
   "source": [
    "import pandas as pd\n",
    "from scipy.spatial import distance\n",
    "from sklearn.preprocessing import OrdinalEncoder\n",
    "from sklearn.naive_bayes import MultinomialNB\n",
    "import sys\n",
    "sys.path.insert(0, '../../Code/')\n"
   ]
  },
  {
   "cell_type": "code",
   "execution_count": 63,
   "metadata": {},
   "outputs": [],
   "source": [
    "data = {\n",
    "    'Ambiente': ['Soleado', 'Soleado', 'Nublado', 'Lluvioso', 'Lluvioso', 'Lluvioso', 'Nublado', \n",
    "                'Soleado', 'Soleado', 'Lluvioso', 'Soleado', 'Nublado', 'Nublado', 'Lluvioso'],\n",
    "    'Temperatura': ['Alta', 'Alta', 'Alta', 'Media', 'Baja', 'Baja', 'Baja', \n",
    "                    'Media', 'Baja', 'Media', 'Media', 'Media', 'Alta', 'Media'],\n",
    "    'Humedad': ['Alta', 'Alta', 'Alta', 'Alta', 'Normal', 'Normal', 'Normal', \n",
    "                'Alta', 'Normal', 'Normal', 'Normal', 'Alta', 'Normal', 'Alta'],\n",
    "    'Viento': ['Leve', 'Fuerte', 'Leve', 'Leve', 'Fuerte', 'Fuerte', 'Leve', \n",
    "               'Leve', 'Leve', 'Leve', 'Fuerte', 'Fuerte', 'Leve', 'Fuerte'],\n",
    "    'JugarTenis': ['No', 'No', 'Sí', 'No', 'No', 'No', 'Sí', \n",
    "                   'Sí', 'Sí', 'No', 'Sí', 'Sí', 'Sí', 'No']\n",
    "}\n",
    "\n",
    "df = pd.DataFrame(data)"
   ]
  },
  {
   "cell_type": "code",
   "execution_count": 64,
   "metadata": {},
   "outputs": [
    {
     "data": {
      "text/html": [
       "<div>\n",
       "<style scoped>\n",
       "    .dataframe tbody tr th:only-of-type {\n",
       "        vertical-align: middle;\n",
       "    }\n",
       "\n",
       "    .dataframe tbody tr th {\n",
       "        vertical-align: top;\n",
       "    }\n",
       "\n",
       "    .dataframe thead th {\n",
       "        text-align: right;\n",
       "    }\n",
       "</style>\n",
       "<table border=\"1\" class=\"dataframe\">\n",
       "  <thead>\n",
       "    <tr style=\"text-align: right;\">\n",
       "      <th></th>\n",
       "      <th>Ambiente</th>\n",
       "      <th>Temperatura</th>\n",
       "      <th>Humedad</th>\n",
       "      <th>Viento</th>\n",
       "      <th>JugarTenis</th>\n",
       "    </tr>\n",
       "  </thead>\n",
       "  <tbody>\n",
       "    <tr>\n",
       "      <th>0</th>\n",
       "      <td>Soleado</td>\n",
       "      <td>Alta</td>\n",
       "      <td>Alta</td>\n",
       "      <td>Leve</td>\n",
       "      <td>No</td>\n",
       "    </tr>\n",
       "    <tr>\n",
       "      <th>1</th>\n",
       "      <td>Soleado</td>\n",
       "      <td>Alta</td>\n",
       "      <td>Alta</td>\n",
       "      <td>Fuerte</td>\n",
       "      <td>No</td>\n",
       "    </tr>\n",
       "    <tr>\n",
       "      <th>2</th>\n",
       "      <td>Nublado</td>\n",
       "      <td>Alta</td>\n",
       "      <td>Alta</td>\n",
       "      <td>Leve</td>\n",
       "      <td>Sí</td>\n",
       "    </tr>\n",
       "    <tr>\n",
       "      <th>3</th>\n",
       "      <td>Lluvioso</td>\n",
       "      <td>Media</td>\n",
       "      <td>Alta</td>\n",
       "      <td>Leve</td>\n",
       "      <td>No</td>\n",
       "    </tr>\n",
       "    <tr>\n",
       "      <th>4</th>\n",
       "      <td>Lluvioso</td>\n",
       "      <td>Baja</td>\n",
       "      <td>Normal</td>\n",
       "      <td>Fuerte</td>\n",
       "      <td>No</td>\n",
       "    </tr>\n",
       "    <tr>\n",
       "      <th>5</th>\n",
       "      <td>Lluvioso</td>\n",
       "      <td>Baja</td>\n",
       "      <td>Normal</td>\n",
       "      <td>Fuerte</td>\n",
       "      <td>No</td>\n",
       "    </tr>\n",
       "    <tr>\n",
       "      <th>6</th>\n",
       "      <td>Nublado</td>\n",
       "      <td>Baja</td>\n",
       "      <td>Normal</td>\n",
       "      <td>Leve</td>\n",
       "      <td>Sí</td>\n",
       "    </tr>\n",
       "    <tr>\n",
       "      <th>7</th>\n",
       "      <td>Soleado</td>\n",
       "      <td>Media</td>\n",
       "      <td>Alta</td>\n",
       "      <td>Leve</td>\n",
       "      <td>Sí</td>\n",
       "    </tr>\n",
       "    <tr>\n",
       "      <th>8</th>\n",
       "      <td>Soleado</td>\n",
       "      <td>Baja</td>\n",
       "      <td>Normal</td>\n",
       "      <td>Leve</td>\n",
       "      <td>Sí</td>\n",
       "    </tr>\n",
       "    <tr>\n",
       "      <th>9</th>\n",
       "      <td>Lluvioso</td>\n",
       "      <td>Media</td>\n",
       "      <td>Normal</td>\n",
       "      <td>Leve</td>\n",
       "      <td>No</td>\n",
       "    </tr>\n",
       "    <tr>\n",
       "      <th>10</th>\n",
       "      <td>Soleado</td>\n",
       "      <td>Media</td>\n",
       "      <td>Normal</td>\n",
       "      <td>Fuerte</td>\n",
       "      <td>Sí</td>\n",
       "    </tr>\n",
       "    <tr>\n",
       "      <th>11</th>\n",
       "      <td>Nublado</td>\n",
       "      <td>Media</td>\n",
       "      <td>Alta</td>\n",
       "      <td>Fuerte</td>\n",
       "      <td>Sí</td>\n",
       "    </tr>\n",
       "    <tr>\n",
       "      <th>12</th>\n",
       "      <td>Nublado</td>\n",
       "      <td>Alta</td>\n",
       "      <td>Normal</td>\n",
       "      <td>Leve</td>\n",
       "      <td>Sí</td>\n",
       "    </tr>\n",
       "    <tr>\n",
       "      <th>13</th>\n",
       "      <td>Lluvioso</td>\n",
       "      <td>Media</td>\n",
       "      <td>Alta</td>\n",
       "      <td>Fuerte</td>\n",
       "      <td>No</td>\n",
       "    </tr>\n",
       "  </tbody>\n",
       "</table>\n",
       "</div>"
      ],
      "text/plain": [
       "    Ambiente Temperatura Humedad  Viento JugarTenis\n",
       "0    Soleado        Alta    Alta    Leve         No\n",
       "1    Soleado        Alta    Alta  Fuerte         No\n",
       "2    Nublado        Alta    Alta    Leve         Sí\n",
       "3   Lluvioso       Media    Alta    Leve         No\n",
       "4   Lluvioso        Baja  Normal  Fuerte         No\n",
       "5   Lluvioso        Baja  Normal  Fuerte         No\n",
       "6    Nublado        Baja  Normal    Leve         Sí\n",
       "7    Soleado       Media    Alta    Leve         Sí\n",
       "8    Soleado        Baja  Normal    Leve         Sí\n",
       "9   Lluvioso       Media  Normal    Leve         No\n",
       "10   Soleado       Media  Normal  Fuerte         Sí\n",
       "11   Nublado       Media    Alta  Fuerte         Sí\n",
       "12   Nublado        Alta  Normal    Leve         Sí\n",
       "13  Lluvioso       Media    Alta  Fuerte         No"
      ]
     },
     "execution_count": 64,
     "metadata": {},
     "output_type": "execute_result"
    }
   ],
   "source": [
    "df"
   ]
  },
  {
   "cell_type": "code",
   "execution_count": 65,
   "metadata": {},
   "outputs": [],
   "source": [
    "nval = pd.DataFrame({\"Ambiente\":[\"Soleado\"],\n",
    "                     'Temperatura':[\"Baja\"],\n",
    "                     'Humedad':[\"Alta\"],\n",
    "                     'Viento':[\"Fuerte\"]})"
   ]
  },
  {
   "cell_type": "code",
   "execution_count": 66,
   "metadata": {},
   "outputs": [
    {
     "data": {
      "text/html": [
       "<div>\n",
       "<style scoped>\n",
       "    .dataframe tbody tr th:only-of-type {\n",
       "        vertical-align: middle;\n",
       "    }\n",
       "\n",
       "    .dataframe tbody tr th {\n",
       "        vertical-align: top;\n",
       "    }\n",
       "\n",
       "    .dataframe thead th {\n",
       "        text-align: right;\n",
       "    }\n",
       "</style>\n",
       "<table border=\"1\" class=\"dataframe\">\n",
       "  <thead>\n",
       "    <tr style=\"text-align: right;\">\n",
       "      <th></th>\n",
       "      <th>Ambiente</th>\n",
       "      <th>Temperatura</th>\n",
       "      <th>Humedad</th>\n",
       "      <th>Viento</th>\n",
       "    </tr>\n",
       "  </thead>\n",
       "  <tbody>\n",
       "    <tr>\n",
       "      <th>0</th>\n",
       "      <td>Soleado</td>\n",
       "      <td>Baja</td>\n",
       "      <td>Alta</td>\n",
       "      <td>Fuerte</td>\n",
       "    </tr>\n",
       "  </tbody>\n",
       "</table>\n",
       "</div>"
      ],
      "text/plain": [
       "  Ambiente Temperatura Humedad  Viento\n",
       "0  Soleado        Baja    Alta  Fuerte"
      ]
     },
     "execution_count": 66,
     "metadata": {},
     "output_type": "execute_result"
    }
   ],
   "source": [
    "nval"
   ]
  },
  {
   "cell_type": "code",
   "execution_count": 67,
   "metadata": {},
   "outputs": [],
   "source": [
    "Xy = df"
   ]
  },
  {
   "cell_type": "code",
   "execution_count": 68,
   "metadata": {},
   "outputs": [
    {
     "name": "stdout",
     "output_type": "stream",
     "text": [
      "7 No\n",
      "7 Sí\n"
     ]
    }
   ],
   "source": [
    "for cl in Xy[\"JugarTenis\"].unique():\n",
    "    print(Xy[Xy[\"JugarTenis\"]==cl].shape[0], cl)"
   ]
  },
  {
   "cell_type": "code",
   "execution_count": 69,
   "metadata": {},
   "outputs": [
    {
     "name": "stdout",
     "output_type": "stream",
     "text": [
      "Ambiente Soleado No 0.286\n",
      "Ambiente Soleado Sí 0.429\n",
      "Ambiente Nublado No 0.000\n",
      "Ambiente Nublado Sí 0.571\n",
      "Ambiente Lluvioso No 0.714\n",
      "Ambiente Lluvioso Sí 0.000\n",
      "Temperatura Alta No 0.286\n",
      "Temperatura Alta Sí 0.286\n",
      "Temperatura Media No 0.429\n",
      "Temperatura Media Sí 0.429\n",
      "Temperatura Baja No 0.286\n",
      "Temperatura Baja Sí 0.286\n",
      "Humedad Alta No 0.571\n",
      "Humedad Alta Sí 0.429\n",
      "Humedad Normal No 0.429\n",
      "Humedad Normal Sí 0.571\n",
      "Viento Leve No 0.429\n",
      "Viento Leve Sí 0.714\n",
      "Viento Fuerte No 0.571\n",
      "Viento Fuerte Sí 0.286\n"
     ]
    }
   ],
   "source": [
    "#NO = 7\n",
    "#SI = 7\n",
    "for c in Xy.columns.drop(\"JugarTenis\"):\n",
    "    for cla in Xy[c].unique():\n",
    "        for cl in Xy[\"JugarTenis\"].unique():\n",
    "            #cl si o no\n",
    "            cant = Xy[(Xy[\"JugarTenis\"]==cl) & (Xy[c]==cla)].shape[0]\n",
    "            cantClase = Xy[Xy[\"JugarTenis\"]==cl].shape[0]\n",
    "            print(\"{} {} {} {:.3f}\".format(c, cla, cl,  cant/cantClase))"
   ]
  },
  {
   "cell_type": "code",
   "execution_count": 70,
   "metadata": {},
   "outputs": [
    {
     "name": "stdout",
     "output_type": "stream",
     "text": [
      "No se juega 0.01324, si se juega 0.00744\n",
      "No se juega 0.64, si se juega 0.36\n"
     ]
    }
   ],
   "source": [
    "#Soleado\tBaja\tAlta\tFuerte\tSí\n",
    "noSeJuega = 0.5*(0.285 * 0.285 * 0.571 * 0.571)\n",
    "siSeJuega = 0.5*(0.428 * 0.285 * 0.428 * 0.285)\n",
    "print(\"No se juega {:.5f}, si se juega {:.5f}\".format(noSeJuega, siSeJuega))\n",
    "print(\"No se juega {:.2f}, si se juega {:.2f}\".format(noSeJuega/(noSeJuega+siSeJuega), siSeJuega/(siSeJuega+noSeJuega)))\n",
    "\n"
   ]
  },
  {
   "cell_type": "markdown",
   "metadata": {},
   "source": [
    "### Predicción utilizando OrdinalEncoder y MultinomialNB()"
   ]
  },
  {
   "cell_type": "code",
   "execution_count": 71,
   "metadata": {},
   "outputs": [],
   "source": [
    "col_predict = ['Ambiente', 'Temperatura', 'Humedad', 'Viento']\n",
    "col_target = 'JugarTenis'\n",
    "X = df.loc[:, col_predict]\n",
    "y = df.loc[:, col_target]\n",
    "encoders = {}\n",
    "for c in col_predict:\n",
    "    oe = OrdinalEncoder()\n",
    "    oe.fit(X.loc[:,[c]])\n",
    "    X.loc[:,[c]] = oe.transform(X.loc[:,[c]])\n",
    "    nval.loc[:,[c]] = oe.transform(nval.loc[:,[c]])\n",
    "    encoders[c] = oe\n",
    "\n"
   ]
  },
  {
   "cell_type": "code",
   "execution_count": 72,
   "metadata": {},
   "outputs": [],
   "source": [
    "for c in col_predict:\n",
    "    X[c] = X[c].astype(int)\n"
   ]
  },
  {
   "cell_type": "code",
   "execution_count": 73,
   "metadata": {},
   "outputs": [
    {
     "data": {
      "text/html": [
       "<div>\n",
       "<style scoped>\n",
       "    .dataframe tbody tr th:only-of-type {\n",
       "        vertical-align: middle;\n",
       "    }\n",
       "\n",
       "    .dataframe tbody tr th {\n",
       "        vertical-align: top;\n",
       "    }\n",
       "\n",
       "    .dataframe thead th {\n",
       "        text-align: right;\n",
       "    }\n",
       "</style>\n",
       "<table border=\"1\" class=\"dataframe\">\n",
       "  <thead>\n",
       "    <tr style=\"text-align: right;\">\n",
       "      <th></th>\n",
       "      <th>Ambiente</th>\n",
       "      <th>Temperatura</th>\n",
       "      <th>Humedad</th>\n",
       "      <th>Viento</th>\n",
       "    </tr>\n",
       "  </thead>\n",
       "  <tbody>\n",
       "    <tr>\n",
       "      <th>0</th>\n",
       "      <td>2</td>\n",
       "      <td>0</td>\n",
       "      <td>0</td>\n",
       "      <td>1</td>\n",
       "    </tr>\n",
       "    <tr>\n",
       "      <th>1</th>\n",
       "      <td>2</td>\n",
       "      <td>0</td>\n",
       "      <td>0</td>\n",
       "      <td>0</td>\n",
       "    </tr>\n",
       "    <tr>\n",
       "      <th>2</th>\n",
       "      <td>1</td>\n",
       "      <td>0</td>\n",
       "      <td>0</td>\n",
       "      <td>1</td>\n",
       "    </tr>\n",
       "    <tr>\n",
       "      <th>3</th>\n",
       "      <td>0</td>\n",
       "      <td>2</td>\n",
       "      <td>0</td>\n",
       "      <td>1</td>\n",
       "    </tr>\n",
       "    <tr>\n",
       "      <th>4</th>\n",
       "      <td>0</td>\n",
       "      <td>1</td>\n",
       "      <td>1</td>\n",
       "      <td>0</td>\n",
       "    </tr>\n",
       "    <tr>\n",
       "      <th>5</th>\n",
       "      <td>0</td>\n",
       "      <td>1</td>\n",
       "      <td>1</td>\n",
       "      <td>0</td>\n",
       "    </tr>\n",
       "    <tr>\n",
       "      <th>6</th>\n",
       "      <td>1</td>\n",
       "      <td>1</td>\n",
       "      <td>1</td>\n",
       "      <td>1</td>\n",
       "    </tr>\n",
       "    <tr>\n",
       "      <th>7</th>\n",
       "      <td>2</td>\n",
       "      <td>2</td>\n",
       "      <td>0</td>\n",
       "      <td>1</td>\n",
       "    </tr>\n",
       "    <tr>\n",
       "      <th>8</th>\n",
       "      <td>2</td>\n",
       "      <td>1</td>\n",
       "      <td>1</td>\n",
       "      <td>1</td>\n",
       "    </tr>\n",
       "    <tr>\n",
       "      <th>9</th>\n",
       "      <td>0</td>\n",
       "      <td>2</td>\n",
       "      <td>1</td>\n",
       "      <td>1</td>\n",
       "    </tr>\n",
       "    <tr>\n",
       "      <th>10</th>\n",
       "      <td>2</td>\n",
       "      <td>2</td>\n",
       "      <td>1</td>\n",
       "      <td>0</td>\n",
       "    </tr>\n",
       "    <tr>\n",
       "      <th>11</th>\n",
       "      <td>1</td>\n",
       "      <td>2</td>\n",
       "      <td>0</td>\n",
       "      <td>0</td>\n",
       "    </tr>\n",
       "    <tr>\n",
       "      <th>12</th>\n",
       "      <td>1</td>\n",
       "      <td>0</td>\n",
       "      <td>1</td>\n",
       "      <td>1</td>\n",
       "    </tr>\n",
       "    <tr>\n",
       "      <th>13</th>\n",
       "      <td>0</td>\n",
       "      <td>2</td>\n",
       "      <td>0</td>\n",
       "      <td>0</td>\n",
       "    </tr>\n",
       "  </tbody>\n",
       "</table>\n",
       "</div>"
      ],
      "text/plain": [
       "    Ambiente  Temperatura  Humedad  Viento\n",
       "0          2            0        0       1\n",
       "1          2            0        0       0\n",
       "2          1            0        0       1\n",
       "3          0            2        0       1\n",
       "4          0            1        1       0\n",
       "5          0            1        1       0\n",
       "6          1            1        1       1\n",
       "7          2            2        0       1\n",
       "8          2            1        1       1\n",
       "9          0            2        1       1\n",
       "10         2            2        1       0\n",
       "11         1            2        0       0\n",
       "12         1            0        1       1\n",
       "13         0            2        0       0"
      ]
     },
     "execution_count": 73,
     "metadata": {},
     "output_type": "execute_result"
    }
   ],
   "source": [
    "X"
   ]
  },
  {
   "cell_type": "code",
   "execution_count": 74,
   "metadata": {},
   "outputs": [
    {
     "data": {
      "text/plain": [
       "array([[0.36630987, 0.63369013]])"
      ]
     },
     "execution_count": 74,
     "metadata": {},
     "output_type": "execute_result"
    }
   ],
   "source": [
    "model = MultinomialNB()\n",
    "model.fit(X, y)\n",
    "model.predict_proba(nval)"
   ]
  },
  {
   "cell_type": "code",
   "execution_count": 75,
   "metadata": {},
   "outputs": [
    {
     "name": "stdout",
     "output_type": "stream",
     "text": [
      "Prediccion ['Sí'] Probabilidad: ['0.366', '0.634'] clases ['No' 'Sí']\n"
     ]
    }
   ],
   "source": [
    "prbas = [\"{:.3f}\".format(i) for i in list(model.predict_proba(nval)[0])]\n",
    "print(\"Prediccion {} Probabilidad: {} clases {}\".format(model.predict(nval), prbas, model.classes_))"
   ]
  },
  {
   "cell_type": "markdown",
   "metadata": {},
   "source": [
    "----"
   ]
  },
  {
   "cell_type": "markdown",
   "metadata": {},
   "source": [
    "### LabelEncoder"
   ]
  },
  {
   "cell_type": "code",
   "execution_count": 79,
   "metadata": {},
   "outputs": [],
   "source": [
    "data = {\n",
    "    'Ambiente': ['Soleado', 'Soleado', 'Nublado', 'Lluvioso', 'Lluvioso', 'Lluvioso', 'Nublado', \n",
    "                'Soleado', 'Soleado', 'Lluvioso', 'Soleado', 'Nublado', 'Nublado', 'Lluvioso'],\n",
    "    \n",
    "}\n",
    "df = pd.DataFrame(data)\n",
    "le = OrdinalEncoder()\n",
    "le.fit(df[[\"Ambiente\"]])\n",
    "df.loc[:,[\"Ambiente_\"]] = le.transform(df[[\"Ambiente\"]])"
   ]
  },
  {
   "cell_type": "markdown",
   "metadata": {},
   "source": [
    "#### ¿Que clases Obtuvo?"
   ]
  },
  {
   "cell_type": "code",
   "execution_count": 80,
   "metadata": {},
   "outputs": [
    {
     "data": {
      "text/plain": [
       "array([['Lluvioso'],\n",
       "       ['Nublado'],\n",
       "       ['Soleado']], dtype=object)"
      ]
     },
     "execution_count": 80,
     "metadata": {},
     "output_type": "execute_result"
    }
   ],
   "source": [
    "le.inverse_transform([[0], [1], [2]])"
   ]
  },
  {
   "cell_type": "code",
   "execution_count": 81,
   "metadata": {},
   "outputs": [
    {
     "data": {
      "text/html": [
       "<div>\n",
       "<style scoped>\n",
       "    .dataframe tbody tr th:only-of-type {\n",
       "        vertical-align: middle;\n",
       "    }\n",
       "\n",
       "    .dataframe tbody tr th {\n",
       "        vertical-align: top;\n",
       "    }\n",
       "\n",
       "    .dataframe thead th {\n",
       "        text-align: right;\n",
       "    }\n",
       "</style>\n",
       "<table border=\"1\" class=\"dataframe\">\n",
       "  <thead>\n",
       "    <tr style=\"text-align: right;\">\n",
       "      <th></th>\n",
       "      <th>Ambiente</th>\n",
       "      <th>Ambiente_</th>\n",
       "    </tr>\n",
       "  </thead>\n",
       "  <tbody>\n",
       "    <tr>\n",
       "      <th>0</th>\n",
       "      <td>Soleado</td>\n",
       "      <td>2.0</td>\n",
       "    </tr>\n",
       "    <tr>\n",
       "      <th>1</th>\n",
       "      <td>Soleado</td>\n",
       "      <td>2.0</td>\n",
       "    </tr>\n",
       "    <tr>\n",
       "      <th>2</th>\n",
       "      <td>Nublado</td>\n",
       "      <td>1.0</td>\n",
       "    </tr>\n",
       "    <tr>\n",
       "      <th>3</th>\n",
       "      <td>Lluvioso</td>\n",
       "      <td>0.0</td>\n",
       "    </tr>\n",
       "    <tr>\n",
       "      <th>4</th>\n",
       "      <td>Lluvioso</td>\n",
       "      <td>0.0</td>\n",
       "    </tr>\n",
       "  </tbody>\n",
       "</table>\n",
       "</div>"
      ],
      "text/plain": [
       "   Ambiente  Ambiente_\n",
       "0   Soleado        2.0\n",
       "1   Soleado        2.0\n",
       "2   Nublado        1.0\n",
       "3  Lluvioso        0.0\n",
       "4  Lluvioso        0.0"
      ]
     },
     "execution_count": 81,
     "metadata": {},
     "output_type": "execute_result"
    }
   ],
   "source": [
    "df.head()"
   ]
  },
  {
   "cell_type": "code",
   "execution_count": 82,
   "metadata": {},
   "outputs": [
    {
     "data": {
      "text/plain": [
       "Ambiente      object\n",
       "Ambiente_    float64\n",
       "dtype: object"
      ]
     },
     "execution_count": 82,
     "metadata": {},
     "output_type": "execute_result"
    }
   ],
   "source": [
    "df.dtypes"
   ]
  },
  {
   "cell_type": "markdown",
   "metadata": {},
   "source": [
    "#### ¿Como se que categoria es cada número?"
   ]
  },
  {
   "cell_type": "code",
   "execution_count": 83,
   "metadata": {},
   "outputs": [
    {
     "data": {
      "text/plain": [
       "array([['Soleado'],\n",
       "       ['Soleado'],\n",
       "       ['Nublado'],\n",
       "       ['Lluvioso'],\n",
       "       ['Lluvioso'],\n",
       "       ['Lluvioso'],\n",
       "       ['Nublado'],\n",
       "       ['Soleado'],\n",
       "       ['Soleado'],\n",
       "       ['Lluvioso'],\n",
       "       ['Soleado'],\n",
       "       ['Nublado'],\n",
       "       ['Nublado'],\n",
       "       ['Lluvioso']], dtype=object)"
      ]
     },
     "execution_count": 83,
     "metadata": {},
     "output_type": "execute_result"
    }
   ],
   "source": [
    "le.inverse_transform(df.loc[:, [\"Ambiente_\"]])"
   ]
  }
 ],
 "metadata": {
  "kernelspec": {
   "display_name": "Python 3",
   "language": "python",
   "name": "python3"
  },
  "language_info": {
   "codemirror_mode": {
    "name": "ipython",
    "version": 3
   },
   "file_extension": ".py",
   "mimetype": "text/x-python",
   "name": "python",
   "nbconvert_exporter": "python",
   "pygments_lexer": "ipython3",
   "version": "3.10.1"
  }
 },
 "nbformat": 4,
 "nbformat_minor": 2
}
