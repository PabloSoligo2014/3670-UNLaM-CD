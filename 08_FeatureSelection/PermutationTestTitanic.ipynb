{
 "cells": [
  {
   "cell_type": "markdown",
   "metadata": {},
   "source": [
    "# Prueba de permutación"
   ]
  },
  {
   "cell_type": "markdown",
   "metadata": {},
   "source": [
    "Mediante la prueba de permutación vamos a analizar la posible relación entre dos variables. Esta prueba no necesita ningún supuesto sobre la distribución de los datos y es posible (o digamos práctica) si esta disponible poder de cómputo. "
   ]
  },
  {
   "cell_type": "code",
   "execution_count": 1,
   "metadata": {},
   "outputs": [],
   "source": [
    "import pandas as pd\n",
    "import numpy as np\n",
    "import seaborn as sns\n",
    "import matplotlib.pyplot as plt\n",
    "import sys\n",
    "import random"
   ]
  },
  {
   "cell_type": "markdown",
   "metadata": {},
   "source": [
    "Leemos el dataset del titanic. Quiero saber si existe alguna relación entre la edad y la supervivencia. Descarto cualquier otro dato."
   ]
  },
  {
   "cell_type": "code",
   "execution_count": 2,
   "metadata": {},
   "outputs": [
    {
     "data": {
      "text/plain": [
       "(891, 2)"
      ]
     },
     "execution_count": 2,
     "metadata": {},
     "output_type": "execute_result"
    }
   ],
   "source": [
    "df = pd.read_csv(\"../datasets/titanic.csv\")\n",
    "df = df[[\"Age\", \"Survived\"]]\n",
    "df.shape"
   ]
  },
  {
   "cell_type": "markdown",
   "metadata": {},
   "source": [
    "Tenemos algunos nulos, los excluyo de mi análisis."
   ]
  },
  {
   "cell_type": "code",
   "execution_count": 3,
   "metadata": {},
   "outputs": [
    {
     "data": {
      "text/plain": [
       "5.033898305084746"
      ]
     },
     "execution_count": 3,
     "metadata": {},
     "output_type": "execute_result"
    }
   ],
   "source": [
    "df[\"Age\"].shape[0]/df[\"Age\"].isnull().sum()"
   ]
  },
  {
   "cell_type": "code",
   "execution_count": 4,
   "metadata": {},
   "outputs": [
    {
     "data": {
      "text/plain": [
       "(714, 2)"
      ]
     },
     "execution_count": 4,
     "metadata": {},
     "output_type": "execute_result"
    }
   ],
   "source": [
    "df.dropna(inplace=True)\n",
    "df.shape"
   ]
  },
  {
   "cell_type": "code",
   "execution_count": 7,
   "metadata": {},
   "outputs": [
    {
     "data": {
      "image/png": "[encoded data removed]",
      "text/plain": [
       "<Figure size 432x288 with 1 Axes>"
      ]
     },
     "metadata": {
      "needs_background": "light"
     },
     "output_type": "display_data"
    }
   ],
   "source": [
    "df.boxplot(column=\"Age\", by=\"Survived\")\n",
    "\n",
    "plt.suptitle(\"\")  # eliminar el título automático\n",
    "plt.xlabel(\"Supervivencia\")\n",
    "plt.ylabel(\"Edad\")\n",
    "plt.xticks([1, 2], [\"No sobrevivió\", \"Sobrevivió\"])\n",
    "plt.title(\"Distribución de edades\")\n",
    "plt.show()"
   ]
  },
  {
   "cell_type": "markdown",
   "metadata": {},
   "source": [
    "¿Cual es la edad media de los supervivientes? ¿Cual es la edad media de quienes murieron?"
   ]
  },
  {
   "cell_type": "code",
   "execution_count": 9,
   "metadata": {},
   "outputs": [
    {
     "name": "stdout",
     "output_type": "stream",
     "text": [
      "28.34, 30.63, -2.28\n"
     ]
    }
   ],
   "source": [
    "surv_age_mean = df.loc[df.Survived==1, [\"Age\"]].mean().values[0]\n",
    "died_age_mean = df.loc[df.Survived==0, [\"Age\"]].mean().values[0]\n",
    "obs_diff = surv_age_mean - died_age_mean\n",
    "print(f\"{surv_age_mean:.2f}, {died_age_mean:.2f}, {obs_diff:.2f}\")"
   ]
  },
  {
   "cell_type": "markdown",
   "metadata": {},
   "source": [
    "Hay un diferencia de 2.28, ¿Esa diferencia puede ser producto del azar? O es lo suficientemente grande como para expresar una relación."
   ]
  },
  {
   "cell_type": "markdown",
   "metadata": {},
   "source": [
    "Para realizar el test permuto los valores de edad, rompo totalmente la relación que pudiese haber entre ellos. Como mantuve los valores de supervivencia intactos la cantidad de supervivientes vs no supervivientes no se altera. Luego calculo n veces las medias de entre los \"falsos supervivientes\" y \"falsos no supervivientes\" y las guardo en una lista, esto termina generando una campana, ¿Donde queda mi diferencia observada? ¿Cuantas veces la diferencia fue tan extrema como la observada? "
   ]
  },
  {
   "cell_type": "code",
   "execution_count": 10,
   "metadata": {},
   "outputs": [
    {
     "name": "stdout",
     "output_type": "stream",
     "text": [
      "Diferencia observada: -2.28\n",
      "p-valor: 0.0380\n"
     ]
    },
    {
     "data": {
      "image/png": "[encoded data removed]",
      "text/plain": [
       "<Figure size 432x288 with 1 Axes>"
      ]
     },
     "metadata": {
      "needs_background": "light"
     },
     "output_type": "display_data"
    }
   ],
   "source": [
    "n_permutations = 2000\n",
    "permuted_diff = []\n",
    "\n",
    "# Repetir el reordenamiento de etiquetas\n",
    "for _ in range(n_permutations):\n",
    "\n",
    "    df['Age_permuted'] = np.random.permutation(df['Age'])\n",
    "    surv_age_mean = df.loc[df.Survived==1, [\"Age_permuted\"]].mean().values[0]\n",
    "    died_age_mean = df.loc[df.Survived==0, [\"Age_permuted\"]].mean().values[0]\n",
    "    diff = surv_age_mean - died_age_mean\n",
    "    permuted_diff.append(diff)\n",
    "\n",
    "# Paso 4: Calcular el p-valor como la proporción de permutaciones que tienen una diferencia mayor o igual a la observada\n",
    "p_value = np.sum(np.abs(permuted_diff) >= np.abs(obs_diff)) / n_permutations\n",
    "\n",
    "# Mostrar los resultados\n",
    "print(f\"Diferencia observada: {obs_diff:.2f}\")\n",
    "print(f\"p-valor: {p_value:.4f}\")\n",
    "\n",
    "# Graficar la distribución de las diferencias permutadas\n",
    "plt.hist(permuted_diff, bins=30, color='skyblue', edgecolor='black')\n",
    "plt.axvline(obs_diff, color='red', linestyle='dashed', linewidth=2, label='Diferencia observada')\n",
    "plt.title(f'Distribución de diferencias permutadas, p-valor: {p_value:.4f}')\n",
    "plt.xlabel('Diferencia de medias')\n",
    "plt.ylabel('Frecuencia')\n",
    "plt.legend()\n",
    "plt.show()"
   ]
  },
  {
   "cell_type": "markdown",
   "metadata": {},
   "source": [
    "Recordando</BR>\n",
    "Si p-valor < 0.05, se rechaza la hipótesis nula de independencia.</BR>\n",
    "Si p-valor >= 0.05, no se rechaza la hipótesis nula.</BR>"
   ]
  },
  {
   "cell_type": "markdown",
   "metadata": {},
   "source": [
    "Pendiente. Analizar la potencia de la muestra"
   ]
  }
 ],
 "metadata": {
  "kernelspec": {
   "display_name": "Python 3",
   "language": "python",
   "name": "python3"
  },
  "language_info": {
   "codemirror_mode": {
    "name": "ipython",
    "version": 3
   },
   "file_extension": ".py",
   "mimetype": "text/x-python",
   "name": "python",
   "nbconvert_exporter": "python",
   "pygments_lexer": "ipython3",
   "version": "3.10.1"
  }
 },
 "nbformat": 4,
 "nbformat_minor": 2
}
