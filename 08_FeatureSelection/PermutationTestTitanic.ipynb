{
 "cells": [
  {
   "cell_type": "markdown",
   "metadata": {},
   "source": [
    "# Prueba de permutación"
   ]
  },
  {
   "cell_type": "markdown",
   "metadata": {},
   "source": [
    "Mediante la prueba de permutación vamos a analizar la posible relación entre dos variables. Esta prueba no necesita ningún supuesto sobre la distribución de los datos y es posible (o digamos práctica) si esta disponible poder de cómputo. "
   ]
  },
  {
   "cell_type": "code",
   "execution_count": 1,
   "metadata": {},
   "outputs": [],
   "source": [
    "import pandas as pd\n",
    "import numpy as np\n",
    "import seaborn as sns\n",
    "import matplotlib.pyplot as plt\n",
    "import sys\n",
    "import random\n",
    "from scipy.stats import chi2_contingency"
   ]
  },
  {
   "cell_type": "markdown",
   "metadata": {},
   "source": [
    "Leemos el dataset del titanic. Quiero saber si existe alguna relación entre la edad y la supervivencia. Descarto cualquier otro dato."
   ]
  },
  {
   "cell_type": "code",
   "execution_count": 2,
   "metadata": {},
   "outputs": [
    {
     "data": {
      "text/plain": [
       "(891, 12)"
      ]
     },
     "execution_count": 2,
     "metadata": {},
     "output_type": "execute_result"
    }
   ],
   "source": [
    "df = pd.read_csv(\"../datasets/titanic.csv\")\n",
    "#df = df[[\"Age\", \"Survived\"]]\n",
    "df.shape"
   ]
  },
  {
   "cell_type": "markdown",
   "metadata": {},
   "source": [
    "Tenemos algunos nulos, los excluyo de mi análisis."
   ]
  },
  {
   "cell_type": "code",
   "execution_count": 3,
   "metadata": {},
   "outputs": [
    {
     "data": {
      "text/plain": [
       "5.033898305084746"
      ]
     },
     "execution_count": 3,
     "metadata": {},
     "output_type": "execute_result"
    }
   ],
   "source": [
    "df[\"Age\"].shape[0]/df[\"Age\"].isnull().sum()"
   ]
  },
  {
   "cell_type": "code",
   "execution_count": 4,
   "metadata": {},
   "outputs": [
    {
     "data": {
      "text/plain": [
       "(891, 12)"
      ]
     },
     "execution_count": 4,
     "metadata": {},
     "output_type": "execute_result"
    }
   ],
   "source": [
    "df[\"Age\"].dropna(inplace=True)\n",
    "df.shape"
   ]
  },
  {
   "cell_type": "code",
   "execution_count": 5,
   "metadata": {},
   "outputs": [
    {
     "data": {
      "image/png": "[encoded data removed]",
      "text/plain": [
       "<Figure size 432x288 with 1 Axes>"
      ]
     },
     "metadata": {
      "needs_background": "light"
     },
     "output_type": "display_data"
    }
   ],
   "source": [
    "df.boxplot(column=\"Age\", by=\"Survived\")\n",
    "\n",
    "plt.suptitle(\"\")  # eliminar el título automático\n",
    "plt.xlabel(\"Supervivencia\")\n",
    "plt.ylabel(\"Edad\")\n",
    "plt.xticks([1, 2], [\"No sobrevivió\", \"Sobrevivió\"])\n",
    "plt.title(\"Distribución de edades\")\n",
    "plt.show()"
   ]
  },
  {
   "cell_type": "markdown",
   "metadata": {},
   "source": [
    "¿Cual es la edad media de los supervivientes? ¿Cual es la edad media de quienes murieron?"
   ]
  },
  {
   "cell_type": "code",
   "execution_count": 6,
   "metadata": {},
   "outputs": [
    {
     "name": "stdout",
     "output_type": "stream",
     "text": [
      "28.34, 30.63, -2.28\n"
     ]
    }
   ],
   "source": [
    "surv_age_mean = df.loc[df.Survived==1, [\"Age\"]].mean().values[0]\n",
    "died_age_mean = df.loc[df.Survived==0, [\"Age\"]].mean().values[0]\n",
    "obs_diff = surv_age_mean - died_age_mean\n",
    "print(f\"{surv_age_mean:.2f}, {died_age_mean:.2f}, {obs_diff:.2f}\")"
   ]
  },
  {
   "cell_type": "markdown",
   "metadata": {},
   "source": [
    "Hay un diferencia de 2.28, ¿Esa diferencia puede ser producto del azar? O es lo suficientemente grande como para expresar una relación."
   ]
  },
  {
   "cell_type": "markdown",
   "metadata": {},
   "source": [
    "Para realizar el test permuto los valores de edad, rompo totalmente la relación que pudiese haber entre ellos. Como mantuve los valores de supervivencia intactos la cantidad de supervivientes vs no supervivientes no se altera. Luego calculo n veces las medias de entre los \"falsos supervivientes\" y \"falsos no supervivientes\" y las guardo en una lista, esto termina generando una campana, ¿Donde queda mi diferencia observada? ¿Cuantas veces la diferencia fue tan extrema como la observada? "
   ]
  },
  {
   "cell_type": "code",
   "execution_count": 8,
   "metadata": {},
   "outputs": [
    {
     "name": "stdout",
     "output_type": "stream",
     "text": [
      "Diferencia observada: -2.28\n",
      "p-valor: 0.0393\n"
     ]
    },
    {
     "data": {
      "image/png": "[encoded data removed]",
      "text/plain": [
       "<Figure size 432x288 with 1 Axes>"
      ]
     },
     "metadata": {
      "needs_background": "light"
     },
     "output_type": "display_data"
    }
   ],
   "source": [
    "n_permutations = 3000\n",
    "permuted_diff = []\n",
    "\n",
    "# Repetir el reordenamiento de etiquetas\n",
    "for _ in range(n_permutations):\n",
    "\n",
    "    df['Age_permuted'] = np.random.permutation(df['Age'])\n",
    "    surv_age_mean = df.loc[df.Survived==1, [\"Age_permuted\"]].mean().values[0]\n",
    "    died_age_mean = df.loc[df.Survived==0, [\"Age_permuted\"]].mean().values[0]\n",
    "    diff = surv_age_mean - died_age_mean\n",
    "    permuted_diff.append(diff)\n",
    "\n",
    "# Paso 4: Calcular el p-valor como la proporción de permutaciones que tienen una diferencia mayor o igual a la observada\n",
    "p_value = np.sum(np.abs(permuted_diff) >= np.abs(obs_diff)) / n_permutations\n",
    "\n",
    "# Mostrar los resultados\n",
    "print(f\"Diferencia observada: {obs_diff:.2f}\")\n",
    "print(f\"p-valor: {p_value:.4f}\")\n",
    "\n",
    "# Graficar la distribución de las diferencias permutadas\n",
    "plt.hist(permuted_diff, bins=30, color='skyblue', edgecolor='black')\n",
    "plt.axvline(obs_diff, color='red', linestyle='dashed', linewidth=2, label='Diferencia observada')\n",
    "plt.title(f'Distribución de diferencias permutadas, p-valor: {p_value:.4f}')\n",
    "plt.xlabel('Diferencia de medias')\n",
    "plt.ylabel('Frecuencia')\n",
    "plt.legend()\n",
    "plt.show()"
   ]
  },
  {
   "cell_type": "markdown",
   "metadata": {},
   "source": [
    "Recordando</BR>\n",
    "Si p-valor < 0.05, se rechaza la hipótesis nula de independencia.</BR>\n",
    "Si p-valor >= 0.05, no se rechaza la hipótesis nula.</BR>"
   ]
  },
  {
   "cell_type": "markdown",
   "metadata": {},
   "source": [
    "Pendiente. Analizar la potencia de la muestra"
   ]
  },
  {
   "cell_type": "code",
   "execution_count": 56,
   "metadata": {},
   "outputs": [],
   "source": [
    "df.drop(columns=['Age_permuted'], inplace=True)"
   ]
  },
  {
   "cell_type": "markdown",
   "metadata": {},
   "source": [
    "Veamos con otra variable(la clase)</BR>\n",
    "Hipótesis nula: la clase del pasajero (Pclass) no está asociada a la supervivencia (Survived), o sea son independientes.</BR>\n",
    "Existe una asociación\n"
   ]
  },
  {
   "cell_type": "code",
   "execution_count": 15,
   "metadata": {},
   "outputs": [
    {
     "data": {
      "text/plain": [
       "(891, 14)"
      ]
     },
     "execution_count": 15,
     "metadata": {},
     "output_type": "execute_result"
    }
   ],
   "source": [
    "# Eliminar filas con valores faltantes en \"Pclass\" (Si es que hay)\n",
    "df[\"Pclass\"].dropna(inplace=True)\n",
    "df.shape\n"
   ]
  },
  {
   "cell_type": "code",
   "execution_count": 16,
   "metadata": {},
   "outputs": [
    {
     "data": {
      "text/html": [
       "<div>\n",
       "<style scoped>\n",
       "    .dataframe tbody tr th:only-of-type {\n",
       "        vertical-align: middle;\n",
       "    }\n",
       "\n",
       "    .dataframe tbody tr th {\n",
       "        vertical-align: top;\n",
       "    }\n",
       "\n",
       "    .dataframe thead th {\n",
       "        text-align: right;\n",
       "    }\n",
       "</style>\n",
       "<table border=\"1\" class=\"dataframe\">\n",
       "  <thead>\n",
       "    <tr style=\"text-align: right;\">\n",
       "      <th>Survived</th>\n",
       "      <th>0</th>\n",
       "      <th>1</th>\n",
       "    </tr>\n",
       "    <tr>\n",
       "      <th>Pclass</th>\n",
       "      <th></th>\n",
       "      <th></th>\n",
       "    </tr>\n",
       "  </thead>\n",
       "  <tbody>\n",
       "    <tr>\n",
       "      <th>1</th>\n",
       "      <td>80</td>\n",
       "      <td>136</td>\n",
       "    </tr>\n",
       "    <tr>\n",
       "      <th>2</th>\n",
       "      <td>97</td>\n",
       "      <td>87</td>\n",
       "    </tr>\n",
       "    <tr>\n",
       "      <th>3</th>\n",
       "      <td>372</td>\n",
       "      <td>119</td>\n",
       "    </tr>\n",
       "  </tbody>\n",
       "</table>\n",
       "</div>"
      ],
      "text/plain": [
       "Survived    0    1\n",
       "Pclass            \n",
       "1          80  136\n",
       "2          97   87\n",
       "3         372  119"
      ]
     },
     "execution_count": 16,
     "metadata": {},
     "output_type": "execute_result"
    }
   ],
   "source": [
    "observed_table = pd.crosstab(df[\"Pclass\"], df[\"Survived\"])\n",
    "observed_table\n"
   ]
  },
  {
   "cell_type": "markdown",
   "metadata": {},
   "source": [
    "| Pclass        | No sobrevivió (0) | Sobrevivió (1) | Total fila |\n",
    "| ------------- | ----------------- | -------------- | ---------- |\n",
    "| 1             | 80                | 136            | 216        |\n",
    "| 2             | 97                | 87             | 184        |\n",
    "| 3             | 372               | 119            | 491        |\n",
    "| **Total col** | 549               | 342            | 891        |\n"
   ]
  },
  {
   "cell_type": "markdown",
   "metadata": {},
   "source": [
    "(216*549)/891 = 133, esto para cada celda, luego (Observado-Esperado)**2/Esperado = 21, los mismo para cada celda y luego se suman los resultados"
   ]
  },
  {
   "cell_type": "code",
   "execution_count": 17,
   "metadata": {},
   "outputs": [
    {
     "data": {
      "text/plain": [
       "Chi2ContingencyResult(statistic=102.88898875696056, pvalue=4.549251711298793e-23, dof=2, expected_freq=array([[133.09090909,  82.90909091],\n",
       "       [113.37373737,  70.62626263],\n",
       "       [302.53535354, 188.46464646]]))"
      ]
     },
     "execution_count": 17,
     "metadata": {},
     "output_type": "execute_result"
    }
   ],
   "source": [
    "chi2_contingency(observed_table)"
   ]
  },
  {
   "cell_type": "markdown",
   "metadata": {},
   "source": [
    "| Pclass        | No sobrevivió (0) | Sobrevivió (1) |\n",
    "| ------------- | ----------------- | -------------- |\n",
    "| 1             | 133               | 82             |\n",
    "| 2             | 113               | 70             |\n",
    "| 3             | 302               | 188            |\n"
   ]
  },
  {
   "cell_type": "code",
   "execution_count": 18,
   "metadata": {},
   "outputs": [
    {
     "data": {
      "text/plain": [
       "102.88898875696056"
      ]
     },
     "execution_count": 18,
     "metadata": {},
     "output_type": "execute_result"
    }
   ],
   "source": [
    "chi2_obs, _, _, expected_freq = chi2_contingency(observed_table)\n",
    "chi2_obs"
   ]
  },
  {
   "cell_type": "code",
   "execution_count": 13,
   "metadata": {},
   "outputs": [
    {
     "name": "stdout",
     "output_type": "stream",
     "text": [
      "Chi2 observado: 102.889\n",
      "p-valor por permutación: 0.0000\n"
     ]
    }
   ],
   "source": [
    "\n",
    "n_permutaciones = 2000\n",
    "chi2_permutados = []\n",
    "for _ in range(n_permutaciones):\n",
    "    # Permutar la columna \"Pclass\"\n",
    "    df[\"Pclass_permuted\"] =  np.random.permutation(df['Pclass'])\n",
    "    # Nueva tabla de contingencia con datos permutados\n",
    "    table_perm = pd.crosstab(df[\"Pclass_permuted\"], df[\"Survived\"])\n",
    "    \n",
    "    # Calcular chi-cuadrado para la permutación\n",
    "    chi2_perm, _, _, _ = chi2_contingency(table_perm)\n",
    "    chi2_permutados.append(chi2_perm)\n",
    "\n",
    "# Calcular p-valor empírico\n",
    "p_valor = np.mean(np.array(chi2_permutados) >= chi2_obs)\n",
    "\n",
    "print(f\"Chi2 observado: {chi2_obs:.3f}\")\n",
    "print(f\"p-valor por permutación: {p_valor:.4f}\")"
   ]
  },
  {
   "cell_type": "code",
   "execution_count": 14,
   "metadata": {},
   "outputs": [
    {
     "data": {
      "image/png": "[encoded data removed]",
      "text/plain": [
       "<Figure size 432x288 with 1 Axes>"
      ]
     },
     "metadata": {
      "needs_background": "light"
     },
     "output_type": "display_data"
    }
   ],
   "source": [
    "\n",
    "# Graficar la distribución de las diferencias permutadas\n",
    "plt.hist(chi2_permutados, bins=10, color='skyblue', edgecolor='black')\n",
    "plt.axvline(chi2_obs, color='red', linestyle='dashed', linewidth=2, label='Diferencia observada')\n",
    "plt.title(f'Distribución de diferencias permutadas, p-valor: {p_valor:.4f}')\n",
    "plt.xlabel('Diferencia de medias')\n",
    "plt.ylabel('Frecuencia')\n",
    "plt.legend()\n",
    "plt.show()"
   ]
  }
 ],
 "metadata": {
  "kernelspec": {
   "display_name": "Python 3",
   "language": "python",
   "name": "python3"
  },
  "language_info": {
   "codemirror_mode": {
    "name": "ipython",
    "version": 3
   },
   "file_extension": ".py",
   "mimetype": "text/x-python",
   "name": "python",
   "nbconvert_exporter": "python",
   "pygments_lexer": "ipython3",
   "version": "3.10.1"
  }
 },
 "nbformat": 4,
 "nbformat_minor": 2
}
