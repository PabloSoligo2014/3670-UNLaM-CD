{
 "cells": [
  {
   "cell_type": "code",
   "execution_count": 1,
   "metadata": {},
   "outputs": [],
   "source": [
    "import pandas as pd\n",
    "import seaborn as sns\n",
    "import matplotlib.pyplot as plt\n",
    "\n",
    "from sklearn.preprocessing import StandardScaler\n",
    "from sklearn.model_selection import train_test_split\n",
    "from sklearn.tree import DecisionTreeClassifier, plot_tree\n",
    "from sklearn.metrics import accuracy_score # métrica de evaluación\n",
    "from sklearn.preprocessing import OrdinalEncoder, OneHotEncoder, LabelEncoder \n",
    "\n",
    "\n",
    "import numpy as np\n",
    "\n",
    "import sys\n",
    "sys.path.append('../Code')\n",
    "from sklearn import metrics\n",
    "from CustomTransformers import CollinearityDropper"
   ]
  },
  {
   "cell_type": "markdown",
   "metadata": {},
   "source": [
    "La varianza como medida de dispersion no da una idea de lo distribuido que estan los datos. En el caso extremo una constante con varianza=0 no tendrá poder predictivo. A medida aumenta la dispersion de los datos podemos suponer (muy ingenuamente) que aumenta la capacidad predictiva (Valores hash/identificadores únicos random tendran una varianza importante y nula capacidad predictiva)"
   ]
  },
  {
   "cell_type": "code",
   "execution_count": 6,
   "metadata": {},
   "outputs": [],
   "source": [
    "vals = np.array([25,25,25,26,26,24,24,25,25,25])"
   ]
  },
  {
   "cell_type": "code",
   "execution_count": 7,
   "metadata": {},
   "outputs": [
    {
     "data": {
      "text/plain": [
       "0.4"
      ]
     },
     "execution_count": 7,
     "metadata": {},
     "output_type": "execute_result"
    }
   ],
   "source": [
    "np.var(vals)"
   ]
  },
  {
   "cell_type": "code",
   "execution_count": 9,
   "metadata": {},
   "outputs": [
    {
     "data": {
      "text/plain": [
       "0.25"
      ]
     },
     "execution_count": 9,
     "metadata": {},
     "output_type": "execute_result"
    }
   ],
   "source": [
    "np.var(np.array([0,0,0,0,0,0,0,0,1,1,1,1,1,1,1,1]))"
   ]
  },
  {
   "cell_type": "code",
   "execution_count": 2,
   "metadata": {},
   "outputs": [
    {
     "data": {
      "text/plain": [
       "18.666666666666668"
      ]
     },
     "execution_count": 2,
     "metadata": {},
     "output_type": "execute_result"
    }
   ],
   "source": [
    "vals = np.array([1,2,3,4,5,6,7,8,9,10,11,12,13,14,15])\n",
    "np.var(vals)"
   ]
  },
  {
   "cell_type": "markdown",
   "metadata": {},
   "source": [
    "\"El contra\" Veamos un contra ejemplo que nos ayude a enteder que esto no es siempre cierto."
   ]
  },
  {
   "cell_type": "code",
   "execution_count": 27,
   "metadata": {},
   "outputs": [
    {
     "data": {
      "text/plain": [
       "0.109375"
      ]
     },
     "execution_count": 27,
     "metadata": {},
     "output_type": "execute_result"
    }
   ],
   "source": [
    "ds = np.array([[1,0,0,0,0,0,0,0,0],\n",
    "               [0,1,0,0,0,0,0,0,0],\n",
    "               [0,0,1,0,0,0,0,0,0],\n",
    "               [0,0,0,1,0,0,0,0,0],\n",
    "               [0,0,0,0,1,0,0,0,1],\n",
    "               [0,0,0,0,0,1,0,0,1],\n",
    "               [0,0,0,0,0,0,1,0,1],\n",
    "               [0,0,0,0,0,0,0,1,1],\n",
    "\n",
    "               [1,0,0,0,0,0,0,0,0],\n",
    "               [0,1,0,0,0,0,0,0,0],\n",
    "               [0,0,1,0,0,0,0,0,0],\n",
    "               [0,0,0,1,0,0,0,0,0],\n",
    "               [0,0,0,0,1,0,0,0,1],\n",
    "               [0,0,0,0,0,1,0,0,1],\n",
    "               [0,0,0,0,0,0,1,0,1],\n",
    "               [0,0,0,0,0,0,0,1,1],\n",
    "\n",
    "               [1,0,0,0,0,0,0,0,0],\n",
    "               [0,1,0,0,0,0,0,0,0],\n",
    "               [0,0,1,0,0,0,0,0,0],\n",
    "               [0,0,0,1,0,0,0,0,0],\n",
    "               [0,0,0,0,1,0,0,0,1],\n",
    "               [0,0,0,0,0,1,0,0,1],\n",
    "               [0,0,0,0,0,0,1,0,1],\n",
    "               [0,0,0,0,0,0,0,1,1]\n",
    "               ])\n",
    "\n",
    "df = pd.DataFrame(ds, columns=[\"f1\", \"f2\", \"f3\", \"f4\", \"f5\", \"f6\", \"f7\", \"f8\", \"target\"])\n",
    "np.var(df[\"f1\"])"
   ]
  },
  {
   "cell_type": "code",
   "execution_count": 28,
   "metadata": {},
   "outputs": [
    {
     "name": "stdout",
     "output_type": "stream",
     "text": [
      "Accuracy: 1.0\n"
     ]
    }
   ],
   "source": [
    "from sklearn.neighbors import KNeighborsClassifier\n",
    "X_train, X_test, y_train, y_test = train_test_split(df.drop(columns=[\"target\"]), df[\"target\"], test_size=0.2, random_state=42)\n",
    "\n",
    "\n",
    "knn = KNeighborsClassifier(n_neighbors=3)\n",
    "knn.fit(X_train, y_train)\n",
    "y_pred = knn.predict(X_test)\n",
    "print(\"Accuracy:\", metrics.accuracy_score(y_test, y_pred))"
   ]
  },
  {
   "cell_type": "markdown",
   "metadata": {},
   "source": [
    "A pesar de tener una varianza pequeña resultan importantes estas variables para realizar una buena predicción. Funcionan bien en conjunto. ¿Son candidatas a un proceso de feature engineering? Probablemente se puedan compactar en una única variable, pero eso es otro tema.\n"
   ]
  }
 ],
 "metadata": {
  "kernelspec": {
   "display_name": "Python 3",
   "language": "python",
   "name": "python3"
  },
  "language_info": {
   "codemirror_mode": {
    "name": "ipython",
    "version": 3
   },
   "file_extension": ".py",
   "mimetype": "text/x-python",
   "name": "python",
   "nbconvert_exporter": "python",
   "pygments_lexer": "ipython3",
   "version": "3.10.12"
  }
 },
 "nbformat": 4,
 "nbformat_minor": 2
}
