{
 "cells": [
  {
   "cell_type": "markdown",
   "metadata": {},
   "source": [
    "# Test Chi2 como prueba de independencia de variables. "
   ]
  },
  {
   "cell_type": "markdown",
   "metadata": {},
   "source": [
    "El objetivo es saber si existe una relación entre la predictora y el target mas alla de lo que razonablemente podría producir el azar."
   ]
  },
  {
   "cell_type": "code",
   "execution_count": 12,
   "metadata": {},
   "outputs": [],
   "source": [
    "import pandas as pd\n",
    "import numpy as np\n",
    "import seaborn as sns\n",
    "import matplotlib.pyplot as plt\n",
    "import sys\n",
    "import random\n",
    "from scipy.stats import chi2_contingency"
   ]
  },
  {
   "cell_type": "code",
   "execution_count": 13,
   "metadata": {},
   "outputs": [],
   "source": [
    "df = pd.read_csv(\"../datasets/titanic.csv\")\n",
    "df = df[[\"Sex\", \"Survived\"]]"
   ]
  },
  {
   "cell_type": "markdown",
   "metadata": {},
   "source": [
    "Modifiquemos artificialmente el dataframe para hacer que las diferencias no sean tan grandes y el p_value no tan bajo."
   ]
  },
  {
   "cell_type": "code",
   "execution_count": 14,
   "metadata": {},
   "outputs": [],
   "source": [
    "females = df[(df['Sex'] == 'female') & (df['Survived'] == 1)]\n",
    "fem_index = females.sample(frac=0.8, random_state=42)\n",
    "df.loc[fem_index.index, 'Survived'] = 0\n"
   ]
  },
  {
   "cell_type": "code",
   "execution_count": 15,
   "metadata": {},
   "outputs": [],
   "source": [
    "df_observed = pd.crosstab(df['Survived'], df['Sex'])\n",
    "chi2, p, dof, expected = chi2_contingency(df_observed)\n",
    "# Convertir los resultados esperados a un DataFrame\n",
    "df_expected = pd.DataFrame(expected, index=df_observed.index, columns=df_observed.columns)\n"
   ]
  },
  {
   "cell_type": "code",
   "execution_count": 16,
   "metadata": {},
   "outputs": [
    {
     "data": {
      "text/html": [
       "<div>\n",
       "<style scoped>\n",
       "    .dataframe tbody tr th:only-of-type {\n",
       "        vertical-align: middle;\n",
       "    }\n",
       "\n",
       "    .dataframe tbody tr th {\n",
       "        vertical-align: top;\n",
       "    }\n",
       "\n",
       "    .dataframe thead th {\n",
       "        text-align: right;\n",
       "    }\n",
       "</style>\n",
       "<table border=\"1\" class=\"dataframe\">\n",
       "  <thead>\n",
       "    <tr style=\"text-align: right;\">\n",
       "      <th>Sex</th>\n",
       "      <th>female</th>\n",
       "      <th>male</th>\n",
       "    </tr>\n",
       "    <tr>\n",
       "      <th>Survived</th>\n",
       "      <th></th>\n",
       "      <th></th>\n",
       "    </tr>\n",
       "  </thead>\n",
       "  <tbody>\n",
       "    <tr>\n",
       "      <th>0</th>\n",
       "      <td>267</td>\n",
       "      <td>468</td>\n",
       "    </tr>\n",
       "    <tr>\n",
       "      <th>1</th>\n",
       "      <td>47</td>\n",
       "      <td>109</td>\n",
       "    </tr>\n",
       "  </tbody>\n",
       "</table>\n",
       "</div>"
      ],
      "text/plain": [
       "Sex       female  male\n",
       "Survived              \n",
       "0            267   468\n",
       "1             47   109"
      ]
     },
     "execution_count": 16,
     "metadata": {},
     "output_type": "execute_result"
    }
   ],
   "source": [
    "df_observed"
   ]
  },
  {
   "cell_type": "code",
   "execution_count": 17,
   "metadata": {},
   "outputs": [
    {
     "data": {
      "text/html": [
       "<div>\n",
       "<style scoped>\n",
       "    .dataframe tbody tr th:only-of-type {\n",
       "        vertical-align: middle;\n",
       "    }\n",
       "\n",
       "    .dataframe tbody tr th {\n",
       "        vertical-align: top;\n",
       "    }\n",
       "\n",
       "    .dataframe thead th {\n",
       "        text-align: right;\n",
       "    }\n",
       "</style>\n",
       "<table border=\"1\" class=\"dataframe\">\n",
       "  <thead>\n",
       "    <tr style=\"text-align: right;\">\n",
       "      <th>Sex</th>\n",
       "      <th>female</th>\n",
       "      <th>male</th>\n",
       "    </tr>\n",
       "    <tr>\n",
       "      <th>Survived</th>\n",
       "      <th></th>\n",
       "      <th></th>\n",
       "    </tr>\n",
       "  </thead>\n",
       "  <tbody>\n",
       "    <tr>\n",
       "      <th>0</th>\n",
       "      <td>259.023569</td>\n",
       "      <td>475.976431</td>\n",
       "    </tr>\n",
       "    <tr>\n",
       "      <th>1</th>\n",
       "      <td>54.976431</td>\n",
       "      <td>101.023569</td>\n",
       "    </tr>\n",
       "  </tbody>\n",
       "</table>\n",
       "</div>"
      ],
      "text/plain": [
       "Sex           female        male\n",
       "Survived                        \n",
       "0         259.023569  475.976431\n",
       "1          54.976431  101.023569"
      ]
     },
     "execution_count": 17,
     "metadata": {},
     "output_type": "execute_result"
    }
   ],
   "source": [
    "df_expected"
   ]
  },
  {
   "cell_type": "code",
   "execution_count": 18,
   "metadata": {},
   "outputs": [
    {
     "name": "stdout",
     "output_type": "stream",
     "text": [
      "Tabla Observada:\n",
      "Sex       female  male\n",
      "Survived              \n",
      "0            267   468\n",
      "1             47   109\n",
      "\n",
      "Tabla Esperada:\n",
      "Sex           female        male\n",
      "Survived                        \n",
      "0         259.023569  475.976431\n",
      "1          54.976431  101.023569\n",
      "\n",
      "Valor chi-cuadrado: 1.9032873881688628\n",
      "p-valor: 0.16771081683836875\n"
     ]
    }
   ],
   "source": [
    "print(\"Tabla Observada:\")\n",
    "print(df_observed)\n",
    "print(\"\\nTabla Esperada:\")\n",
    "print(df_expected)\n",
    "print(f\"\\nValor chi-cuadrado: {chi2}\")\n",
    "print(f\"p-valor: {p}\")"
   ]
  },
  {
   "cell_type": "markdown",
   "metadata": {},
   "source": [
    "¿Se pueden obtener resultados similares via remuestreo? Esta alternativa, disponible por la disponibilidad de computadoras puede independizarnos de los supuestos asociados a los test paramétricos."
   ]
  },
  {
   "cell_type": "markdown",
   "metadata": {},
   "source": [
    "## Chi-Square Test\n",
    "### Chi-Square Test: enfoque via permutaciones"
   ]
  },
  {
   "cell_type": "code",
   "execution_count": 19,
   "metadata": {},
   "outputs": [
    {
     "name": "stdout",
     "output_type": "stream",
     "text": [
      "1.9032873881688628 0.16771081683836875\n"
     ]
    }
   ],
   "source": [
    "contingency_table = pd.crosstab(df['Sex'], df['Survived'])\n",
    "chi2_obs, p_obs, dof, expected = chi2_contingency(contingency_table)\n",
    "print(chi2_obs, p_obs)"
   ]
  },
  {
   "cell_type": "code",
   "execution_count": 20,
   "metadata": {},
   "outputs": [
    {
     "name": "stdout",
     "output_type": "stream",
     "text": [
      "Estadístico chi-cuadrado observado: 1.9032873881688628\n",
      "Valor p obtenido del test de permutación: 0.1638\n"
     ]
    }
   ],
   "source": [
    "\n",
    "# Número de permutaciones\n",
    "n_per = 10000\n",
    "chi2_per = []\n",
    "\n",
    "# Ensayo de permutación\n",
    "for _ in range(n_per):\n",
    "    # Permutar la columna 'Survived'\n",
    "    df['Survived_permutado'] = np.random.permutation(df['Survived'])\n",
    "    \n",
    "    # Crear tabla de contingencia con la variable permutada\n",
    "    contingency_table_perm = pd.crosstab(df['Sex'], df['Survived_permutado'])\n",
    "    \n",
    "    # Calcular el estadístico chi-cuadrado para la permutación\n",
    "    chi2_perm, _, _, _ = chi2_contingency(contingency_table_perm)\n",
    "    chi2_per.append(chi2_perm)\n",
    "\n",
    "# Calcular el valor p como la proporción de chi2_perm ≥ chi2_obs\n",
    "p_valor = np.mean(np.array(chi2_per) >= chi2_obs)\n",
    "\n",
    "print(f'Estadístico chi-cuadrado observado: {chi2_obs}')\n",
    "print(f'Valor p obtenido del test de permutación: {p_valor}')\n"
   ]
  },
  {
   "cell_type": "code",
   "execution_count": 21,
   "metadata": {},
   "outputs": [
    {
     "data": {
      "image/png": "[encoded data removed]",
      "text/plain": [
       "<Figure size 640x480 with 1 Axes>"
      ]
     },
     "metadata": {},
     "output_type": "display_data"
    }
   ],
   "source": [
    "plt.hist(chi2_per, bins=30, color='blue', alpha=0.5)\n",
    "plt.axvline(chi2_obs, color='red', linestyle='dashed', linewidth=2)\n",
    "plt.xlabel('Valor de chi-cuadrado')\n",
    "plt.ylabel('Frecuencia')\n",
    "plt.title('Distribución de chi-cuadrado bajo la hipótesis nula')\n",
    "plt.show()"
   ]
  },
  {
   "cell_type": "markdown",
   "metadata": {},
   "source": [
    "# Ejercicio: desarrollar un test estadistico para rechazar o aceptar la hipotesis nula de independencia de variables para Pclass vs survived"
   ]
  }
 ],
 "metadata": {
  "kernelspec": {
   "display_name": "Python 3",
   "language": "python",
   "name": "python3"
  },
  "language_info": {
   "codemirror_mode": {
    "name": "ipython",
    "version": 3
   },
   "file_extension": ".py",
   "mimetype": "text/x-python",
   "name": "python",
   "nbconvert_exporter": "python",
   "pygments_lexer": "ipython3",
   "version": "3.10.12"
  }
 },
 "nbformat": 4,
 "nbformat_minor": 2
}
