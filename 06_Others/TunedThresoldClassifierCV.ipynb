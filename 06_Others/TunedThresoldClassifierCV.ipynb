{
 "cells": [
  {
   "cell_type": "code",
   "execution_count": null,
   "metadata": {},
   "outputs": [],
   "source": [
    "Pendiente"
   ]
  },
  {
   "cell_type": "code",
   "execution_count": null,
   "metadata": {},
   "outputs": [],
   "source": [
    "from sklearn.model_selection import TunedThresholdClassifierCV\n",
    "tuned_model = TunedThresholdClassifierCV(\n",
    "    estimator=model,\n",
    "    scoring=\"recall\",#scoring[\"cost_gain\"],\n",
    "    store_cv_results=True,  # necessary to inspect all results\n",
    ")\n",
    "tuned_model.fit(X_train, y_train)\n",
    "print(f\"{tuned_model.best_threshold_=:0.2f}\")"
   ]
  }
 ],
 "metadata": {
  "language_info": {
   "name": "python"
  }
 },
 "nbformat": 4,
 "nbformat_minor": 2
}
