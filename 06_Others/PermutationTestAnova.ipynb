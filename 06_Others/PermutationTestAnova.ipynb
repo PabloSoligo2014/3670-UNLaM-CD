{
 "cells": [
  {
   "cell_type": "markdown",
   "metadata": {},
   "source": [
    "# Anova\n",
    "## Analisis de varianza"
   ]
  },
  {
   "cell_type": "markdown",
   "metadata": {},
   "source": [
    "El objetivo es conocer si es razonable pensar que un efecto puede deberse al azar. En el caso anova sera categorico -> numerico"
   ]
  },
  {
   "cell_type": "markdown",
   "metadata": {},
   "source": [
    "Para nuestro ejemplo supongamos 4 estados, soltero, casado, separado o viudo vs presión en sangre :)"
   ]
  },
  {
   "cell_type": "code",
   "execution_count": 3,
   "metadata": {},
   "outputs": [
    {
     "data": {
      "text/html": [
       "<div>\n",
       "<style scoped>\n",
       "    .dataframe tbody tr th:only-of-type {\n",
       "        vertical-align: middle;\n",
       "    }\n",
       "\n",
       "    .dataframe tbody tr th {\n",
       "        vertical-align: top;\n",
       "    }\n",
       "\n",
       "    .dataframe thead th {\n",
       "        text-align: right;\n",
       "    }\n",
       "</style>\n",
       "<table border=\"1\" class=\"dataframe\">\n",
       "  <thead>\n",
       "    <tr style=\"text-align: right;\">\n",
       "      <th></th>\n",
       "      <th>EstadoCivil</th>\n",
       "      <th>Target</th>\n",
       "    </tr>\n",
       "  </thead>\n",
       "  <tbody>\n",
       "    <tr>\n",
       "      <th>0</th>\n",
       "      <td>Viudo/a</td>\n",
       "      <td>18.591077</td>\n",
       "    </tr>\n",
       "    <tr>\n",
       "      <th>1</th>\n",
       "      <td>Casado/a</td>\n",
       "      <td>23.099493</td>\n",
       "    </tr>\n",
       "    <tr>\n",
       "      <th>2</th>\n",
       "      <td>Soltero/a</td>\n",
       "      <td>10.899471</td>\n",
       "    </tr>\n",
       "    <tr>\n",
       "      <th>3</th>\n",
       "      <td>Soltero/a</td>\n",
       "      <td>9.711906</td>\n",
       "    </tr>\n",
       "    <tr>\n",
       "      <th>4</th>\n",
       "      <td>Casado/a</td>\n",
       "      <td>32.109604</td>\n",
       "    </tr>\n",
       "  </tbody>\n",
       "</table>\n",
       "</div>"
      ],
      "text/plain": [
       "  EstadoCivil     Target\n",
       "0     Viudo/a  18.591077\n",
       "1    Casado/a  23.099493\n",
       "2   Soltero/a  10.899471\n",
       "3   Soltero/a   9.711906\n",
       "4    Casado/a  32.109604"
      ]
     },
     "execution_count": 3,
     "metadata": {},
     "output_type": "execute_result"
    }
   ],
   "source": [
    "import numpy as np\n",
    "from matplotlib import pyplot as plt\n",
    "import pandas as pd\n",
    "import numpy as np\n",
    "import pandas as pd\n",
    "from sklearn.utils import shuffle\n",
    "np.random.seed(42)\n",
    "n_samples = 1000\n",
    "categories = ['Soltero/a', 'Casado/a', 'Separado/a', 'Viudo/a']\n",
    "\n",
    "# Asocia promedios de target con categorías\n",
    "category_means = {'Soltero/a': 10, 'Casado/a': 30, 'Separado/a': 40, 'Viudo/a': 20}\n",
    "\n",
    "# Genera datos\n",
    "categorical_column = np.random.choice(categories, size=n_samples)\n",
    "target = np.array([category_means[cat] + np.random.normal(0, 5) for cat in categorical_column])\n",
    "\n",
    "# Crear un DataFrame\n",
    "df = pd.DataFrame({'EstadoCivil': categorical_column, 'Target': target})\n",
    "\n",
    "# Mezclar los datos para mayor aleatoriedad\n",
    "df = shuffle(df).reset_index(drop=True)\n",
    "\n",
    "df.head()\n"
   ]
  },
  {
   "cell_type": "code",
   "execution_count": null,
   "metadata": {},
   "outputs": [
    {
     "data": {
      "image/png": "[encoded data removed]",
      "text/plain": [
       "<Figure size 576x360 with 1 Axes>"
      ]
     },
     "metadata": {
      "needs_background": "light"
     },
     "output_type": "display_data"
    }
   ],
   "source": [
    "ax = df.boxplot(by='EstadoCivil', column='Target', figsize=(8, 5))\n",
    "ax.set_xlabel('EstadoCivil')\n",
    "ax.set_ylabel('Presion arterial')\n",
    "plt.suptitle('')\n",
    "plt.title('')\n",
    "\n",
    "plt.tight_layout()\n",
    "plt.show()"
   ]
  },
  {
   "cell_type": "markdown",
   "metadata": {},
   "source": [
    "Parece si hay una relacion entre el estado civil y la presión...¿pero es real o se debe al azar? Por supuesto, asumo H0=ninguna diferencia"
   ]
  },
  {
   "cell_type": "markdown",
   "metadata": {},
   "source": [
    "1.Agrupo todos los datos en una única caja</BR>\n",
    "2.Mezclamos y extraemos 4 remuestreos con la cantidad original de elementos</BR>\n",
    "3.Registramos la media de cada uno de los 4 grupos</BR>\n",
    "4.Registramos la varianza entre las medias de los 4 grupos</BR>\n",
    "5.Repetimos pasos 2 a 4 muchas, digamos 1000 veces</BR>\n",
    "¿En que proporción de tiempo la varianza muestreada de forma repetida excedio al varianza observada? Ese es el valor de p.\n",
    "(Bruce, Bruce y Gedeck)\n"
   ]
  },
  {
   "cell_type": "code",
   "execution_count": 258,
   "metadata": {},
   "outputs": [],
   "source": [
    "prob_A = 0.55\n",
    "prob_B = 0.6\n",
    "samples = 10000\n",
    "# 1000 visitas a la página A y 1000 visitas a la página B\n",
    "exitos_A = np.random.binomial(1, prob_A, samples)\n",
    "exitos_B = np.random.binomial(1, prob_B, samples)"
   ]
  },
  {
   "cell_type": "markdown",
   "metadata": {},
   "source": [
    "Hipotesis nula = \"El sitio A y B son iguales\"</BR>\n",
    "Hipotesis alternativa = \"El sitio B es mejor\"</BR>\n",
    "(Se aplica bidireccional solo por ser mas conservador)"
   ]
  },
  {
   "cell_type": "code",
   "execution_count": 259,
   "metadata": {},
   "outputs": [
    {
     "name": "stdout",
     "output_type": "stream",
     "text": [
      "A: 5588 -> B: 5988 -> diff: 400\n"
     ]
    }
   ],
   "source": [
    "diff = np.sum(exitos_B) - np.sum(exitos_A)\n",
    "print(\"A: {} -> B: {} -> diff: {}\".format(np.sum(exitos_A), np.sum(exitos_B), diff))"
   ]
  },
  {
   "cell_type": "markdown",
   "metadata": {},
   "source": []
  },
  {
   "cell_type": "markdown",
   "metadata": {},
   "source": [
    "Metemos todos los datos en una única bolsa."
   ]
  },
  {
   "cell_type": "code",
   "execution_count": 260,
   "metadata": {},
   "outputs": [],
   "source": [
    "pagina = ['A'] * len(exitos_A) + ['B'] * len(exitos_B)\n",
    "grupo = np.concatenate((exitos_A, exitos_B))  \n",
    "df = pd.DataFrame({\n",
    "    'Pagina': pagina,\n",
    "    'exito': grupo,\n",
    "    \n",
    "})\n"
   ]
  },
  {
   "cell_type": "markdown",
   "metadata": {},
   "source": [
    "Obtengo dos muestras sin reposicion...calculo la tasa de exitos y las diferencias. La media de las diferencias tendra distribución normal por el teorema del límite central. Almaceno las medias."
   ]
  },
  {
   "cell_type": "code",
   "execution_count": 261,
   "metadata": {},
   "outputs": [],
   "source": [
    "vals = []\n",
    "\n",
    "for i in range(1000): \n",
    "    df_sample_1 = df.sample(n=samples, replace=False)\n",
    "    df_sample_2 = df.drop(df_sample_1.index)\n",
    "    vals.append(np.sum(df_sample_2[\"exito\"])-np.sum(df_sample_1[\"exito\"]))\n"
   ]
  },
  {
   "cell_type": "markdown",
   "metadata": {},
   "source": [
    "Grafico para visualizar los resultados. Tambien obtengo el valor de p para tener una referencia numérica"
   ]
  },
  {
   "cell_type": "code",
   "execution_count": 262,
   "metadata": {},
   "outputs": [
    {
     "data": {
      "image/png": "[encoded data removed]",
      "text/plain": [
       "<Figure size 432x288 with 1 Axes>"
      ]
     },
     "metadata": {
      "needs_background": "light"
     },
     "output_type": "display_data"
    }
   ],
   "source": [
    "p_value = np.mean(vals >= diff)\n",
    "plt.hist(vals, bins=20, edgecolor='black')\n",
    "plt.axvline(x=diff, color='red', linestyle='--', linewidth=2, label=f'x = {diff}')\n",
    "# Añadir etiquetas y leyenda\n",
    "plt.xlabel('p-value {:.2}'.format(p_value)) \n",
    "plt.ylabel('Frecuencia')\n",
    "plt.title('¿Tan extremo como para ser azar?')\n",
    "plt.legend()\n",
    "\n",
    "plt.show()"
   ]
  },
  {
   "cell_type": "code",
   "execution_count": null,
   "metadata": {},
   "outputs": [],
   "source": [
    "\n"
   ]
  },
  {
   "cell_type": "code",
   "execution_count": null,
   "metadata": {},
   "outputs": [],
   "source": []
  },
  {
   "cell_type": "code",
   "execution_count": null,
   "metadata": {},
   "outputs": [],
   "source": []
  },
  {
   "cell_type": "code",
   "execution_count": null,
   "metadata": {},
   "outputs": [],
   "source": []
  },
  {
   "cell_type": "code",
   "execution_count": 256,
   "metadata": {},
   "outputs": [
    {
     "data": {
      "text/plain": [
       "18"
      ]
     },
     "execution_count": 256,
     "metadata": {},
     "output_type": "execute_result"
    }
   ],
   "source": [
    "diff "
   ]
  }
 ],
 "metadata": {
  "kernelspec": {
   "display_name": "Python 3",
   "language": "python",
   "name": "python3"
  },
  "language_info": {
   "codemirror_mode": {
    "name": "ipython",
    "version": 3
   },
   "file_extension": ".py",
   "mimetype": "text/x-python",
   "name": "python",
   "nbconvert_exporter": "python",
   "pygments_lexer": "ipython3",
   "version": "3.10.1"
  }
 },
 "nbformat": 4,
 "nbformat_minor": 2
}
