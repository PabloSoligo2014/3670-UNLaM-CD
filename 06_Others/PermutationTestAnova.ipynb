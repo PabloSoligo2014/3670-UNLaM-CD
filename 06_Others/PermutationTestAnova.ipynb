{
 "cells": [
  {
   "cell_type": "markdown",
   "metadata": {},
   "source": [
    "# Anova\n",
    "## Analisis de varianza"
   ]
  },
  {
   "cell_type": "markdown",
   "metadata": {},
   "source": [
    "El objetivo es conocer si es razonable pensar que un efecto puede deberse al azar. En el caso anova sera categorico -> numerico"
   ]
  },
  {
   "cell_type": "markdown",
   "metadata": {},
   "source": [
    "Para nuestro ejemplo supongamos 4 estados, soltero, casado, separado o viudo vs presión en sangre :)"
   ]
  },
  {
   "cell_type": "code",
   "execution_count": 135,
   "metadata": {},
   "outputs": [
    {
     "data": {
      "image/png": "[encoded data removed]",
      "text/plain": [
       "<Figure size 576x360 with 1 Axes>"
      ]
     },
     "metadata": {
      "needs_background": "light"
     },
     "output_type": "display_data"
    }
   ],
   "source": [
    "import numpy as np\n",
    "from matplotlib import pyplot as plt\n",
    "import pandas as pd\n",
    "import numpy as np\n",
    "import pandas as pd\n",
    "from sklearn.utils import shuffle\n",
    "np.random.seed(42)\n",
    "n_samples = 70\n",
    "categories = ['Soltero/a', 'Casado/a', 'Separado/a', 'Viudo/a']\n",
    "\n",
    "# Asocia promedios de target con categorías\n",
    "category_means_sd = {'Soltero/a': (19,2.5), 'Casado/a': (20,3.5), 'Separado/a': (21,2.2), 'Viudo/a': (18,4)}\n",
    "\n",
    "# Genera datos\n",
    "categorical_column = np.random.choice(categories, size=n_samples)\n",
    "target = np.zeros(n_samples)\n",
    "for category, (mean, sd) in zip(category_means_sd.keys(), category_means_sd.values()):\n",
    "    target[categorical_column == category] = np.random.normal(mean, sd, size=(categorical_column == category).sum())\n",
    "    \n",
    "df = pd.DataFrame({'EstadoCivil': categorical_column, 'Target': target})\n",
    "df = shuffle(df).reset_index(drop=True)\n",
    "ax = df.boxplot(by='EstadoCivil', column='Target', figsize=(8, 5))\n",
    "ax.set_xlabel('EstadoCivil')\n",
    "ax.set_ylabel('Presion arterial')\n",
    "plt.suptitle('')\n",
    "plt.title('')\n",
    "\n",
    "plt.tight_layout()\n",
    "plt.show()\n",
    "#df['EstadoCivil'].value_counts().plot(kind='bar')\n"
   ]
  },
  {
   "cell_type": "markdown",
   "metadata": {},
   "source": [
    "Parece si hay una relación entre el estado civil y la presión...¿pero es real o se debe al azar? Por supuesto, asumo H0=ninguna diferencia"
   ]
  },
  {
   "cell_type": "markdown",
   "metadata": {},
   "source": [
    "1.Agrupo todos los datos en una única caja</BR>\n",
    "2.Mezclamos y extraemos 4 remuestreos con la cantidad original de elementos</BR>\n",
    "3.Registramos la media de cada uno de los 4 grupos</BR>\n",
    "4.Registramos la varianza entre las medias de los 4 grupos</BR>\n",
    "5.Repetimos pasos 2 a 4 muchas, digamos 1000 veces</BR>\n",
    "¿En que proporción de tiempo la varianza muestreada de forma repetida excedio al varianza observada? Ese es el valor de p.\n",
    "(Bruce, Bruce y Gedeck)\n"
   ]
  },
  {
   "cell_type": "code",
   "execution_count": 136,
   "metadata": {},
   "outputs": [
    {
     "name": "stdout",
     "output_type": "stream",
     "text": [
      "Observed means: [19.55339574 21.31404554 19.40958978 18.71444172]\n",
      "Variance: 1.2243778606309041\n"
     ]
    }
   ],
   "source": [
    "# medias y varianzas observadas\n",
    "#Atención que es la varianza entre los grupos, no la varianza dentro del grupo\n",
    "observed_variance = df.groupby('EstadoCivil').mean().var()[0]\n",
    "print('Observed means:', df.groupby('EstadoCivil').mean().values.ravel())\n",
    "print('Variance:', observed_variance)"
   ]
  },
  {
   "cell_type": "code",
   "execution_count": 137,
   "metadata": {},
   "outputs": [
    {
     "data": {
      "text/plain": [
       "EstadoCivil\n",
       "Viudo/a       21\n",
       "Separado/a    20\n",
       "Soltero/a     15\n",
       "Casado/a      14\n",
       "Name: count, dtype: int64"
      ]
     },
     "execution_count": 137,
     "metadata": {},
     "output_type": "execute_result"
    }
   ],
   "source": [
    "samples_per_category = df['EstadoCivil'].value_counts()\n",
    "samples_per_category"
   ]
  },
  {
   "cell_type": "code",
   "execution_count": 138,
   "metadata": {},
   "outputs": [],
   "source": [
    "means = []\n",
    "variances = []\n",
    "for i in range(1000):\n",
    "    remaining_df = df.copy()\n",
    "    lmeans = []\n",
    "    for sc, j in zip(samples_per_category, range(len(samples_per_category))):\n",
    "        sample = remaining_df.sample(n=sc, random_state=i)  # Selección sin reposición\n",
    "        lmeans.append(sample[\"Target\"].mean())\n",
    "        remaining_df = remaining_df.drop(sample.index)\n",
    "        \n",
    "    variances.append(np.var(lmeans))    \n",
    "    means.append(lmeans)\n",
    "    \n",
    "\n"
   ]
  },
  {
   "cell_type": "code",
   "execution_count": 139,
   "metadata": {},
   "outputs": [
    {
     "data": {
      "image/png": "[encoded data removed]",
      "text/plain": [
       "<Figure size 432x288 with 1 Axes>"
      ]
     },
     "metadata": {
      "needs_background": "light"
     },
     "output_type": "display_data"
    }
   ],
   "source": [
    "p_value = np.mean([var > observed_variance for var in variances])\n",
    "plt.hist(variances, bins=30)\n",
    "plt.axvline(x = observed_variance, color='r', lw=2)\n",
    "plt.xlabel('Varianza')\n",
    "plt.ylabel('Frecuencia')\n",
    "plt.title('Distribución de varianzas entre grupos: p-value {:.2f}'.format(p_value))\n",
    "plt.show()"
   ]
  }
 ],
 "metadata": {
  "kernelspec": {
   "display_name": "Python 3",
   "language": "python",
   "name": "python3"
  },
  "language_info": {
   "codemirror_mode": {
    "name": "ipython",
    "version": 3
   },
   "file_extension": ".py",
   "mimetype": "text/x-python",
   "name": "python",
   "nbconvert_exporter": "python",
   "pygments_lexer": "ipython3",
   "version": "3.10.1"
  }
 },
 "nbformat": 4,
 "nbformat_minor": 2
}
