{
 "cells": [
  {
   "cell_type": "markdown",
   "metadata": {},
   "source": [
    "# Pruebas de permutación"
   ]
  },
  {
   "cell_type": "markdown",
   "metadata": {},
   "source": [
    "El objetivo del experimento es conocer cual de los dos sitios web imaginarios funciona mejor con potenciales clientes seleccionados al azar"
   ]
  },
  {
   "cell_type": "code",
   "execution_count": 250,
   "metadata": {},
   "outputs": [],
   "source": [
    "import numpy as np\n",
    "from matplotlib import pyplot as plt\n",
    "import pandas as pd"
   ]
  },
  {
   "cell_type": "markdown",
   "metadata": {},
   "source": [
    "La probabilidad de conversión para el sitio A es de 0.5, la probabilidad para el sitio B es de 0.6, vamos a intentar establecer si son iguales o el B demuestra ser mejor."
   ]
  },
  {
   "cell_type": "markdown",
   "metadata": {},
   "source": [
    "Se debe probar de cambiar las probabilidades, y el tamaño de la muestra. Diferencias pequeñas en las probabilidades con tamaños de muestra pequeños no alcanzaran a demostrar que realmente las probabilidades no son iguales. "
   ]
  },
  {
   "cell_type": "code",
   "execution_count": 258,
   "metadata": {},
   "outputs": [],
   "source": [
    "prob_A = 0.55\n",
    "prob_B = 0.6\n",
    "samples = 10000\n",
    "# 1000 visitas a la página A y 1000 visitas a la página B\n",
    "exitos_A = np.random.binomial(1, prob_A, samples)\n",
    "exitos_B = np.random.binomial(1, prob_B, samples)"
   ]
  },
  {
   "cell_type": "markdown",
   "metadata": {},
   "source": [
    "Hipotesis nula = \"El sitio A y B son iguales\"</BR>\n",
    "Hipotesis alternativa = \"El sitio B es mejor\"</BR>\n",
    "(Se aplica bidireccional solo por ser mas conservador)"
   ]
  },
  {
   "cell_type": "code",
   "execution_count": 259,
   "metadata": {},
   "outputs": [
    {
     "name": "stdout",
     "output_type": "stream",
     "text": [
      "A: 5588 -> B: 5988 -> diff: 400\n"
     ]
    }
   ],
   "source": [
    "diff = np.sum(exitos_B) - np.sum(exitos_A)\n",
    "print(\"A: {} -> B: {} -> diff: {}\".format(np.sum(exitos_A), np.sum(exitos_B), diff))"
   ]
  },
  {
   "cell_type": "markdown",
   "metadata": {},
   "source": [
    "Tenemos una diferencia de 32, el sitio B parece ser mejor pero...¿esa diferencia es real o se debe al azar?"
   ]
  },
  {
   "cell_type": "markdown",
   "metadata": {},
   "source": [
    "Metemos todos los datos en una única bolsa."
   ]
  },
  {
   "cell_type": "code",
   "execution_count": 260,
   "metadata": {},
   "outputs": [],
   "source": [
    "pagina = ['A'] * len(exitos_A) + ['B'] * len(exitos_B)\n",
    "grupo = np.concatenate((exitos_A, exitos_B))  \n",
    "df = pd.DataFrame({\n",
    "    'Pagina': pagina,\n",
    "    'exito': grupo,\n",
    "    \n",
    "})\n"
   ]
  },
  {
   "cell_type": "markdown",
   "metadata": {},
   "source": [
    "Obtengo dos muestras sin reposicion...calculo la tasa de exitos y las diferencias. La media de las diferencias tendra distribución normal por el teorema del límite central. Almaceno las medias."
   ]
  },
  {
   "cell_type": "code",
   "execution_count": 261,
   "metadata": {},
   "outputs": [],
   "source": [
    "vals = []\n",
    "\n",
    "for i in range(1000): \n",
    "    df_sample_1 = df.sample(n=samples, replace=False)\n",
    "    df_sample_2 = df.drop(df_sample_1.index)\n",
    "    vals.append(np.sum(df_sample_2[\"exito\"])-np.sum(df_sample_1[\"exito\"]))\n"
   ]
  },
  {
   "cell_type": "markdown",
   "metadata": {},
   "source": [
    "Grafico para visualizar los resultados. Tambien obtengo el valor de p para tener una referencia numérica"
   ]
  },
  {
   "cell_type": "code",
   "execution_count": 262,
   "metadata": {},
   "outputs": [
    {
     "data": {
      "image/png": "[encoded data removed]",
      "text/plain": [
       "<Figure size 432x288 with 1 Axes>"
      ]
     },
     "metadata": {
      "needs_background": "light"
     },
     "output_type": "display_data"
    }
   ],
   "source": [
    "p_value = np.mean(vals >= diff)\n",
    "plt.hist(vals, bins=20, edgecolor='black')\n",
    "plt.axvline(x=diff, color='red', linestyle='--', linewidth=2, label=f'x = {diff}')\n",
    "# Añadir etiquetas y leyenda\n",
    "plt.xlabel('p-value {:.2}'.format(p_value)) \n",
    "plt.ylabel('Frecuencia')\n",
    "plt.title('¿Tan extremo como para ser azar?')\n",
    "plt.legend()\n",
    "\n",
    "plt.show()"
   ]
  },
  {
   "cell_type": "code",
   "execution_count": null,
   "metadata": {},
   "outputs": [],
   "source": [
    "\n"
   ]
  },
  {
   "cell_type": "code",
   "execution_count": null,
   "metadata": {},
   "outputs": [],
   "source": []
  },
  {
   "cell_type": "code",
   "execution_count": null,
   "metadata": {},
   "outputs": [],
   "source": []
  },
  {
   "cell_type": "code",
   "execution_count": null,
   "metadata": {},
   "outputs": [],
   "source": []
  },
  {
   "cell_type": "code",
   "execution_count": 256,
   "metadata": {},
   "outputs": [
    {
     "data": {
      "text/plain": [
       "18"
      ]
     },
     "execution_count": 256,
     "metadata": {},
     "output_type": "execute_result"
    }
   ],
   "source": [
    "diff "
   ]
  }
 ],
 "metadata": {
  "kernelspec": {
   "display_name": "Python 3",
   "language": "python",
   "name": "python3"
  },
  "language_info": {
   "codemirror_mode": {
    "name": "ipython",
    "version": 3
   },
   "file_extension": ".py",
   "mimetype": "text/x-python",
   "name": "python",
   "nbconvert_exporter": "python",
   "pygments_lexer": "ipython3",
   "version": "3.10.1"
  }
 },
 "nbformat": 4,
 "nbformat_minor": 2
}
