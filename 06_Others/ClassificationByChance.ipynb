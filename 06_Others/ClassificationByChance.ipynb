{
 "cells": [
  {
   "cell_type": "code",
   "execution_count": 55,
   "metadata": {},
   "outputs": [],
   "source": [
    "import pandas as pd\n",
    "import matplotlib.pyplot as plt\n",
    "from sklearn.preprocessing import StandardScaler\n",
    "import numpy as np\n",
    "from sklearn.ensemble import RandomForestClassifier\n",
    "from sklearn.neighbors import KNeighborsClassifier\n",
    "from sklearn.preprocessing import OrdinalEncoder, LabelEncoder\n",
    "from sklearn.model_selection import train_test_split\n",
    "from sklearn.tree import DecisionTreeClassifier, plot_tree\n",
    "import sys\n",
    "from sklearn.metrics import make_scorer\n",
    "import numpy as np\n",
    "import pandas as pd\n",
    "import seaborn as sns\n",
    "from sklearn.metrics import recall_score # métrica de evaluación\n",
    "from sklearn.metrics import classification_report\n",
    "from sklearn.model_selection import StratifiedKFold\n",
    "from sklearn.model_selection import GridSearchCV, RandomizedSearchCV\n",
    "from sklearn.model_selection import validation_curve\n",
    "from sklearn.metrics import confusion_matrix, ConfusionMatrixDisplay, roc_curve, auc\n",
    "import sys"
   ]
  },
  {
   "cell_type": "markdown",
   "metadata": {},
   "source": [
    "Hagamos una predicción, usando incluso un modelo muy simple"
   ]
  },
  {
   "cell_type": "code",
   "execution_count": 56,
   "metadata": {},
   "outputs": [
    {
     "name": "stdout",
     "output_type": "stream",
     "text": [
      "recall: 0.82\n"
     ]
    }
   ],
   "source": [
    "df = pd.read_csv(\"../datasets/bychange.csv\")\n",
    "X = df.drop(\"target\", axis=1)\n",
    "y = df[\"target\"]\n",
    "X_train, X_test, y_train, y_test = train_test_split(X, y, random_state=4, test_size=0.3)\n",
    "clf =  KNeighborsClassifier(metric='euclidean', n_neighbors=41)\n",
    "clf.fit(X_train, y_train)\n",
    "y_pred = clf.predict(X_test)\n",
    "or_recall = recall_score(y_test, y_pred)\n",
    "print(\"recall: {:.2f}\".format(or_recall)) "
   ]
  },
  {
   "cell_type": "markdown",
   "metadata": {},
   "source": [
    "Permuto/Mezclo el target para romper toda relación con las variables predictoras ¿Sigo obteniendo un buen score?"
   ]
  },
  {
   "cell_type": "code",
   "execution_count": 70,
   "metadata": {},
   "outputs": [
    {
     "data": {
      "image/png": "[encoded data removed]",
      "text/plain": [
       "<Figure size 432x288 with 1 Axes>"
      ]
     },
     "metadata": {
      "needs_background": "light"
     },
     "output_type": "display_data"
    }
   ],
   "source": [
    "permutations = 5000\n",
    "recalls = []\n",
    "  # Create a copy of y_train to shuffle\n",
    "\n",
    "for i in range(permutations):\n",
    "    y_train = np.random.permutation(y_train)\n",
    "    clf.fit(X_train, y_train)\n",
    "    y_pred = clf.predict(X_test)\n",
    "    recalls.append(recall_score(y_test, y_pred))\n",
    "\n",
    "plt.hist(recalls, bins=10)\n",
    "plt.xlabel(\"recalls\") \n",
    "plt.ylabel(\"Frequency\")\n",
    "plt.axvline(x=or_recall, color='red', linestyle='--', linewidth=2, label=\"recall {:.2f}\".format(or_recall))\n",
    "# Añadir etiquetas y leyenda\n",
    "plt.title('¿Tan extremo como para ser azar?')\n",
    "plt.legend()\n",
    "plt.show()  \n"
   ]
  },
  {
   "cell_type": "markdown",
   "metadata": {},
   "source": [
    "El ejemplo pretende mostrar que \"algo interesante\" puede surgir por casualidad."
   ]
  },
  {
   "cell_type": "markdown",
   "metadata": {},
   "source": [
    "----"
   ]
  },
  {
   "cell_type": "markdown",
   "metadata": {},
   "source": [
    "## Generación del dataset"
   ]
  },
  {
   "cell_type": "markdown",
   "metadata": {},
   "source": [
    "### Como se ve fue totalmente aleatorio"
   ]
  },
  {
   "cell_type": "code",
   "execution_count": null,
   "metadata": {},
   "outputs": [],
   "source": [
    "# Configuración\n",
    "n_samples               = 100  # Número de filas\n",
    "n_features              = 50  # Número de columnas de características\n",
    "categories_per_feature  = 5  # Número de categorías por columna\n",
    "\n",
    "# Generar características categóricas aleatorias\n",
    "X = np.random.randint(0, categories_per_feature, size=(n_samples, n_features))\n",
    "\n",
    "# Generar la variable objetivo binaria aleatoria\n",
    "y = np.random.randint(0, 2, size=n_samples)\n",
    "\n",
    "# Crear DataFrame\n",
    "columns = [f\"f{i+1}\" for i in range(n_features)]\n",
    "df = pd.DataFrame(X, columns=columns)\n",
    "df[\"target\"] = y\n",
    "\n",
    "df.to_csv(\"../datasets/bychange.csv\", index=False)\n",
    "df = pd.read_csv(\"../datasets/bychange.csv\")\n",
    "X = df.drop(\"target\", axis=1)\n",
    "y = df[\"target\"]\n",
    "X_train, X_test, y_train, y_test = train_test_split(X, y, random_state=4, test_size=0.3)\n",
    "param_grid = {\n",
    "    'n_neighbors': np.arange(1, 50),\n",
    "    'weights': ['uniform', 'distance'],\n",
    "    'metric': ['euclidean', 'manhattan', 'minkowski'],\n",
    "    #'min_impurity_decrease': []\n",
    "}\n",
    "model_gs = GridSearchCV(KNeighborsClassifier(), scoring='recall', param_grid=param_grid, cv=3, verbose=3, n_jobs=-1)\n",
    "model_gs.fit(X_train, y_train)\n",
    "y_pred = model_gs.predict(X_test)\n",
    "print(classification_report(y_test, y_pred))"
   ]
  }
 ],
 "metadata": {
  "kernelspec": {
   "display_name": "Python 3",
   "language": "python",
   "name": "python3"
  },
  "language_info": {
   "codemirror_mode": {
    "name": "ipython",
    "version": 3
   },
   "file_extension": ".py",
   "mimetype": "text/x-python",
   "name": "python",
   "nbconvert_exporter": "python",
   "pygments_lexer": "ipython3",
   "version": "3.10.1"
  }
 },
 "nbformat": 4,
 "nbformat_minor": 2
}
